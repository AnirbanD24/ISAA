{
 "cells": [
  {
   "cell_type": "markdown",
   "id": "4e535bc0",
   "metadata": {},
   "source": [
    "# RSA Algorithm"
   ]
  },
  {
   "cell_type": "code",
   "execution_count": 1,
   "id": "272512f1",
   "metadata": {},
   "outputs": [],
   "source": [
    "#importing necessary packages\n",
    "import random\n",
    "import time"
   ]
  },
  {
   "cell_type": "markdown",
   "id": "5bc7bc42",
   "metadata": {},
   "source": [
    "Using Euclid's Algorithm for finding the greatest common divisor: "
   ]
  },
  {
   "cell_type": "code",
   "execution_count": 2,
   "id": "5ec396ca",
   "metadata": {},
   "outputs": [],
   "source": [
    "def gcd(a,b):\n",
    "    while b!=0:\n",
    "        a,b=b,a%b\n",
    "    return a"
   ]
  },
  {
   "cell_type": "markdown",
   "id": "93c98285",
   "metadata": {},
   "source": [
    "Function to calculate d using multiplicative inverse:"
   ]
  },
  {
   "cell_type": "code",
   "execution_count": 3,
   "id": "0fec19a2",
   "metadata": {},
   "outputs": [],
   "source": [
    "def multiplicative_inverse(e, phi):\n",
    "    d = 0\n",
    "    x1 = 0 \n",
    "    x2 = 1\n",
    "    y1 = 1\n",
    "    temp_phi = phi\n",
    "    \n",
    "    while e > 0:\n",
    "        temp1 = temp_phi//e\n",
    "        temp2 = temp_phi - temp1 * e \n",
    "        temp_phi = e\n",
    "        e = temp2\n",
    "        \n",
    "        x = x2-temp1 * x1 \n",
    "        y = d-temp1 * y1\n",
    "        \n",
    "        x2 = x1\n",
    "        x1 = x\n",
    "        d = y1\n",
    "        y1 = y\n",
    "    \n",
    "    if temp_phi == 1: \n",
    "        return d + phi"
   ]
  },
  {
   "cell_type": "markdown",
   "id": "074f94f2",
   "metadata": {},
   "source": [
    "Function to check for prime number:"
   ]
  },
  {
   "cell_type": "code",
   "execution_count": 4,
   "id": "255f04f9",
   "metadata": {},
   "outputs": [],
   "source": [
    "def is_prime (num):\n",
    "    if num == 2: \n",
    "        return True\n",
    "    if num < 2 or num % 2 == 0:\n",
    "        return False\n",
    "    for n in range (3, int(num**0.5)+2, 2):\n",
    "        if num % n == 0: \n",
    "            return False\n",
    "    return True"
   ]
  },
  {
   "cell_type": "markdown",
   "id": "a48bd4df",
   "metadata": {},
   "source": [
    "Function to generate the public and private key pairs"
   ]
  },
  {
   "cell_type": "code",
   "execution_count": 5,
   "id": "d295ea2e",
   "metadata": {},
   "outputs": [],
   "source": [
    "def generate_key_pair(p, q): \n",
    "    if not (is_prime(p) and is_prime(q)): \n",
    "        raise ValueError('Both numbers must be prime')\n",
    "    elif p == q:\n",
    "        raise ValueError('p and q cannot be equal')\n",
    "    \n",
    "    n = p*q\n",
    "    phi = (p-1)*(q-1)\n",
    "    e = random.randrange(1,phi)\n",
    "    g = gcd(e,phi)\n",
    "                         \n",
    "    while g!=1:\n",
    "        e = random.randrange(1,phi)\n",
    "        g = gcd(e, phi)\n",
    "    \n",
    "    d=multiplicative_inverse(e,phi)\n",
    "\n",
    "    print(\"e: \", e)\n",
    "    print(\"n: \", n) \n",
    "    print(\"d: \", d)      \n",
    "    \n",
    "    # Return public and private key_pair \n",
    "    # Public key is (e, n) and private key is (d, n) \n",
    "    return ((e, n), (d, n))"
   ]
  },
  {
   "cell_type": "markdown",
   "id": "fddac966",
   "metadata": {},
   "source": [
    "Define encryption function"
   ]
  },
  {
   "cell_type": "code",
   "execution_count": 6,
   "id": "6ef40476",
   "metadata": {},
   "outputs": [],
   "source": [
    "def encrypt (pk, plaintext):\n",
    "    key, n = pk\n",
    "    cipher= [pow(ord(char), key, n) for char in plaintext]\n",
    "    return cipher"
   ]
  },
  {
   "cell_type": "markdown",
   "id": "22626306",
   "metadata": {},
   "source": [
    "Rsa Encryption main method"
   ]
  },
  {
   "cell_type": "code",
   "execution_count": 7,
   "id": "8f1041bf",
   "metadata": {},
   "outputs": [
    {
     "name": "stdout",
     "output_type": "stream",
     "text": [
      "=================================RSA ENCRYPTION=======================================\n",
      "Enter a prime number (17, 19, 23, etc): 223\n",
      "Enter another prime number (Different from the one entered above): 379\n",
      "Generating public / private key-pairs now ...\n",
      "e:  20725\n",
      "n:  84517\n",
      "d:  59881\n",
      "The public key is  (20725, 84517)  and the private key is  (59881, 84517)\n",
      " Enter a message to encrypt with the public key: anirban\n",
      "The encrypted message is:  43188221022565948987615214318822102\n"
     ]
    }
   ],
   "source": [
    "if __name__ == \"__main__\":\n",
    "    print(\"=================================RSA ENCRYPTION=======================================\")\n",
    "    \n",
    "    p = int (input(\"Enter a prime number (17, 19, 23, etc): \"))\n",
    "    q = int(input(\"Enter another prime number (Different from the one entered above): \"))\n",
    "    \n",
    "    print(\"Generating public / private key-pairs now ...\")\n",
    "    public, private = generate_key_pair (p, q)\n",
    "    print(\"The public key is \", public,\" and the private key is \", private)\n",
    "    \n",
    "    message = input(\" Enter a message to encrypt with the public key: \")\n",
    "    encrypted_msg = encrypt (public, message)\n",
    "    print(\"The encrypted message is: \", ''.join(map (lambda x: str(x), encrypted_msg)))"
   ]
  },
  {
   "cell_type": "markdown",
   "id": "e8067d71",
   "metadata": {},
   "source": [
    "Now Decrypting the message:"
   ]
  },
  {
   "cell_type": "code",
   "execution_count": 8,
   "id": "5ac9b0fa",
   "metadata": {},
   "outputs": [
    {
     "name": "stdout",
     "output_type": "stream",
     "text": [
      "Decrypting message with private key (59881, 84517) ...\n",
      "The Message is: anirban\n",
      " \n",
      "Time taken= 0.00099945068359375 seconds\n"
     ]
    }
   ],
   "source": [
    "start=time.time()\n",
    "def decrypt(pk, ciphertext):\n",
    "    key,n=pk\n",
    "    aux=[str(pow(char,key,n)) for char in ciphertext]\n",
    "    plain=[chr(int(char2)) for char2 in aux]\n",
    "    return ''.join(plain)\n",
    "\n",
    "print(\"Decrypting message with private key\",private,\"...\")\n",
    "print(\"The Message is:\",decrypt(private,encrypted_msg))\n",
    "print(\" \")\n",
    "print('Time taken=',time.time()-start,'seconds')"
   ]
  },
  {
   "cell_type": "markdown",
   "id": "505766af",
   "metadata": {},
   "source": [
    "# Using Brute Force"
   ]
  },
  {
   "cell_type": "markdown",
   "id": "4bcffc47",
   "metadata": {},
   "source": [
    "Let's try cracking the same key (d value), using Brute force:"
   ]
  },
  {
   "cell_type": "code",
   "execution_count": 10,
   "id": "0ba08c44",
   "metadata": {},
   "outputs": [
    {
     "name": "stdout",
     "output_type": "stream",
     "text": [
      "Cracking value of d using Brute force...\n",
      "Cracked value of d: 59881\n",
      "Time taken to crack using brute force: 0.0010001659393310547 seconds.\n"
     ]
    }
   ],
   "source": [
    "import time\n",
    "start = time.time()\n",
    "\n",
    "def egcd(a, b):\n",
    "    if a == 0:\n",
    "        return (b, 0, 1)\n",
    "    else:\n",
    "        g, y, x = egcd(b%a,a) \n",
    "        return (g, x-(b//a)*y, y)\n",
    "    \n",
    "def modinv (a, m):\n",
    "    g, x, y = egcd (a, m)\n",
    "    if g != 1:\n",
    "        raise Exception ('modular inverse does not exist')\n",
    "    else:\n",
    "        return x%m\n",
    "    \n",
    "\n",
    "def factor (n):\n",
    "    for i in range (3, n):\n",
    "        if n%i == 0:\n",
    "            return i\n",
    "\n",
    "e = 20725\n",
    "n = 84517\n",
    "\n",
    "p = factor(n)\n",
    "q = n//p \n",
    "phi_n=(p-1)*(q-1)\n",
    "\n",
    "d_crack = modinv(e, phi_n)\n",
    "print(\"Cracking value of d using Brute force...\") \n",
    "print('Cracked value of d:', d_crack)\n",
    "print('Time taken to crack using brute force:', time.time ()-start, 'seconds.')"
   ]
  },
  {
   "cell_type": "markdown",
   "id": "eb27812f",
   "metadata": {},
   "source": [
    "We see that the difference between Brute force attack and Algorithmic decryption (0.0010001659393310547 - 0.00099945068359375) is 0.00000071525 seconds."
   ]
  }
 ],
 "metadata": {
  "kernelspec": {
   "display_name": "Python 3",
   "language": "python",
   "name": "python3"
  },
  "language_info": {
   "codemirror_mode": {
    "name": "ipython",
    "version": 3
   },
   "file_extension": ".py",
   "mimetype": "text/x-python",
   "name": "python",
   "nbconvert_exporter": "python",
   "pygments_lexer": "ipython3",
   "version": "3.8.8"
  }
 },
 "nbformat": 4,
 "nbformat_minor": 5
}
