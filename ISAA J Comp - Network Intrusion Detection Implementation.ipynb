{
 "cells": [
  {
   "cell_type": "markdown",
   "id": "084fe5a0",
   "metadata": {},
   "source": [
    "# Network Intrusion Detection using Decision Tree Classifier"
   ]
  },
  {
   "cell_type": "markdown",
   "id": "2703dbe1",
   "metadata": {},
   "source": [
    "#### Method Description:\n",
    "\n",
    "**Step 1: Data Processing**\n",
    "\n",
    "**Step 2: Data Transformation**\n",
    "\n",
    "**Step 3: Feature Selection**\n",
    "\n",
    "**Step 4: Build the model:**\n",
    "Decision tree model is built\n",
    "\n",
    "**Step 5: Prediction & Evaluation (validation):**\n",
    "Using the test data to make predictions of the model. Multiple scores are considered such as:accuracy score, precision, recall, f-measure."
   ]
  },
  {
   "cell_type": "markdown",
   "id": "43e90977",
   "metadata": {},
   "source": [
    "## Importing the required libraries"
   ]
  },
  {
   "cell_type": "code",
   "execution_count": 1,
   "id": "4168e45d",
   "metadata": {},
   "outputs": [],
   "source": [
    "import numpy as np #linear algebra library\n",
    "import pandas as pd #data processing, CSV file I/O (e.g. pd.read_csv)\n",
    "import matplotlib.pyplot as plt #various plotting tools\n",
    "import seaborn as sns\n",
    "import sklearn\n",
    "import itertools"
   ]
  },
  {
   "cell_type": "markdown",
   "id": "3dc71ce8",
   "metadata": {},
   "source": [
    "## Importing and loading the dataset"
   ]
  },
  {
   "cell_type": "code",
   "execution_count": 2,
   "id": "99b4579d",
   "metadata": {},
   "outputs": [],
   "source": [
    "df=pd.read_csv(\"KDDTrain+.txt\",header=None)\n",
    "test_df = pd.read_csv(\"KDDTest+.txt\",header=None)"
   ]
  },
  {
   "cell_type": "code",
   "execution_count": 3,
   "id": "d5e67036",
   "metadata": {},
   "outputs": [
    {
     "data": {
      "text/html": [
       "<div>\n",
       "<style scoped>\n",
       "    .dataframe tbody tr th:only-of-type {\n",
       "        vertical-align: middle;\n",
       "    }\n",
       "\n",
       "    .dataframe tbody tr th {\n",
       "        vertical-align: top;\n",
       "    }\n",
       "\n",
       "    .dataframe thead th {\n",
       "        text-align: right;\n",
       "    }\n",
       "</style>\n",
       "<table border=\"1\" class=\"dataframe\">\n",
       "  <thead>\n",
       "    <tr style=\"text-align: right;\">\n",
       "      <th></th>\n",
       "      <th>0</th>\n",
       "      <th>1</th>\n",
       "      <th>2</th>\n",
       "      <th>3</th>\n",
       "      <th>4</th>\n",
       "      <th>5</th>\n",
       "      <th>6</th>\n",
       "      <th>7</th>\n",
       "      <th>8</th>\n",
       "      <th>9</th>\n",
       "      <th>...</th>\n",
       "      <th>33</th>\n",
       "      <th>34</th>\n",
       "      <th>35</th>\n",
       "      <th>36</th>\n",
       "      <th>37</th>\n",
       "      <th>38</th>\n",
       "      <th>39</th>\n",
       "      <th>40</th>\n",
       "      <th>41</th>\n",
       "      <th>42</th>\n",
       "    </tr>\n",
       "  </thead>\n",
       "  <tbody>\n",
       "    <tr>\n",
       "      <th>0</th>\n",
       "      <td>0</td>\n",
       "      <td>tcp</td>\n",
       "      <td>ftp_data</td>\n",
       "      <td>SF</td>\n",
       "      <td>491</td>\n",
       "      <td>0</td>\n",
       "      <td>0</td>\n",
       "      <td>0</td>\n",
       "      <td>0</td>\n",
       "      <td>0</td>\n",
       "      <td>...</td>\n",
       "      <td>0.17</td>\n",
       "      <td>0.03</td>\n",
       "      <td>0.17</td>\n",
       "      <td>0.00</td>\n",
       "      <td>0.00</td>\n",
       "      <td>0.00</td>\n",
       "      <td>0.05</td>\n",
       "      <td>0.00</td>\n",
       "      <td>normal</td>\n",
       "      <td>20</td>\n",
       "    </tr>\n",
       "    <tr>\n",
       "      <th>1</th>\n",
       "      <td>0</td>\n",
       "      <td>udp</td>\n",
       "      <td>other</td>\n",
       "      <td>SF</td>\n",
       "      <td>146</td>\n",
       "      <td>0</td>\n",
       "      <td>0</td>\n",
       "      <td>0</td>\n",
       "      <td>0</td>\n",
       "      <td>0</td>\n",
       "      <td>...</td>\n",
       "      <td>0.00</td>\n",
       "      <td>0.60</td>\n",
       "      <td>0.88</td>\n",
       "      <td>0.00</td>\n",
       "      <td>0.00</td>\n",
       "      <td>0.00</td>\n",
       "      <td>0.00</td>\n",
       "      <td>0.00</td>\n",
       "      <td>normal</td>\n",
       "      <td>15</td>\n",
       "    </tr>\n",
       "    <tr>\n",
       "      <th>2</th>\n",
       "      <td>0</td>\n",
       "      <td>tcp</td>\n",
       "      <td>private</td>\n",
       "      <td>S0</td>\n",
       "      <td>0</td>\n",
       "      <td>0</td>\n",
       "      <td>0</td>\n",
       "      <td>0</td>\n",
       "      <td>0</td>\n",
       "      <td>0</td>\n",
       "      <td>...</td>\n",
       "      <td>0.10</td>\n",
       "      <td>0.05</td>\n",
       "      <td>0.00</td>\n",
       "      <td>0.00</td>\n",
       "      <td>1.00</td>\n",
       "      <td>1.00</td>\n",
       "      <td>0.00</td>\n",
       "      <td>0.00</td>\n",
       "      <td>neptune</td>\n",
       "      <td>19</td>\n",
       "    </tr>\n",
       "    <tr>\n",
       "      <th>3</th>\n",
       "      <td>0</td>\n",
       "      <td>tcp</td>\n",
       "      <td>http</td>\n",
       "      <td>SF</td>\n",
       "      <td>232</td>\n",
       "      <td>8153</td>\n",
       "      <td>0</td>\n",
       "      <td>0</td>\n",
       "      <td>0</td>\n",
       "      <td>0</td>\n",
       "      <td>...</td>\n",
       "      <td>1.00</td>\n",
       "      <td>0.00</td>\n",
       "      <td>0.03</td>\n",
       "      <td>0.04</td>\n",
       "      <td>0.03</td>\n",
       "      <td>0.01</td>\n",
       "      <td>0.00</td>\n",
       "      <td>0.01</td>\n",
       "      <td>normal</td>\n",
       "      <td>21</td>\n",
       "    </tr>\n",
       "    <tr>\n",
       "      <th>4</th>\n",
       "      <td>0</td>\n",
       "      <td>tcp</td>\n",
       "      <td>http</td>\n",
       "      <td>SF</td>\n",
       "      <td>199</td>\n",
       "      <td>420</td>\n",
       "      <td>0</td>\n",
       "      <td>0</td>\n",
       "      <td>0</td>\n",
       "      <td>0</td>\n",
       "      <td>...</td>\n",
       "      <td>1.00</td>\n",
       "      <td>0.00</td>\n",
       "      <td>0.00</td>\n",
       "      <td>0.00</td>\n",
       "      <td>0.00</td>\n",
       "      <td>0.00</td>\n",
       "      <td>0.00</td>\n",
       "      <td>0.00</td>\n",
       "      <td>normal</td>\n",
       "      <td>21</td>\n",
       "    </tr>\n",
       "  </tbody>\n",
       "</table>\n",
       "<p>5 rows × 43 columns</p>\n",
       "</div>"
      ],
      "text/plain": [
       "   0    1         2   3    4     5   6   7   8   9   ...    33    34    35  \\\n",
       "0   0  tcp  ftp_data  SF  491     0   0   0   0   0  ...  0.17  0.03  0.17   \n",
       "1   0  udp     other  SF  146     0   0   0   0   0  ...  0.00  0.60  0.88   \n",
       "2   0  tcp   private  S0    0     0   0   0   0   0  ...  0.10  0.05  0.00   \n",
       "3   0  tcp      http  SF  232  8153   0   0   0   0  ...  1.00  0.00  0.03   \n",
       "4   0  tcp      http  SF  199   420   0   0   0   0  ...  1.00  0.00  0.00   \n",
       "\n",
       "     36    37    38    39    40       41  42  \n",
       "0  0.00  0.00  0.00  0.05  0.00   normal  20  \n",
       "1  0.00  0.00  0.00  0.00  0.00   normal  15  \n",
       "2  0.00  1.00  1.00  0.00  0.00  neptune  19  \n",
       "3  0.04  0.03  0.01  0.00  0.01   normal  21  \n",
       "4  0.00  0.00  0.00  0.00  0.00   normal  21  \n",
       "\n",
       "[5 rows x 43 columns]"
      ]
     },
     "execution_count": 3,
     "metadata": {},
     "output_type": "execute_result"
    }
   ],
   "source": [
    "df.head()"
   ]
  },
  {
   "cell_type": "code",
   "execution_count": 4,
   "id": "420ef88e",
   "metadata": {},
   "outputs": [
    {
     "data": {
      "text/html": [
       "<div>\n",
       "<style scoped>\n",
       "    .dataframe tbody tr th:only-of-type {\n",
       "        vertical-align: middle;\n",
       "    }\n",
       "\n",
       "    .dataframe tbody tr th {\n",
       "        vertical-align: top;\n",
       "    }\n",
       "\n",
       "    .dataframe thead th {\n",
       "        text-align: right;\n",
       "    }\n",
       "</style>\n",
       "<table border=\"1\" class=\"dataframe\">\n",
       "  <thead>\n",
       "    <tr style=\"text-align: right;\">\n",
       "      <th></th>\n",
       "      <th>0</th>\n",
       "      <th>1</th>\n",
       "      <th>2</th>\n",
       "      <th>3</th>\n",
       "      <th>4</th>\n",
       "      <th>5</th>\n",
       "      <th>6</th>\n",
       "      <th>7</th>\n",
       "      <th>8</th>\n",
       "      <th>9</th>\n",
       "      <th>...</th>\n",
       "      <th>33</th>\n",
       "      <th>34</th>\n",
       "      <th>35</th>\n",
       "      <th>36</th>\n",
       "      <th>37</th>\n",
       "      <th>38</th>\n",
       "      <th>39</th>\n",
       "      <th>40</th>\n",
       "      <th>41</th>\n",
       "      <th>42</th>\n",
       "    </tr>\n",
       "  </thead>\n",
       "  <tbody>\n",
       "    <tr>\n",
       "      <th>0</th>\n",
       "      <td>0</td>\n",
       "      <td>tcp</td>\n",
       "      <td>private</td>\n",
       "      <td>REJ</td>\n",
       "      <td>0</td>\n",
       "      <td>0</td>\n",
       "      <td>0</td>\n",
       "      <td>0</td>\n",
       "      <td>0</td>\n",
       "      <td>0</td>\n",
       "      <td>...</td>\n",
       "      <td>0.04</td>\n",
       "      <td>0.06</td>\n",
       "      <td>0.00</td>\n",
       "      <td>0.00</td>\n",
       "      <td>0.0</td>\n",
       "      <td>0.0</td>\n",
       "      <td>1.00</td>\n",
       "      <td>1.00</td>\n",
       "      <td>neptune</td>\n",
       "      <td>21</td>\n",
       "    </tr>\n",
       "    <tr>\n",
       "      <th>1</th>\n",
       "      <td>0</td>\n",
       "      <td>tcp</td>\n",
       "      <td>private</td>\n",
       "      <td>REJ</td>\n",
       "      <td>0</td>\n",
       "      <td>0</td>\n",
       "      <td>0</td>\n",
       "      <td>0</td>\n",
       "      <td>0</td>\n",
       "      <td>0</td>\n",
       "      <td>...</td>\n",
       "      <td>0.00</td>\n",
       "      <td>0.06</td>\n",
       "      <td>0.00</td>\n",
       "      <td>0.00</td>\n",
       "      <td>0.0</td>\n",
       "      <td>0.0</td>\n",
       "      <td>1.00</td>\n",
       "      <td>1.00</td>\n",
       "      <td>neptune</td>\n",
       "      <td>21</td>\n",
       "    </tr>\n",
       "    <tr>\n",
       "      <th>2</th>\n",
       "      <td>2</td>\n",
       "      <td>tcp</td>\n",
       "      <td>ftp_data</td>\n",
       "      <td>SF</td>\n",
       "      <td>12983</td>\n",
       "      <td>0</td>\n",
       "      <td>0</td>\n",
       "      <td>0</td>\n",
       "      <td>0</td>\n",
       "      <td>0</td>\n",
       "      <td>...</td>\n",
       "      <td>0.61</td>\n",
       "      <td>0.04</td>\n",
       "      <td>0.61</td>\n",
       "      <td>0.02</td>\n",
       "      <td>0.0</td>\n",
       "      <td>0.0</td>\n",
       "      <td>0.00</td>\n",
       "      <td>0.00</td>\n",
       "      <td>normal</td>\n",
       "      <td>21</td>\n",
       "    </tr>\n",
       "    <tr>\n",
       "      <th>3</th>\n",
       "      <td>0</td>\n",
       "      <td>icmp</td>\n",
       "      <td>eco_i</td>\n",
       "      <td>SF</td>\n",
       "      <td>20</td>\n",
       "      <td>0</td>\n",
       "      <td>0</td>\n",
       "      <td>0</td>\n",
       "      <td>0</td>\n",
       "      <td>0</td>\n",
       "      <td>...</td>\n",
       "      <td>1.00</td>\n",
       "      <td>0.00</td>\n",
       "      <td>1.00</td>\n",
       "      <td>0.28</td>\n",
       "      <td>0.0</td>\n",
       "      <td>0.0</td>\n",
       "      <td>0.00</td>\n",
       "      <td>0.00</td>\n",
       "      <td>saint</td>\n",
       "      <td>15</td>\n",
       "    </tr>\n",
       "    <tr>\n",
       "      <th>4</th>\n",
       "      <td>1</td>\n",
       "      <td>tcp</td>\n",
       "      <td>telnet</td>\n",
       "      <td>RSTO</td>\n",
       "      <td>0</td>\n",
       "      <td>15</td>\n",
       "      <td>0</td>\n",
       "      <td>0</td>\n",
       "      <td>0</td>\n",
       "      <td>0</td>\n",
       "      <td>...</td>\n",
       "      <td>0.31</td>\n",
       "      <td>0.17</td>\n",
       "      <td>0.03</td>\n",
       "      <td>0.02</td>\n",
       "      <td>0.0</td>\n",
       "      <td>0.0</td>\n",
       "      <td>0.83</td>\n",
       "      <td>0.71</td>\n",
       "      <td>mscan</td>\n",
       "      <td>11</td>\n",
       "    </tr>\n",
       "  </tbody>\n",
       "</table>\n",
       "<p>5 rows × 43 columns</p>\n",
       "</div>"
      ],
      "text/plain": [
       "   0     1         2     3      4   5   6   7   8   9   ...    33    34    35  \\\n",
       "0   0   tcp   private   REJ      0   0   0   0   0   0  ...  0.04  0.06  0.00   \n",
       "1   0   tcp   private   REJ      0   0   0   0   0   0  ...  0.00  0.06  0.00   \n",
       "2   2   tcp  ftp_data    SF  12983   0   0   0   0   0  ...  0.61  0.04  0.61   \n",
       "3   0  icmp     eco_i    SF     20   0   0   0   0   0  ...  1.00  0.00  1.00   \n",
       "4   1   tcp    telnet  RSTO      0  15   0   0   0   0  ...  0.31  0.17  0.03   \n",
       "\n",
       "     36   37   38    39    40       41  42  \n",
       "0  0.00  0.0  0.0  1.00  1.00  neptune  21  \n",
       "1  0.00  0.0  0.0  1.00  1.00  neptune  21  \n",
       "2  0.02  0.0  0.0  0.00  0.00   normal  21  \n",
       "3  0.28  0.0  0.0  0.00  0.00    saint  15  \n",
       "4  0.02  0.0  0.0  0.83  0.71    mscan  11  \n",
       "\n",
       "[5 rows x 43 columns]"
      ]
     },
     "execution_count": 4,
     "metadata": {},
     "output_type": "execute_result"
    }
   ],
   "source": [
    "test_df.head()"
   ]
  },
  {
   "cell_type": "markdown",
   "id": "fff4dd32",
   "metadata": {},
   "source": [
    "# Data Processing"
   ]
  },
  {
   "cell_type": "markdown",
   "id": "5f4a9f95",
   "metadata": {},
   "source": [
    "The dataset doesn't include column names, so let's add them."
   ]
  },
  {
   "cell_type": "code",
   "execution_count": 5,
   "id": "54f154dd",
   "metadata": {},
   "outputs": [
    {
     "name": "stdout",
     "output_type": "stream",
     "text": [
      "Dimensions of the Training set: (125973, 42)\n",
      "Dimensions of the Test set: (22544, 42)\n"
     ]
    }
   ],
   "source": [
    "# attaching the column names to the dataset\n",
    "col_names = (['duration','protocol_type','service','flag','src_bytes','dst_bytes','land','wrong_fragment','urgent','hot'\n",
    ",'num_failed_logins','logged_in','num_compromised','root_shell','su_attempted','num_root','num_file_creations','num_shells'\n",
    ",'num_access_files','num_outbound_cmds','is_host_login','is_guest_login','count','srv_count','serror_rate','srv_serror_rate'\n",
    ",'rerror_rate','srv_rerror_rate','same_srv_rate','diff_srv_rate','srv_diff_host_rate','dst_host_count','dst_host_srv_count'\n",
    ",'dst_host_same_srv_rate','dst_host_diff_srv_rate','dst_host_same_src_port_rate','dst_host_srv_diff_host_rate'\n",
    ",'dst_host_serror_rate','dst_host_srv_serror_rate','dst_host_rerror_rate','dst_host_srv_rerror_rate','attack','level'])\n",
    "\n",
    "df.columns = col_names\n",
    "test_df.columns = col_names\n",
    "# dimensions of the datase\n",
    "df.drop('level', axis=1, inplace=True)\n",
    "test_df.drop('level', axis=1, inplace=True)\n",
    "print('Dimensions of the Training set:',df.shape)\n",
    "print('Dimensions of the Test set:',test_df.shape)"
   ]
  },
  {
   "cell_type": "markdown",
   "id": "f6e89f4e",
   "metadata": {},
   "source": [
    "#### Sample View of the training dataset"
   ]
  },
  {
   "cell_type": "code",
   "execution_count": 6,
   "id": "bec6fa52",
   "metadata": {},
   "outputs": [
    {
     "name": "stdout",
     "output_type": "stream",
     "text": [
      "Training data\n"
     ]
    },
    {
     "data": {
      "text/html": [
       "<div>\n",
       "<style scoped>\n",
       "    .dataframe tbody tr th:only-of-type {\n",
       "        vertical-align: middle;\n",
       "    }\n",
       "\n",
       "    .dataframe tbody tr th {\n",
       "        vertical-align: top;\n",
       "    }\n",
       "\n",
       "    .dataframe thead th {\n",
       "        text-align: right;\n",
       "    }\n",
       "</style>\n",
       "<table border=\"1\" class=\"dataframe\">\n",
       "  <thead>\n",
       "    <tr style=\"text-align: right;\">\n",
       "      <th></th>\n",
       "      <th>duration</th>\n",
       "      <th>protocol_type</th>\n",
       "      <th>service</th>\n",
       "      <th>flag</th>\n",
       "      <th>src_bytes</th>\n",
       "      <th>dst_bytes</th>\n",
       "      <th>land</th>\n",
       "      <th>wrong_fragment</th>\n",
       "      <th>urgent</th>\n",
       "      <th>hot</th>\n",
       "      <th>...</th>\n",
       "      <th>dst_host_srv_count</th>\n",
       "      <th>dst_host_same_srv_rate</th>\n",
       "      <th>dst_host_diff_srv_rate</th>\n",
       "      <th>dst_host_same_src_port_rate</th>\n",
       "      <th>dst_host_srv_diff_host_rate</th>\n",
       "      <th>dst_host_serror_rate</th>\n",
       "      <th>dst_host_srv_serror_rate</th>\n",
       "      <th>dst_host_rerror_rate</th>\n",
       "      <th>dst_host_srv_rerror_rate</th>\n",
       "      <th>attack</th>\n",
       "    </tr>\n",
       "  </thead>\n",
       "  <tbody>\n",
       "    <tr>\n",
       "      <th>0</th>\n",
       "      <td>0</td>\n",
       "      <td>tcp</td>\n",
       "      <td>ftp_data</td>\n",
       "      <td>SF</td>\n",
       "      <td>491</td>\n",
       "      <td>0</td>\n",
       "      <td>0</td>\n",
       "      <td>0</td>\n",
       "      <td>0</td>\n",
       "      <td>0</td>\n",
       "      <td>...</td>\n",
       "      <td>25</td>\n",
       "      <td>0.17</td>\n",
       "      <td>0.03</td>\n",
       "      <td>0.17</td>\n",
       "      <td>0.00</td>\n",
       "      <td>0.00</td>\n",
       "      <td>0.00</td>\n",
       "      <td>0.05</td>\n",
       "      <td>0.00</td>\n",
       "      <td>normal</td>\n",
       "    </tr>\n",
       "    <tr>\n",
       "      <th>1</th>\n",
       "      <td>0</td>\n",
       "      <td>udp</td>\n",
       "      <td>other</td>\n",
       "      <td>SF</td>\n",
       "      <td>146</td>\n",
       "      <td>0</td>\n",
       "      <td>0</td>\n",
       "      <td>0</td>\n",
       "      <td>0</td>\n",
       "      <td>0</td>\n",
       "      <td>...</td>\n",
       "      <td>1</td>\n",
       "      <td>0.00</td>\n",
       "      <td>0.60</td>\n",
       "      <td>0.88</td>\n",
       "      <td>0.00</td>\n",
       "      <td>0.00</td>\n",
       "      <td>0.00</td>\n",
       "      <td>0.00</td>\n",
       "      <td>0.00</td>\n",
       "      <td>normal</td>\n",
       "    </tr>\n",
       "    <tr>\n",
       "      <th>2</th>\n",
       "      <td>0</td>\n",
       "      <td>tcp</td>\n",
       "      <td>private</td>\n",
       "      <td>S0</td>\n",
       "      <td>0</td>\n",
       "      <td>0</td>\n",
       "      <td>0</td>\n",
       "      <td>0</td>\n",
       "      <td>0</td>\n",
       "      <td>0</td>\n",
       "      <td>...</td>\n",
       "      <td>26</td>\n",
       "      <td>0.10</td>\n",
       "      <td>0.05</td>\n",
       "      <td>0.00</td>\n",
       "      <td>0.00</td>\n",
       "      <td>1.00</td>\n",
       "      <td>1.00</td>\n",
       "      <td>0.00</td>\n",
       "      <td>0.00</td>\n",
       "      <td>neptune</td>\n",
       "    </tr>\n",
       "    <tr>\n",
       "      <th>3</th>\n",
       "      <td>0</td>\n",
       "      <td>tcp</td>\n",
       "      <td>http</td>\n",
       "      <td>SF</td>\n",
       "      <td>232</td>\n",
       "      <td>8153</td>\n",
       "      <td>0</td>\n",
       "      <td>0</td>\n",
       "      <td>0</td>\n",
       "      <td>0</td>\n",
       "      <td>...</td>\n",
       "      <td>255</td>\n",
       "      <td>1.00</td>\n",
       "      <td>0.00</td>\n",
       "      <td>0.03</td>\n",
       "      <td>0.04</td>\n",
       "      <td>0.03</td>\n",
       "      <td>0.01</td>\n",
       "      <td>0.00</td>\n",
       "      <td>0.01</td>\n",
       "      <td>normal</td>\n",
       "    </tr>\n",
       "    <tr>\n",
       "      <th>4</th>\n",
       "      <td>0</td>\n",
       "      <td>tcp</td>\n",
       "      <td>http</td>\n",
       "      <td>SF</td>\n",
       "      <td>199</td>\n",
       "      <td>420</td>\n",
       "      <td>0</td>\n",
       "      <td>0</td>\n",
       "      <td>0</td>\n",
       "      <td>0</td>\n",
       "      <td>...</td>\n",
       "      <td>255</td>\n",
       "      <td>1.00</td>\n",
       "      <td>0.00</td>\n",
       "      <td>0.00</td>\n",
       "      <td>0.00</td>\n",
       "      <td>0.00</td>\n",
       "      <td>0.00</td>\n",
       "      <td>0.00</td>\n",
       "      <td>0.00</td>\n",
       "      <td>normal</td>\n",
       "    </tr>\n",
       "  </tbody>\n",
       "</table>\n",
       "<p>5 rows × 42 columns</p>\n",
       "</div>"
      ],
      "text/plain": [
       "   duration protocol_type   service flag  src_bytes  dst_bytes  land  \\\n",
       "0         0           tcp  ftp_data   SF        491          0     0   \n",
       "1         0           udp     other   SF        146          0     0   \n",
       "2         0           tcp   private   S0          0          0     0   \n",
       "3         0           tcp      http   SF        232       8153     0   \n",
       "4         0           tcp      http   SF        199        420     0   \n",
       "\n",
       "   wrong_fragment  urgent  hot  ...  dst_host_srv_count  \\\n",
       "0               0       0    0  ...                  25   \n",
       "1               0       0    0  ...                   1   \n",
       "2               0       0    0  ...                  26   \n",
       "3               0       0    0  ...                 255   \n",
       "4               0       0    0  ...                 255   \n",
       "\n",
       "   dst_host_same_srv_rate  dst_host_diff_srv_rate  \\\n",
       "0                    0.17                    0.03   \n",
       "1                    0.00                    0.60   \n",
       "2                    0.10                    0.05   \n",
       "3                    1.00                    0.00   \n",
       "4                    1.00                    0.00   \n",
       "\n",
       "   dst_host_same_src_port_rate  dst_host_srv_diff_host_rate  \\\n",
       "0                         0.17                         0.00   \n",
       "1                         0.88                         0.00   \n",
       "2                         0.00                         0.00   \n",
       "3                         0.03                         0.04   \n",
       "4                         0.00                         0.00   \n",
       "\n",
       "   dst_host_serror_rate  dst_host_srv_serror_rate  dst_host_rerror_rate  \\\n",
       "0                  0.00                      0.00                  0.05   \n",
       "1                  0.00                      0.00                  0.00   \n",
       "2                  1.00                      1.00                  0.00   \n",
       "3                  0.03                      0.01                  0.00   \n",
       "4                  0.00                      0.00                  0.00   \n",
       "\n",
       "   dst_host_srv_rerror_rate   attack  \n",
       "0                      0.00   normal  \n",
       "1                      0.00   normal  \n",
       "2                      0.00  neptune  \n",
       "3                      0.01   normal  \n",
       "4                      0.00   normal  \n",
       "\n",
       "[5 rows x 42 columns]"
      ]
     },
     "execution_count": 6,
     "metadata": {},
     "output_type": "execute_result"
    }
   ],
   "source": [
    "print(\"Training data\")\n",
    "df.head()"
   ]
  },
  {
   "cell_type": "markdown",
   "id": "317e7e3a",
   "metadata": {},
   "source": [
    "#### Sample View of the testing dataset"
   ]
  },
  {
   "cell_type": "code",
   "execution_count": 7,
   "id": "fc63f95f",
   "metadata": {},
   "outputs": [
    {
     "name": "stdout",
     "output_type": "stream",
     "text": [
      "Testing data\n"
     ]
    },
    {
     "data": {
      "text/html": [
       "<div>\n",
       "<style scoped>\n",
       "    .dataframe tbody tr th:only-of-type {\n",
       "        vertical-align: middle;\n",
       "    }\n",
       "\n",
       "    .dataframe tbody tr th {\n",
       "        vertical-align: top;\n",
       "    }\n",
       "\n",
       "    .dataframe thead th {\n",
       "        text-align: right;\n",
       "    }\n",
       "</style>\n",
       "<table border=\"1\" class=\"dataframe\">\n",
       "  <thead>\n",
       "    <tr style=\"text-align: right;\">\n",
       "      <th></th>\n",
       "      <th>duration</th>\n",
       "      <th>protocol_type</th>\n",
       "      <th>service</th>\n",
       "      <th>flag</th>\n",
       "      <th>src_bytes</th>\n",
       "      <th>dst_bytes</th>\n",
       "      <th>land</th>\n",
       "      <th>wrong_fragment</th>\n",
       "      <th>urgent</th>\n",
       "      <th>hot</th>\n",
       "      <th>...</th>\n",
       "      <th>dst_host_srv_count</th>\n",
       "      <th>dst_host_same_srv_rate</th>\n",
       "      <th>dst_host_diff_srv_rate</th>\n",
       "      <th>dst_host_same_src_port_rate</th>\n",
       "      <th>dst_host_srv_diff_host_rate</th>\n",
       "      <th>dst_host_serror_rate</th>\n",
       "      <th>dst_host_srv_serror_rate</th>\n",
       "      <th>dst_host_rerror_rate</th>\n",
       "      <th>dst_host_srv_rerror_rate</th>\n",
       "      <th>attack</th>\n",
       "    </tr>\n",
       "  </thead>\n",
       "  <tbody>\n",
       "    <tr>\n",
       "      <th>0</th>\n",
       "      <td>0</td>\n",
       "      <td>tcp</td>\n",
       "      <td>private</td>\n",
       "      <td>REJ</td>\n",
       "      <td>0</td>\n",
       "      <td>0</td>\n",
       "      <td>0</td>\n",
       "      <td>0</td>\n",
       "      <td>0</td>\n",
       "      <td>0</td>\n",
       "      <td>...</td>\n",
       "      <td>10</td>\n",
       "      <td>0.04</td>\n",
       "      <td>0.06</td>\n",
       "      <td>0.00</td>\n",
       "      <td>0.00</td>\n",
       "      <td>0.0</td>\n",
       "      <td>0.0</td>\n",
       "      <td>1.00</td>\n",
       "      <td>1.00</td>\n",
       "      <td>neptune</td>\n",
       "    </tr>\n",
       "    <tr>\n",
       "      <th>1</th>\n",
       "      <td>0</td>\n",
       "      <td>tcp</td>\n",
       "      <td>private</td>\n",
       "      <td>REJ</td>\n",
       "      <td>0</td>\n",
       "      <td>0</td>\n",
       "      <td>0</td>\n",
       "      <td>0</td>\n",
       "      <td>0</td>\n",
       "      <td>0</td>\n",
       "      <td>...</td>\n",
       "      <td>1</td>\n",
       "      <td>0.00</td>\n",
       "      <td>0.06</td>\n",
       "      <td>0.00</td>\n",
       "      <td>0.00</td>\n",
       "      <td>0.0</td>\n",
       "      <td>0.0</td>\n",
       "      <td>1.00</td>\n",
       "      <td>1.00</td>\n",
       "      <td>neptune</td>\n",
       "    </tr>\n",
       "    <tr>\n",
       "      <th>2</th>\n",
       "      <td>2</td>\n",
       "      <td>tcp</td>\n",
       "      <td>ftp_data</td>\n",
       "      <td>SF</td>\n",
       "      <td>12983</td>\n",
       "      <td>0</td>\n",
       "      <td>0</td>\n",
       "      <td>0</td>\n",
       "      <td>0</td>\n",
       "      <td>0</td>\n",
       "      <td>...</td>\n",
       "      <td>86</td>\n",
       "      <td>0.61</td>\n",
       "      <td>0.04</td>\n",
       "      <td>0.61</td>\n",
       "      <td>0.02</td>\n",
       "      <td>0.0</td>\n",
       "      <td>0.0</td>\n",
       "      <td>0.00</td>\n",
       "      <td>0.00</td>\n",
       "      <td>normal</td>\n",
       "    </tr>\n",
       "    <tr>\n",
       "      <th>3</th>\n",
       "      <td>0</td>\n",
       "      <td>icmp</td>\n",
       "      <td>eco_i</td>\n",
       "      <td>SF</td>\n",
       "      <td>20</td>\n",
       "      <td>0</td>\n",
       "      <td>0</td>\n",
       "      <td>0</td>\n",
       "      <td>0</td>\n",
       "      <td>0</td>\n",
       "      <td>...</td>\n",
       "      <td>57</td>\n",
       "      <td>1.00</td>\n",
       "      <td>0.00</td>\n",
       "      <td>1.00</td>\n",
       "      <td>0.28</td>\n",
       "      <td>0.0</td>\n",
       "      <td>0.0</td>\n",
       "      <td>0.00</td>\n",
       "      <td>0.00</td>\n",
       "      <td>saint</td>\n",
       "    </tr>\n",
       "    <tr>\n",
       "      <th>4</th>\n",
       "      <td>1</td>\n",
       "      <td>tcp</td>\n",
       "      <td>telnet</td>\n",
       "      <td>RSTO</td>\n",
       "      <td>0</td>\n",
       "      <td>15</td>\n",
       "      <td>0</td>\n",
       "      <td>0</td>\n",
       "      <td>0</td>\n",
       "      <td>0</td>\n",
       "      <td>...</td>\n",
       "      <td>86</td>\n",
       "      <td>0.31</td>\n",
       "      <td>0.17</td>\n",
       "      <td>0.03</td>\n",
       "      <td>0.02</td>\n",
       "      <td>0.0</td>\n",
       "      <td>0.0</td>\n",
       "      <td>0.83</td>\n",
       "      <td>0.71</td>\n",
       "      <td>mscan</td>\n",
       "    </tr>\n",
       "  </tbody>\n",
       "</table>\n",
       "<p>5 rows × 42 columns</p>\n",
       "</div>"
      ],
      "text/plain": [
       "   duration protocol_type   service  flag  src_bytes  dst_bytes  land  \\\n",
       "0         0           tcp   private   REJ          0          0     0   \n",
       "1         0           tcp   private   REJ          0          0     0   \n",
       "2         2           tcp  ftp_data    SF      12983          0     0   \n",
       "3         0          icmp     eco_i    SF         20          0     0   \n",
       "4         1           tcp    telnet  RSTO          0         15     0   \n",
       "\n",
       "   wrong_fragment  urgent  hot  ...  dst_host_srv_count  \\\n",
       "0               0       0    0  ...                  10   \n",
       "1               0       0    0  ...                   1   \n",
       "2               0       0    0  ...                  86   \n",
       "3               0       0    0  ...                  57   \n",
       "4               0       0    0  ...                  86   \n",
       "\n",
       "   dst_host_same_srv_rate  dst_host_diff_srv_rate  \\\n",
       "0                    0.04                    0.06   \n",
       "1                    0.00                    0.06   \n",
       "2                    0.61                    0.04   \n",
       "3                    1.00                    0.00   \n",
       "4                    0.31                    0.17   \n",
       "\n",
       "   dst_host_same_src_port_rate  dst_host_srv_diff_host_rate  \\\n",
       "0                         0.00                         0.00   \n",
       "1                         0.00                         0.00   \n",
       "2                         0.61                         0.02   \n",
       "3                         1.00                         0.28   \n",
       "4                         0.03                         0.02   \n",
       "\n",
       "   dst_host_serror_rate  dst_host_srv_serror_rate  dst_host_rerror_rate  \\\n",
       "0                   0.0                       0.0                  1.00   \n",
       "1                   0.0                       0.0                  1.00   \n",
       "2                   0.0                       0.0                  0.00   \n",
       "3                   0.0                       0.0                  0.00   \n",
       "4                   0.0                       0.0                  0.83   \n",
       "\n",
       "   dst_host_srv_rerror_rate   attack  \n",
       "0                      1.00  neptune  \n",
       "1                      1.00  neptune  \n",
       "2                      0.00   normal  \n",
       "3                      0.00    saint  \n",
       "4                      0.71    mscan  \n",
       "\n",
       "[5 rows x 42 columns]"
      ]
     },
     "execution_count": 7,
     "metadata": {},
     "output_type": "execute_result"
    }
   ],
   "source": [
    "print(\"Testing data\")\n",
    "test_df.head()"
   ]
  },
  {
   "cell_type": "code",
   "execution_count": 8,
   "id": "7651ecb3",
   "metadata": {},
   "outputs": [
    {
     "name": "stdout",
     "output_type": "stream",
     "text": [
      "Label distribution Training set:\n",
      "normal             67343\n",
      "neptune            41214\n",
      "satan               3633\n",
      "ipsweep             3599\n",
      "portsweep           2931\n",
      "smurf               2646\n",
      "nmap                1493\n",
      "back                 956\n",
      "teardrop             892\n",
      "warezclient          890\n",
      "pod                  201\n",
      "guess_passwd          53\n",
      "buffer_overflow       30\n",
      "warezmaster           20\n",
      "land                  18\n",
      "imap                  11\n",
      "rootkit               10\n",
      "loadmodule             9\n",
      "ftp_write              8\n",
      "multihop               7\n",
      "phf                    4\n",
      "perl                   3\n",
      "spy                    2\n",
      "Name: attack, dtype: int64\n"
     ]
    },
    {
     "data": {
      "text/plain": [
       "<AxesSubplot:ylabel='attack'>"
      ]
     },
     "execution_count": 8,
     "metadata": {},
     "output_type": "execute_result"
    },
    {
     "data": {
      "image/png": "[encoded data removed]",
      "text/plain": [
       "<Figure size 720x720 with 1 Axes>"
      ]
     },
     "metadata": {},
     "output_type": "display_data"
    }
   ],
   "source": [
    "# Analysing the attack column\n",
    "print('Label distribution Training set:')\n",
    "print(df['attack'].value_counts())\n",
    "df['attack'].value_counts().plot.pie(figsize=(10, 10))"
   ]
  },
  {
   "cell_type": "code",
   "execution_count": 9,
   "id": "29441020",
   "metadata": {},
   "outputs": [
    {
     "name": "stdout",
     "output_type": "stream",
     "text": [
      "Label distribution Test set:\n",
      "normal             9711\n",
      "neptune            4657\n",
      "guess_passwd       1231\n",
      "mscan               996\n",
      "warezmaster         944\n",
      "apache2             737\n",
      "satan               735\n",
      "processtable        685\n",
      "smurf               665\n",
      "back                359\n",
      "snmpguess           331\n",
      "saint               319\n",
      "mailbomb            293\n",
      "snmpgetattack       178\n",
      "portsweep           157\n",
      "ipsweep             141\n",
      "httptunnel          133\n",
      "nmap                 73\n",
      "pod                  41\n",
      "buffer_overflow      20\n",
      "multihop             18\n",
      "named                17\n",
      "ps                   15\n",
      "sendmail             14\n",
      "xterm                13\n",
      "rootkit              13\n",
      "teardrop             12\n",
      "xlock                 9\n",
      "land                  7\n",
      "xsnoop                4\n",
      "ftp_write             3\n",
      "loadmodule            2\n",
      "udpstorm              2\n",
      "sqlattack             2\n",
      "phf                   2\n",
      "perl                  2\n",
      "worm                  2\n",
      "imap                  1\n",
      "Name: attack, dtype: int64\n"
     ]
    },
    {
     "data": {
      "text/plain": [
       "<AxesSubplot:ylabel='attack'>"
      ]
     },
     "execution_count": 9,
     "metadata": {},
     "output_type": "execute_result"
    },
    {
     "data": {
      "image/png": "[encoded data removed]",
      "text/plain": [
       "<Figure size 720x720 with 1 Axes>"
      ]
     },
     "metadata": {},
     "output_type": "display_data"
    }
   ],
   "source": [
    "print('Label distribution Test set:')\n",
    "print(test_df['attack'].value_counts())\n",
    "test_df['attack'].value_counts().plot.pie(figsize=(10, 10))"
   ]
  },
  {
   "cell_type": "markdown",
   "id": "094f6e25",
   "metadata": {},
   "source": [
    "## Data Transformations"
   ]
  },
  {
   "cell_type": "markdown",
   "id": "d06c0e1b",
   "metadata": {},
   "source": [
    "The first transformation that I will do is around the attack field. I will start by adding a column that encodes 'normal' values as 0 and any other value as 1. We will use this as our classifier for a simple binary model that idenfities any attack."
   ]
  },
  {
   "cell_type": "code",
   "execution_count": 10,
   "id": "7b293e9a",
   "metadata": {},
   "outputs": [
    {
     "data": {
      "text/html": [
       "<div>\n",
       "<style scoped>\n",
       "    .dataframe tbody tr th:only-of-type {\n",
       "        vertical-align: middle;\n",
       "    }\n",
       "\n",
       "    .dataframe tbody tr th {\n",
       "        vertical-align: top;\n",
       "    }\n",
       "\n",
       "    .dataframe thead th {\n",
       "        text-align: right;\n",
       "    }\n",
       "</style>\n",
       "<table border=\"1\" class=\"dataframe\">\n",
       "  <thead>\n",
       "    <tr style=\"text-align: right;\">\n",
       "      <th></th>\n",
       "      <th>duration</th>\n",
       "      <th>protocol_type</th>\n",
       "      <th>service</th>\n",
       "      <th>flag</th>\n",
       "      <th>src_bytes</th>\n",
       "      <th>dst_bytes</th>\n",
       "      <th>land</th>\n",
       "      <th>wrong_fragment</th>\n",
       "      <th>urgent</th>\n",
       "      <th>hot</th>\n",
       "      <th>...</th>\n",
       "      <th>dst_host_same_srv_rate</th>\n",
       "      <th>dst_host_diff_srv_rate</th>\n",
       "      <th>dst_host_same_src_port_rate</th>\n",
       "      <th>dst_host_srv_diff_host_rate</th>\n",
       "      <th>dst_host_serror_rate</th>\n",
       "      <th>dst_host_srv_serror_rate</th>\n",
       "      <th>dst_host_rerror_rate</th>\n",
       "      <th>dst_host_srv_rerror_rate</th>\n",
       "      <th>attack</th>\n",
       "      <th>attack_flag</th>\n",
       "    </tr>\n",
       "  </thead>\n",
       "  <tbody>\n",
       "    <tr>\n",
       "      <th>0</th>\n",
       "      <td>0</td>\n",
       "      <td>tcp</td>\n",
       "      <td>ftp_data</td>\n",
       "      <td>SF</td>\n",
       "      <td>491</td>\n",
       "      <td>0</td>\n",
       "      <td>0</td>\n",
       "      <td>0</td>\n",
       "      <td>0</td>\n",
       "      <td>0</td>\n",
       "      <td>...</td>\n",
       "      <td>0.17</td>\n",
       "      <td>0.03</td>\n",
       "      <td>0.17</td>\n",
       "      <td>0.00</td>\n",
       "      <td>0.00</td>\n",
       "      <td>0.00</td>\n",
       "      <td>0.05</td>\n",
       "      <td>0.00</td>\n",
       "      <td>normal</td>\n",
       "      <td>0</td>\n",
       "    </tr>\n",
       "    <tr>\n",
       "      <th>1</th>\n",
       "      <td>0</td>\n",
       "      <td>udp</td>\n",
       "      <td>other</td>\n",
       "      <td>SF</td>\n",
       "      <td>146</td>\n",
       "      <td>0</td>\n",
       "      <td>0</td>\n",
       "      <td>0</td>\n",
       "      <td>0</td>\n",
       "      <td>0</td>\n",
       "      <td>...</td>\n",
       "      <td>0.00</td>\n",
       "      <td>0.60</td>\n",
       "      <td>0.88</td>\n",
       "      <td>0.00</td>\n",
       "      <td>0.00</td>\n",
       "      <td>0.00</td>\n",
       "      <td>0.00</td>\n",
       "      <td>0.00</td>\n",
       "      <td>normal</td>\n",
       "      <td>0</td>\n",
       "    </tr>\n",
       "    <tr>\n",
       "      <th>2</th>\n",
       "      <td>0</td>\n",
       "      <td>tcp</td>\n",
       "      <td>private</td>\n",
       "      <td>S0</td>\n",
       "      <td>0</td>\n",
       "      <td>0</td>\n",
       "      <td>0</td>\n",
       "      <td>0</td>\n",
       "      <td>0</td>\n",
       "      <td>0</td>\n",
       "      <td>...</td>\n",
       "      <td>0.10</td>\n",
       "      <td>0.05</td>\n",
       "      <td>0.00</td>\n",
       "      <td>0.00</td>\n",
       "      <td>1.00</td>\n",
       "      <td>1.00</td>\n",
       "      <td>0.00</td>\n",
       "      <td>0.00</td>\n",
       "      <td>neptune</td>\n",
       "      <td>1</td>\n",
       "    </tr>\n",
       "    <tr>\n",
       "      <th>3</th>\n",
       "      <td>0</td>\n",
       "      <td>tcp</td>\n",
       "      <td>http</td>\n",
       "      <td>SF</td>\n",
       "      <td>232</td>\n",
       "      <td>8153</td>\n",
       "      <td>0</td>\n",
       "      <td>0</td>\n",
       "      <td>0</td>\n",
       "      <td>0</td>\n",
       "      <td>...</td>\n",
       "      <td>1.00</td>\n",
       "      <td>0.00</td>\n",
       "      <td>0.03</td>\n",
       "      <td>0.04</td>\n",
       "      <td>0.03</td>\n",
       "      <td>0.01</td>\n",
       "      <td>0.00</td>\n",
       "      <td>0.01</td>\n",
       "      <td>normal</td>\n",
       "      <td>0</td>\n",
       "    </tr>\n",
       "    <tr>\n",
       "      <th>4</th>\n",
       "      <td>0</td>\n",
       "      <td>tcp</td>\n",
       "      <td>http</td>\n",
       "      <td>SF</td>\n",
       "      <td>199</td>\n",
       "      <td>420</td>\n",
       "      <td>0</td>\n",
       "      <td>0</td>\n",
       "      <td>0</td>\n",
       "      <td>0</td>\n",
       "      <td>...</td>\n",
       "      <td>1.00</td>\n",
       "      <td>0.00</td>\n",
       "      <td>0.00</td>\n",
       "      <td>0.00</td>\n",
       "      <td>0.00</td>\n",
       "      <td>0.00</td>\n",
       "      <td>0.00</td>\n",
       "      <td>0.00</td>\n",
       "      <td>normal</td>\n",
       "      <td>0</td>\n",
       "    </tr>\n",
       "  </tbody>\n",
       "</table>\n",
       "<p>5 rows × 43 columns</p>\n",
       "</div>"
      ],
      "text/plain": [
       "   duration protocol_type   service flag  src_bytes  dst_bytes  land  \\\n",
       "0         0           tcp  ftp_data   SF        491          0     0   \n",
       "1         0           udp     other   SF        146          0     0   \n",
       "2         0           tcp   private   S0          0          0     0   \n",
       "3         0           tcp      http   SF        232       8153     0   \n",
       "4         0           tcp      http   SF        199        420     0   \n",
       "\n",
       "   wrong_fragment  urgent  hot  ...  dst_host_same_srv_rate  \\\n",
       "0               0       0    0  ...                    0.17   \n",
       "1               0       0    0  ...                    0.00   \n",
       "2               0       0    0  ...                    0.10   \n",
       "3               0       0    0  ...                    1.00   \n",
       "4               0       0    0  ...                    1.00   \n",
       "\n",
       "   dst_host_diff_srv_rate  dst_host_same_src_port_rate  \\\n",
       "0                    0.03                         0.17   \n",
       "1                    0.60                         0.88   \n",
       "2                    0.05                         0.00   \n",
       "3                    0.00                         0.03   \n",
       "4                    0.00                         0.00   \n",
       "\n",
       "   dst_host_srv_diff_host_rate  dst_host_serror_rate  \\\n",
       "0                         0.00                  0.00   \n",
       "1                         0.00                  0.00   \n",
       "2                         0.00                  1.00   \n",
       "3                         0.04                  0.03   \n",
       "4                         0.00                  0.00   \n",
       "\n",
       "   dst_host_srv_serror_rate  dst_host_rerror_rate  dst_host_srv_rerror_rate  \\\n",
       "0                      0.00                  0.05                      0.00   \n",
       "1                      0.00                  0.00                      0.00   \n",
       "2                      1.00                  0.00                      0.00   \n",
       "3                      0.01                  0.00                      0.01   \n",
       "4                      0.00                  0.00                      0.00   \n",
       "\n",
       "    attack  attack_flag  \n",
       "0   normal            0  \n",
       "1   normal            0  \n",
       "2  neptune            1  \n",
       "3   normal            0  \n",
       "4   normal            0  \n",
       "\n",
       "[5 rows x 43 columns]"
      ]
     },
     "execution_count": 10,
     "metadata": {},
     "output_type": "execute_result"
    }
   ],
   "source": [
    "# map normal to 0, all attacks to 1\n",
    "is_attack = df.attack.map(lambda a: 0 if a == 'normal' else 1)\n",
    "test_attack = test_df.attack.map(lambda a: 0 if a == 'normal' else 1)\n",
    "\n",
    "#data_with_attack = df.join(is_attack, rsuffix='_flag')\n",
    "df['attack_flag'] = is_attack\n",
    "test_df['attack_flag'] = test_attack\n",
    "\n",
    "# view the result\n",
    "df.head()"
   ]
  },
  {
   "cell_type": "code",
   "execution_count": 11,
   "id": "fc10a95d",
   "metadata": {},
   "outputs": [
    {
     "data": {
      "text/plain": [
       "<AxesSubplot:ylabel='attack_flag'>"
      ]
     },
     "execution_count": 11,
     "metadata": {},
     "output_type": "execute_result"
    },
    {
     "data": {
      "image/png": "[encoded data removed]",
      "text/plain": [
       "<Figure size 432x288 with 1 Axes>"
      ]
     },
     "metadata": {
      "needs_background": "light"
     },
     "output_type": "display_data"
    }
   ],
   "source": [
    "sns.barplot(x=df['attack_flag'].value_counts().index, y=df['attack_flag'].value_counts())"
   ]
  },
  {
   "cell_type": "markdown",
   "id": "ea0f9aab",
   "metadata": {},
   "source": [
    "## Map attack field to attack class"
   ]
  },
  {
   "cell_type": "markdown",
   "id": "e37b0a7a",
   "metadata": {},
   "source": [
    "**1) Denial of Service (DoS):** It is one of the most harmful attacks. These type of attacks restrict the user from using\n",
    "certain services. The attacker tries to overload the system or keep the resources busy in the network and does not\n",
    "allow the user to access services.\n",
    "\n",
    "**2) Probing Attack (Probe):** This attack aims to analysing the network, gather information. This attack is generally performed to be able to attack through some other methods later.\n",
    "\n",
    "**3) Remote to Local Attack (R2L):** In this attack, the attacker tries to gain access to a system by sending some message to the server and gaining access to system from a remote machine. The attacker makes some changes to the server to get access to resources.\n",
    "\n",
    "**4) User to Root Attack (U2R):** In this kind of attack, the attacker tries to gain access to the system as a root user. A class of exploit in which the adversary starts out with access to a normal user account on the system (gained either by sniffing passwords, a dictionary attack, or social engineering) and is able to exploit some vulnerability to gain root access to the system. The attacker tries to gain access to all data of the system and have full control on the server."
   ]
  },
  {
   "cell_type": "markdown",
   "id": "fb655ba2",
   "metadata": {},
   "source": [
    "### Next, I will classify each of the attacks according to attack type for a more granular prediction model.\n",
    "\n",
    "**Denial of Service attacks (DoS):**\n",
    "apache2\n",
    ",back\n",
    ",land\n",
    ",neptune\n",
    ",mailbomb\n",
    ",pod\n",
    ",processtable\n",
    ",smurf\n",
    ",teardrop\n",
    ",udpstorm\n",
    ",worm\n",
    "\n",
    "**Probing Attack (Probe):**\n",
    "ipsweep\n",
    ",mscan\n",
    ",nmap\n",
    ",portsweep\n",
    ",saint\n",
    ",satan\n",
    "\n",
    "**Remote to Local Attack (R2L):**\n",
    "ftp_write\n",
    ",guess_passwd\n",
    ",http_tunnel\n",
    ",imap\n",
    ",multihop\n",
    ",named\n",
    ",phf\n",
    ",sendmail\n",
    ",snmpgetattack\n",
    ",snmpguess\n",
    ",spy\n",
    ",warezclient\n",
    ",warezmaster\n",
    ",xclock\n",
    ",xsnoop\n",
    "\n",
    "**User to Root Attack (U2R):**\n",
    "buffer_overflow\n",
    ",loadmdoule\n",
    ",perl\n",
    ",ps\n",
    ",rootkit\n",
    ",sqlattack\n",
    ",xterm"
   ]
  },
  {
   "cell_type": "markdown",
   "id": "69c4bf3f",
   "metadata": {},
   "source": [
    "### Rename every attack label: 0=normal, 1=DoS, 2=Probe, 3=R2L and 4=U2R and add a corressponding column"
   ]
  },
  {
   "cell_type": "code",
   "execution_count": 12,
   "id": "92355504",
   "metadata": {},
   "outputs": [
    {
     "data": {
      "text/html": [
       "<div>\n",
       "<style scoped>\n",
       "    .dataframe tbody tr th:only-of-type {\n",
       "        vertical-align: middle;\n",
       "    }\n",
       "\n",
       "    .dataframe tbody tr th {\n",
       "        vertical-align: top;\n",
       "    }\n",
       "\n",
       "    .dataframe thead th {\n",
       "        text-align: right;\n",
       "    }\n",
       "</style>\n",
       "<table border=\"1\" class=\"dataframe\">\n",
       "  <thead>\n",
       "    <tr style=\"text-align: right;\">\n",
       "      <th></th>\n",
       "      <th>duration</th>\n",
       "      <th>protocol_type</th>\n",
       "      <th>service</th>\n",
       "      <th>flag</th>\n",
       "      <th>src_bytes</th>\n",
       "      <th>dst_bytes</th>\n",
       "      <th>land</th>\n",
       "      <th>wrong_fragment</th>\n",
       "      <th>urgent</th>\n",
       "      <th>hot</th>\n",
       "      <th>...</th>\n",
       "      <th>dst_host_diff_srv_rate</th>\n",
       "      <th>dst_host_same_src_port_rate</th>\n",
       "      <th>dst_host_srv_diff_host_rate</th>\n",
       "      <th>dst_host_serror_rate</th>\n",
       "      <th>dst_host_srv_serror_rate</th>\n",
       "      <th>dst_host_rerror_rate</th>\n",
       "      <th>dst_host_srv_rerror_rate</th>\n",
       "      <th>attack</th>\n",
       "      <th>attack_flag</th>\n",
       "      <th>attack_map</th>\n",
       "    </tr>\n",
       "  </thead>\n",
       "  <tbody>\n",
       "    <tr>\n",
       "      <th>0</th>\n",
       "      <td>0</td>\n",
       "      <td>tcp</td>\n",
       "      <td>ftp_data</td>\n",
       "      <td>SF</td>\n",
       "      <td>491</td>\n",
       "      <td>0</td>\n",
       "      <td>0</td>\n",
       "      <td>0</td>\n",
       "      <td>0</td>\n",
       "      <td>0</td>\n",
       "      <td>...</td>\n",
       "      <td>0.03</td>\n",
       "      <td>0.17</td>\n",
       "      <td>0.00</td>\n",
       "      <td>0.00</td>\n",
       "      <td>0.00</td>\n",
       "      <td>0.05</td>\n",
       "      <td>0.00</td>\n",
       "      <td>normal</td>\n",
       "      <td>0</td>\n",
       "      <td>0</td>\n",
       "    </tr>\n",
       "    <tr>\n",
       "      <th>1</th>\n",
       "      <td>0</td>\n",
       "      <td>udp</td>\n",
       "      <td>other</td>\n",
       "      <td>SF</td>\n",
       "      <td>146</td>\n",
       "      <td>0</td>\n",
       "      <td>0</td>\n",
       "      <td>0</td>\n",
       "      <td>0</td>\n",
       "      <td>0</td>\n",
       "      <td>...</td>\n",
       "      <td>0.60</td>\n",
       "      <td>0.88</td>\n",
       "      <td>0.00</td>\n",
       "      <td>0.00</td>\n",
       "      <td>0.00</td>\n",
       "      <td>0.00</td>\n",
       "      <td>0.00</td>\n",
       "      <td>normal</td>\n",
       "      <td>0</td>\n",
       "      <td>0</td>\n",
       "    </tr>\n",
       "    <tr>\n",
       "      <th>2</th>\n",
       "      <td>0</td>\n",
       "      <td>tcp</td>\n",
       "      <td>private</td>\n",
       "      <td>S0</td>\n",
       "      <td>0</td>\n",
       "      <td>0</td>\n",
       "      <td>0</td>\n",
       "      <td>0</td>\n",
       "      <td>0</td>\n",
       "      <td>0</td>\n",
       "      <td>...</td>\n",
       "      <td>0.05</td>\n",
       "      <td>0.00</td>\n",
       "      <td>0.00</td>\n",
       "      <td>1.00</td>\n",
       "      <td>1.00</td>\n",
       "      <td>0.00</td>\n",
       "      <td>0.00</td>\n",
       "      <td>neptune</td>\n",
       "      <td>1</td>\n",
       "      <td>1</td>\n",
       "    </tr>\n",
       "    <tr>\n",
       "      <th>3</th>\n",
       "      <td>0</td>\n",
       "      <td>tcp</td>\n",
       "      <td>http</td>\n",
       "      <td>SF</td>\n",
       "      <td>232</td>\n",
       "      <td>8153</td>\n",
       "      <td>0</td>\n",
       "      <td>0</td>\n",
       "      <td>0</td>\n",
       "      <td>0</td>\n",
       "      <td>...</td>\n",
       "      <td>0.00</td>\n",
       "      <td>0.03</td>\n",
       "      <td>0.04</td>\n",
       "      <td>0.03</td>\n",
       "      <td>0.01</td>\n",
       "      <td>0.00</td>\n",
       "      <td>0.01</td>\n",
       "      <td>normal</td>\n",
       "      <td>0</td>\n",
       "      <td>0</td>\n",
       "    </tr>\n",
       "    <tr>\n",
       "      <th>4</th>\n",
       "      <td>0</td>\n",
       "      <td>tcp</td>\n",
       "      <td>http</td>\n",
       "      <td>SF</td>\n",
       "      <td>199</td>\n",
       "      <td>420</td>\n",
       "      <td>0</td>\n",
       "      <td>0</td>\n",
       "      <td>0</td>\n",
       "      <td>0</td>\n",
       "      <td>...</td>\n",
       "      <td>0.00</td>\n",
       "      <td>0.00</td>\n",
       "      <td>0.00</td>\n",
       "      <td>0.00</td>\n",
       "      <td>0.00</td>\n",
       "      <td>0.00</td>\n",
       "      <td>0.00</td>\n",
       "      <td>normal</td>\n",
       "      <td>0</td>\n",
       "      <td>0</td>\n",
       "    </tr>\n",
       "  </tbody>\n",
       "</table>\n",
       "<p>5 rows × 44 columns</p>\n",
       "</div>"
      ],
      "text/plain": [
       "   duration protocol_type   service flag  src_bytes  dst_bytes  land  \\\n",
       "0         0           tcp  ftp_data   SF        491          0     0   \n",
       "1         0           udp     other   SF        146          0     0   \n",
       "2         0           tcp   private   S0          0          0     0   \n",
       "3         0           tcp      http   SF        232       8153     0   \n",
       "4         0           tcp      http   SF        199        420     0   \n",
       "\n",
       "   wrong_fragment  urgent  hot  ...  dst_host_diff_srv_rate  \\\n",
       "0               0       0    0  ...                    0.03   \n",
       "1               0       0    0  ...                    0.60   \n",
       "2               0       0    0  ...                    0.05   \n",
       "3               0       0    0  ...                    0.00   \n",
       "4               0       0    0  ...                    0.00   \n",
       "\n",
       "   dst_host_same_src_port_rate  dst_host_srv_diff_host_rate  \\\n",
       "0                         0.17                         0.00   \n",
       "1                         0.88                         0.00   \n",
       "2                         0.00                         0.00   \n",
       "3                         0.03                         0.04   \n",
       "4                         0.00                         0.00   \n",
       "\n",
       "   dst_host_serror_rate  dst_host_srv_serror_rate  dst_host_rerror_rate  \\\n",
       "0                  0.00                      0.00                  0.05   \n",
       "1                  0.00                      0.00                  0.00   \n",
       "2                  1.00                      1.00                  0.00   \n",
       "3                  0.03                      0.01                  0.00   \n",
       "4                  0.00                      0.00                  0.00   \n",
       "\n",
       "   dst_host_srv_rerror_rate   attack  attack_flag  attack_map  \n",
       "0                      0.00   normal            0           0  \n",
       "1                      0.00   normal            0           0  \n",
       "2                      0.00  neptune            1           1  \n",
       "3                      0.01   normal            0           0  \n",
       "4                      0.00   normal            0           0  \n",
       "\n",
       "[5 rows x 44 columns]"
      ]
     },
     "execution_count": 12,
     "metadata": {},
     "output_type": "execute_result"
    }
   ],
   "source": [
    "# lists to hold our attack classifications\n",
    "DoS = ['apache2','back','land','neptune','mailbomb','pod','processtable','smurf','teardrop','udpstorm','worm']\n",
    "Probe = ['ipsweep','mscan','nmap','portsweep','saint','satan']\n",
    "R2L = ['ftp_write','guess_passwd','http_tunnel','imap','multihop','named','phf','sendmail','snmpgetattack','snmpguess','spy','warezclient','warezmaster','xclock','xsnoop']\n",
    "U2R = ['buffer_overflow','loadmdoule','perl','ps','rootkit','sqlattack','xterm']\n",
    "\n",
    "# we will use these for plotting below\n",
    "attack_labels = ['Normal','DoS','Probe','R2L','U2R']\n",
    "\n",
    "# helper function to pass to data frame mapping\n",
    "def map_attack(attack):\n",
    "    if attack in DoS:\n",
    "        attack_type = 1\n",
    "    elif attack in Probe:\n",
    "        attack_type = 2\n",
    "    elif attack in R2L:\n",
    "        attack_type = 3\n",
    "    elif attack in U2R:\n",
    "        attack_type = 4\n",
    "    else:\n",
    "        # normal maps to 0\n",
    "        attack_type = 0\n",
    "        \n",
    "    return attack_type\n",
    "\n",
    "# map the data and join to the data set\n",
    "attack_map = df.attack.apply(map_attack)\n",
    "df['attack_map'] = attack_map\n",
    "\n",
    "test_attack_map = test_df.attack.apply(map_attack)\n",
    "test_df['attack_map'] = test_attack_map\n",
    "\n",
    "# view the result\n",
    "df.head()"
   ]
  },
  {
   "cell_type": "code",
   "execution_count": 13,
   "id": "e0c43da2",
   "metadata": {},
   "outputs": [
    {
     "data": {
      "text/plain": [
       "<AxesSubplot:ylabel='attack_map'>"
      ]
     },
     "execution_count": 13,
     "metadata": {},
     "output_type": "execute_result"
    },
    {
     "data": {
      "image/png": "[encoded data removed]",
      "text/plain": [
       "<Figure size 432x288 with 1 Axes>"
      ]
     },
     "metadata": {
      "needs_background": "light"
     },
     "output_type": "display_data"
    }
   ],
   "source": [
    "sns.barplot(x=df['attack_map'].value_counts().index, y=df['attack_map'].value_counts())"
   ]
  },
  {
   "cell_type": "code",
   "execution_count": 14,
   "id": "ae5f78a7",
   "metadata": {},
   "outputs": [
    {
     "name": "stdout",
     "output_type": "stream",
     "text": [
      "Dimensions of the Training set: (125973, 43)\n",
      "Dimensions of the Test set: (22544, 43)\n"
     ]
    }
   ],
   "source": [
    "df.drop('attack', axis=1, inplace=True)\n",
    "test_df.drop('attack', axis=1, inplace=True)\n",
    "print('Dimensions of the Training set:',df.shape)\n",
    "print('Dimensions of the Test set:',test_df.shape)"
   ]
  },
  {
   "cell_type": "markdown",
   "id": "6ca2a141",
   "metadata": {},
   "source": [
    "# Feature engineering"
   ]
  },
  {
   "cell_type": "markdown",
   "id": "4c240fad",
   "metadata": {},
   "source": [
    "One-Hot-Encoding (one-of-K) is used to to transform all categorical features into binary features. Requirement for One-Hot-encoding: \"The input to this transformer should be a matrix of integers, denoting the values taken on by categorical (discrete) features. The output will be a sparse matrix where each column corresponds to one possible value of one feature.\"\n",
    "\n",
    "Therefore the features first need to be transformed with LabelEncoder, to transform every category to a number."
   ]
  },
  {
   "cell_type": "code",
   "execution_count": 15,
   "id": "a2ae1b0a",
   "metadata": {},
   "outputs": [
    {
     "name": "stdout",
     "output_type": "stream",
     "text": [
      "Training set:\n",
      "Feature 'protocol_type' has 3 categories\n",
      "Feature 'service' has 70 categories\n",
      "Feature 'flag' has 11 categories\n",
      "\n",
      "Distribution of categories in service:\n",
      "http        40338\n",
      "private     21853\n",
      "domain_u     9043\n",
      "smtp         7313\n",
      "ftp_data     6860\n",
      "Name: service, dtype: int64\n"
     ]
    }
   ],
   "source": [
    "# colums that are categorical and not binary yet: protocol_type (column 2), service (column 3), flag (column 4).\n",
    "# explore categorical features\n",
    "print('Training set:')\n",
    "for col_name in df.columns:\n",
    "    if df[col_name].dtypes == 'object' :\n",
    "        unique_cat = len(df[col_name].unique())\n",
    "        print(\"Feature '{col_name}' has {unique_cat} categories\".format(col_name=col_name, unique_cat=unique_cat))\n",
    "\n",
    "#see how distributed the feature service is, it is evenly distributed and therefore we need to make dummies for all.\n",
    "print()\n",
    "print('Distribution of categories in service:')\n",
    "print(df['service'].value_counts().sort_values(ascending=False).head())"
   ]
  },
  {
   "cell_type": "code",
   "execution_count": 16,
   "id": "64d6dea7",
   "metadata": {},
   "outputs": [
    {
     "name": "stdout",
     "output_type": "stream",
     "text": [
      "Test set:\n",
      "Feature 'protocol_type' has 3 categories\n",
      "Feature 'service' has 64 categories\n",
      "Feature 'flag' has 11 categories\n"
     ]
    }
   ],
   "source": [
    "# Test set\n",
    "print('Test set:')\n",
    "for col_name in test_df.columns:\n",
    "    if test_df[col_name].dtypes == 'object' :\n",
    "        unique_cat = len(test_df[col_name].unique())\n",
    "        print(\"Feature '{col_name}' has {unique_cat} categories\".format(col_name=col_name, unique_cat=unique_cat))"
   ]
  },
  {
   "cell_type": "markdown",
   "id": "15ad8c4c",
   "metadata": {},
   "source": [
    "#### Conclusion: Need to make dummies for all categories as the distribution is fairly even. In total: 3+70+11=84 dummies.\n",
    "Comparing the results shows that the Test set has fewer categories (6), these need to be added as empty columns."
   ]
  },
  {
   "cell_type": "markdown",
   "id": "1ee7781a",
   "metadata": {},
   "source": [
    "### Let's take a look at some charts to see how things are distributed."
   ]
  },
  {
   "cell_type": "code",
   "execution_count": 17,
   "id": "425670b4",
   "metadata": {},
   "outputs": [],
   "source": [
    "# helper function for drawing mulitple charts.\n",
    "def bake_pies(data_list,labels):\n",
    "    list_length = len(data_list)\n",
    "    \n",
    "    # setup for mapping colors\n",
    "    color_list = sns.color_palette()\n",
    "    color_cycle = itertools.cycle(color_list)\n",
    "    cdict = {}\n",
    "    \n",
    "    # build the subplots\n",
    "    fig, axs = plt.subplots(1, list_length,figsize=(18,10), tight_layout=False)\n",
    "    plt.subplots_adjust(wspace=1/list_length)\n",
    "    \n",
    "    # loop through the data sets and build the charts\n",
    "    for count, data_set in enumerate(data_list): \n",
    "        \n",
    "        # update our color mapt with new values\n",
    "        for num, value in enumerate(np.unique(data_set.index)):\n",
    "            if value not in cdict:\n",
    "                cdict[value] = next(color_cycle)\n",
    "       \n",
    "        # build the wedges\n",
    "        wedges,texts = axs[count].pie(data_set,\n",
    "                           colors=[cdict[v] for v in data_set.index])\n",
    "\n",
    "        # build the legend\n",
    "        axs[count].legend(wedges, data_set.index,\n",
    "                           title=\"Flags\",\n",
    "                           loc=\"center left\",\n",
    "                           bbox_to_anchor=(1, 0, 0.5, 1))\n",
    "        # set the title\n",
    "        axs[count].set_title(labels[count])\n",
    "        \n",
    "    return axs"
   ]
  },
  {
   "cell_type": "code",
   "execution_count": 18,
   "id": "3909f7ef",
   "metadata": {},
   "outputs": [
    {
     "data": {
      "image/png": "[encoded data removed]",
      "text/plain": [
       "<Figure size 1296x720 with 2 Axes>"
      ]
     },
     "metadata": {},
     "output_type": "display_data"
    }
   ],
   "source": [
    "normal_flags = df.loc[df.attack_flag == 0].protocol_type.value_counts()\n",
    "attack_flags = df.loc[df.attack_flag == 1].protocol_type.value_counts()\n",
    "\n",
    "# create the charts\n",
    "flag_axs = bake_pies([normal_flags, attack_flags], ['normal','attack'])        \n",
    "plt.show()"
   ]
  },
  {
   "cell_type": "markdown",
   "id": "16d39316",
   "metadata": {},
   "source": [
    "The thing to notice here is the difference in each protocol type. So my initial impression is that protocol may be useful in being able to identify the type of traffic we are observing."
   ]
  },
  {
   "cell_type": "code",
   "execution_count": 19,
   "id": "c729928f",
   "metadata": {},
   "outputs": [
    {
     "data": {
      "image/png": "[encoded data removed]",
      "text/plain": [
       "<Figure size 1296x720 with 2 Axes>"
      ]
     },
     "metadata": {},
     "output_type": "display_data"
    }
   ],
   "source": [
    "normal_flags = df.loc[df.attack_flag == 0].service.value_counts()\n",
    "attack_flags = df.loc[df.attack_flag == 1].service.value_counts()\n",
    "\n",
    "# create the charts\n",
    "flag_axs = bake_pies([normal_flags, attack_flags], ['normal','attack'])        \n",
    "plt.show()"
   ]
  },
  {
   "cell_type": "code",
   "execution_count": 20,
   "id": "a019ffd9",
   "metadata": {},
   "outputs": [
    {
     "data": {
      "image/png": "[encoded data removed]",
      "text/plain": [
       "<Figure size 1296x720 with 2 Axes>"
      ]
     },
     "metadata": {},
     "output_type": "display_data"
    }
   ],
   "source": [
    "normal_flags = df.loc[df.attack_flag == 0].flag.value_counts()\n",
    "attack_flags = df.loc[df.attack_flag == 1].flag.value_counts()\n",
    "\n",
    "# create the charts\n",
    "flag_axs = bake_pies([normal_flags, attack_flags], ['normal','attack'])        \n",
    "plt.show()"
   ]
  },
  {
   "cell_type": "markdown",
   "id": "e564ccc8",
   "metadata": {},
   "source": [
    "## LabelEncoder"
   ]
  },
  {
   "cell_type": "markdown",
   "id": "8b68ce87",
   "metadata": {},
   "source": [
    "### Insert categorical features into a 2D numpy array"
   ]
  },
  {
   "cell_type": "code",
   "execution_count": 21,
   "id": "f7c43d04",
   "metadata": {},
   "outputs": [
    {
     "data": {
      "text/html": [
       "<div>\n",
       "<style scoped>\n",
       "    .dataframe tbody tr th:only-of-type {\n",
       "        vertical-align: middle;\n",
       "    }\n",
       "\n",
       "    .dataframe tbody tr th {\n",
       "        vertical-align: top;\n",
       "    }\n",
       "\n",
       "    .dataframe thead th {\n",
       "        text-align: right;\n",
       "    }\n",
       "</style>\n",
       "<table border=\"1\" class=\"dataframe\">\n",
       "  <thead>\n",
       "    <tr style=\"text-align: right;\">\n",
       "      <th></th>\n",
       "      <th>protocol_type</th>\n",
       "      <th>service</th>\n",
       "      <th>flag</th>\n",
       "    </tr>\n",
       "  </thead>\n",
       "  <tbody>\n",
       "    <tr>\n",
       "      <th>0</th>\n",
       "      <td>tcp</td>\n",
       "      <td>ftp_data</td>\n",
       "      <td>SF</td>\n",
       "    </tr>\n",
       "    <tr>\n",
       "      <th>1</th>\n",
       "      <td>udp</td>\n",
       "      <td>other</td>\n",
       "      <td>SF</td>\n",
       "    </tr>\n",
       "    <tr>\n",
       "      <th>2</th>\n",
       "      <td>tcp</td>\n",
       "      <td>private</td>\n",
       "      <td>S0</td>\n",
       "    </tr>\n",
       "    <tr>\n",
       "      <th>3</th>\n",
       "      <td>tcp</td>\n",
       "      <td>http</td>\n",
       "      <td>SF</td>\n",
       "    </tr>\n",
       "    <tr>\n",
       "      <th>4</th>\n",
       "      <td>tcp</td>\n",
       "      <td>http</td>\n",
       "      <td>SF</td>\n",
       "    </tr>\n",
       "  </tbody>\n",
       "</table>\n",
       "</div>"
      ],
      "text/plain": [
       "  protocol_type   service flag\n",
       "0           tcp  ftp_data   SF\n",
       "1           udp     other   SF\n",
       "2           tcp   private   S0\n",
       "3           tcp      http   SF\n",
       "4           tcp      http   SF"
      ]
     },
     "execution_count": 21,
     "metadata": {},
     "output_type": "execute_result"
    }
   ],
   "source": [
    "from sklearn.preprocessing import LabelEncoder,OneHotEncoder\n",
    "# insert code to get a list of categorical columns into a variable, categorical_columns\n",
    "categorical_columns=['protocol_type', 'service', 'flag'] \n",
    " # Get the categorical values into a 2D numpy array\n",
    "df_categorical_values = df[categorical_columns]\n",
    "testdf_categorical_values = test_df[categorical_columns]\n",
    "df_categorical_values.head()"
   ]
  },
  {
   "cell_type": "markdown",
   "id": "8427c492",
   "metadata": {},
   "source": [
    "#### Make column names for dummies"
   ]
  },
  {
   "cell_type": "code",
   "execution_count": 22,
   "id": "9bfe71cd",
   "metadata": {
    "scrolled": true
   },
   "outputs": [
    {
     "name": "stdout",
     "output_type": "stream",
     "text": [
      "['Protocol_type_icmp', 'Protocol_type_tcp', 'Protocol_type_udp', 'service_IRC', 'service_X11', 'service_Z39_50', 'service_aol', 'service_auth', 'service_bgp', 'service_courier', 'service_csnet_ns', 'service_ctf', 'service_daytime', 'service_discard', 'service_domain', 'service_domain_u', 'service_echo', 'service_eco_i', 'service_ecr_i', 'service_efs', 'service_exec', 'service_finger', 'service_ftp', 'service_ftp_data', 'service_gopher', 'service_harvest', 'service_hostnames', 'service_http', 'service_http_2784', 'service_http_443', 'service_http_8001', 'service_imap4', 'service_iso_tsap', 'service_klogin', 'service_kshell', 'service_ldap', 'service_link', 'service_login', 'service_mtp', 'service_name', 'service_netbios_dgm', 'service_netbios_ns', 'service_netbios_ssn', 'service_netstat', 'service_nnsp', 'service_nntp', 'service_ntp_u', 'service_other', 'service_pm_dump', 'service_pop_2', 'service_pop_3', 'service_printer', 'service_private', 'service_red_i', 'service_remote_job', 'service_rje', 'service_shell', 'service_smtp', 'service_sql_net', 'service_ssh', 'service_sunrpc', 'service_supdup', 'service_systat', 'service_telnet', 'service_tftp_u', 'service_tim_i', 'service_time', 'service_urh_i', 'service_urp_i', 'service_uucp', 'service_uucp_path', 'service_vmnet', 'service_whois', 'flag_OTH', 'flag_REJ', 'flag_RSTO', 'flag_RSTOS0', 'flag_RSTR', 'flag_S0', 'flag_S1', 'flag_S2', 'flag_S3', 'flag_SF', 'flag_SH']\n",
      "Total number of columns to be added = 84\n"
     ]
    }
   ],
   "source": [
    "# protocol type\n",
    "unique_protocol=sorted(df.protocol_type.unique())\n",
    "string1 = 'Protocol_type_'\n",
    "unique_protocol2=[string1 + x for x in unique_protocol]\n",
    "# service\n",
    "unique_service=sorted(df.service.unique())\n",
    "string2 = 'service_'\n",
    "unique_service2=[string2 + x for x in unique_service]\n",
    "# flag\n",
    "unique_flag=sorted(df.flag.unique())\n",
    "string3 = 'flag_'\n",
    "unique_flag2=[string3 + x for x in unique_flag]\n",
    "# put together\n",
    "dumcols=unique_protocol2 + unique_service2 + unique_flag2\n",
    "print(dumcols)\n",
    "print(\"Total number of columns to be added =\",len(dumcols))\n",
    "\n",
    "#do same for test set\n",
    "unique_service_test=sorted(test_df.service.unique())\n",
    "unique_service2_test=[string2 + x for x in unique_service_test]\n",
    "testdumcols=unique_protocol2 + unique_service2_test + unique_flag2"
   ]
  },
  {
   "cell_type": "markdown",
   "id": "f5db8483",
   "metadata": {},
   "source": [
    "### Transform categorical features into numbers using LabelEncoder()"
   ]
  },
  {
   "cell_type": "code",
   "execution_count": 23,
   "id": "cf3f4255",
   "metadata": {},
   "outputs": [
    {
     "name": "stdout",
     "output_type": "stream",
     "text": [
      "   protocol_type  service  flag\n",
      "0              1       20     9\n",
      "1              2       44     9\n",
      "2              1       49     5\n",
      "3              1       24     9\n",
      "4              1       24     9\n"
     ]
    }
   ],
   "source": [
    "# train set\n",
    "df_categorical_values_enc=df_categorical_values.apply(LabelEncoder().fit_transform)\n",
    "print(df_categorical_values_enc.head())\n",
    "# test set\n",
    "testdf_categorical_values_enc=testdf_categorical_values.apply(LabelEncoder().fit_transform)"
   ]
  },
  {
   "cell_type": "markdown",
   "id": "a81ae82c",
   "metadata": {},
   "source": [
    "## One-Hot-Encoding"
   ]
  },
  {
   "cell_type": "code",
   "execution_count": 24,
   "id": "6c49c153",
   "metadata": {
    "scrolled": true
   },
   "outputs": [
    {
     "data": {
      "text/html": [
       "<div>\n",
       "<style scoped>\n",
       "    .dataframe tbody tr th:only-of-type {\n",
       "        vertical-align: middle;\n",
       "    }\n",
       "\n",
       "    .dataframe tbody tr th {\n",
       "        vertical-align: top;\n",
       "    }\n",
       "\n",
       "    .dataframe thead th {\n",
       "        text-align: right;\n",
       "    }\n",
       "</style>\n",
       "<table border=\"1\" class=\"dataframe\">\n",
       "  <thead>\n",
       "    <tr style=\"text-align: right;\">\n",
       "      <th></th>\n",
       "      <th>Protocol_type_icmp</th>\n",
       "      <th>Protocol_type_tcp</th>\n",
       "      <th>Protocol_type_udp</th>\n",
       "      <th>service_IRC</th>\n",
       "      <th>service_X11</th>\n",
       "      <th>service_Z39_50</th>\n",
       "      <th>service_aol</th>\n",
       "      <th>service_auth</th>\n",
       "      <th>service_bgp</th>\n",
       "      <th>service_courier</th>\n",
       "      <th>...</th>\n",
       "      <th>flag_REJ</th>\n",
       "      <th>flag_RSTO</th>\n",
       "      <th>flag_RSTOS0</th>\n",
       "      <th>flag_RSTR</th>\n",
       "      <th>flag_S0</th>\n",
       "      <th>flag_S1</th>\n",
       "      <th>flag_S2</th>\n",
       "      <th>flag_S3</th>\n",
       "      <th>flag_SF</th>\n",
       "      <th>flag_SH</th>\n",
       "    </tr>\n",
       "  </thead>\n",
       "  <tbody>\n",
       "    <tr>\n",
       "      <th>0</th>\n",
       "      <td>0.0</td>\n",
       "      <td>1.0</td>\n",
       "      <td>0.0</td>\n",
       "      <td>0.0</td>\n",
       "      <td>0.0</td>\n",
       "      <td>0.0</td>\n",
       "      <td>0.0</td>\n",
       "      <td>0.0</td>\n",
       "      <td>0.0</td>\n",
       "      <td>0.0</td>\n",
       "      <td>...</td>\n",
       "      <td>0.0</td>\n",
       "      <td>0.0</td>\n",
       "      <td>0.0</td>\n",
       "      <td>0.0</td>\n",
       "      <td>0.0</td>\n",
       "      <td>0.0</td>\n",
       "      <td>0.0</td>\n",
       "      <td>0.0</td>\n",
       "      <td>1.0</td>\n",
       "      <td>0.0</td>\n",
       "    </tr>\n",
       "    <tr>\n",
       "      <th>1</th>\n",
       "      <td>0.0</td>\n",
       "      <td>0.0</td>\n",
       "      <td>1.0</td>\n",
       "      <td>0.0</td>\n",
       "      <td>0.0</td>\n",
       "      <td>0.0</td>\n",
       "      <td>0.0</td>\n",
       "      <td>0.0</td>\n",
       "      <td>0.0</td>\n",
       "      <td>0.0</td>\n",
       "      <td>...</td>\n",
       "      <td>0.0</td>\n",
       "      <td>0.0</td>\n",
       "      <td>0.0</td>\n",
       "      <td>0.0</td>\n",
       "      <td>0.0</td>\n",
       "      <td>0.0</td>\n",
       "      <td>0.0</td>\n",
       "      <td>0.0</td>\n",
       "      <td>1.0</td>\n",
       "      <td>0.0</td>\n",
       "    </tr>\n",
       "    <tr>\n",
       "      <th>2</th>\n",
       "      <td>0.0</td>\n",
       "      <td>1.0</td>\n",
       "      <td>0.0</td>\n",
       "      <td>0.0</td>\n",
       "      <td>0.0</td>\n",
       "      <td>0.0</td>\n",
       "      <td>0.0</td>\n",
       "      <td>0.0</td>\n",
       "      <td>0.0</td>\n",
       "      <td>0.0</td>\n",
       "      <td>...</td>\n",
       "      <td>0.0</td>\n",
       "      <td>0.0</td>\n",
       "      <td>0.0</td>\n",
       "      <td>0.0</td>\n",
       "      <td>1.0</td>\n",
       "      <td>0.0</td>\n",
       "      <td>0.0</td>\n",
       "      <td>0.0</td>\n",
       "      <td>0.0</td>\n",
       "      <td>0.0</td>\n",
       "    </tr>\n",
       "    <tr>\n",
       "      <th>3</th>\n",
       "      <td>0.0</td>\n",
       "      <td>1.0</td>\n",
       "      <td>0.0</td>\n",
       "      <td>0.0</td>\n",
       "      <td>0.0</td>\n",
       "      <td>0.0</td>\n",
       "      <td>0.0</td>\n",
       "      <td>0.0</td>\n",
       "      <td>0.0</td>\n",
       "      <td>0.0</td>\n",
       "      <td>...</td>\n",
       "      <td>0.0</td>\n",
       "      <td>0.0</td>\n",
       "      <td>0.0</td>\n",
       "      <td>0.0</td>\n",
       "      <td>0.0</td>\n",
       "      <td>0.0</td>\n",
       "      <td>0.0</td>\n",
       "      <td>0.0</td>\n",
       "      <td>1.0</td>\n",
       "      <td>0.0</td>\n",
       "    </tr>\n",
       "    <tr>\n",
       "      <th>4</th>\n",
       "      <td>0.0</td>\n",
       "      <td>1.0</td>\n",
       "      <td>0.0</td>\n",
       "      <td>0.0</td>\n",
       "      <td>0.0</td>\n",
       "      <td>0.0</td>\n",
       "      <td>0.0</td>\n",
       "      <td>0.0</td>\n",
       "      <td>0.0</td>\n",
       "      <td>0.0</td>\n",
       "      <td>...</td>\n",
       "      <td>0.0</td>\n",
       "      <td>0.0</td>\n",
       "      <td>0.0</td>\n",
       "      <td>0.0</td>\n",
       "      <td>0.0</td>\n",
       "      <td>0.0</td>\n",
       "      <td>0.0</td>\n",
       "      <td>0.0</td>\n",
       "      <td>1.0</td>\n",
       "      <td>0.0</td>\n",
       "    </tr>\n",
       "  </tbody>\n",
       "</table>\n",
       "<p>5 rows × 84 columns</p>\n",
       "</div>"
      ],
      "text/plain": [
       "   Protocol_type_icmp  Protocol_type_tcp  Protocol_type_udp  service_IRC  \\\n",
       "0                 0.0                1.0                0.0          0.0   \n",
       "1                 0.0                0.0                1.0          0.0   \n",
       "2                 0.0                1.0                0.0          0.0   \n",
       "3                 0.0                1.0                0.0          0.0   \n",
       "4                 0.0                1.0                0.0          0.0   \n",
       "\n",
       "   service_X11  service_Z39_50  service_aol  service_auth  service_bgp  \\\n",
       "0          0.0             0.0          0.0           0.0          0.0   \n",
       "1          0.0             0.0          0.0           0.0          0.0   \n",
       "2          0.0             0.0          0.0           0.0          0.0   \n",
       "3          0.0             0.0          0.0           0.0          0.0   \n",
       "4          0.0             0.0          0.0           0.0          0.0   \n",
       "\n",
       "   service_courier  ...  flag_REJ  flag_RSTO  flag_RSTOS0  flag_RSTR  flag_S0  \\\n",
       "0              0.0  ...       0.0        0.0          0.0        0.0      0.0   \n",
       "1              0.0  ...       0.0        0.0          0.0        0.0      0.0   \n",
       "2              0.0  ...       0.0        0.0          0.0        0.0      1.0   \n",
       "3              0.0  ...       0.0        0.0          0.0        0.0      0.0   \n",
       "4              0.0  ...       0.0        0.0          0.0        0.0      0.0   \n",
       "\n",
       "   flag_S1  flag_S2  flag_S3  flag_SF  flag_SH  \n",
       "0      0.0      0.0      0.0      1.0      0.0  \n",
       "1      0.0      0.0      0.0      1.0      0.0  \n",
       "2      0.0      0.0      0.0      0.0      0.0  \n",
       "3      0.0      0.0      0.0      1.0      0.0  \n",
       "4      0.0      0.0      0.0      1.0      0.0  \n",
       "\n",
       "[5 rows x 84 columns]"
      ]
     },
     "execution_count": 24,
     "metadata": {},
     "output_type": "execute_result"
    }
   ],
   "source": [
    "enc = OneHotEncoder()\n",
    "df_categorical_values_encenc = enc.fit_transform(df_categorical_values_enc)\n",
    "df_cat_data = pd.DataFrame(df_categorical_values_encenc.toarray(),columns=dumcols)\n",
    "# test set\n",
    "testdf_categorical_values_encenc = enc.fit_transform(testdf_categorical_values_enc)\n",
    "testdf_cat_data = pd.DataFrame(testdf_categorical_values_encenc.toarray(),columns=testdumcols)\n",
    "\n",
    "df_cat_data.head()"
   ]
  },
  {
   "cell_type": "code",
   "execution_count": 25,
   "id": "f237d748",
   "metadata": {},
   "outputs": [
    {
     "name": "stdout",
     "output_type": "stream",
     "text": [
      "(125973, 84)\n",
      "(22544, 78)\n"
     ]
    }
   ],
   "source": [
    "print(df_cat_data.shape)\n",
    "print(testdf_cat_data.shape)"
   ]
  },
  {
   "cell_type": "markdown",
   "id": "7c568342",
   "metadata": {},
   "source": [
    "#### Add 6 missing categories from train set to test set"
   ]
  },
  {
   "cell_type": "code",
   "execution_count": 26,
   "id": "f21c1d9e",
   "metadata": {},
   "outputs": [
    {
     "data": {
      "text/plain": [
       "['service_harvest',\n",
       " 'service_urh_i',\n",
       " 'service_red_i',\n",
       " 'service_http_2784',\n",
       " 'service_aol',\n",
       " 'service_http_8001']"
      ]
     },
     "execution_count": 26,
     "metadata": {},
     "output_type": "execute_result"
    }
   ],
   "source": [
    "trainservice=df['service'].tolist()\n",
    "testservice= test_df['service'].tolist()\n",
    "difference=list(set(trainservice) - set(testservice))\n",
    "string = 'service_'\n",
    "difference=[string + x for x in difference]\n",
    "difference"
   ]
  },
  {
   "cell_type": "code",
   "execution_count": 27,
   "id": "f2d74f2e",
   "metadata": {},
   "outputs": [
    {
     "data": {
      "text/plain": [
       "(22544, 84)"
      ]
     },
     "execution_count": 27,
     "metadata": {},
     "output_type": "execute_result"
    }
   ],
   "source": [
    "for col in difference:\n",
    "    testdf_cat_data[col] = 0\n",
    "\n",
    "testdf_cat_data.shape"
   ]
  },
  {
   "cell_type": "markdown",
   "id": "d94e2702",
   "metadata": {},
   "source": [
    "#### Join encoded categorical dataframe with the non-categorical dataframe"
   ]
  },
  {
   "cell_type": "code",
   "execution_count": 28,
   "id": "22a33080",
   "metadata": {},
   "outputs": [
    {
     "name": "stdout",
     "output_type": "stream",
     "text": [
      "(125973, 124)\n",
      "(22544, 124)\n"
     ]
    }
   ],
   "source": [
    "newdf=df.join(df_cat_data)\n",
    "newdf.drop('flag', axis=1, inplace=True)\n",
    "newdf.drop('protocol_type', axis=1, inplace=True)\n",
    "newdf.drop('service', axis=1, inplace=True)\n",
    "# test data\n",
    "newdf_test=test_df.join(testdf_cat_data)\n",
    "newdf_test.drop('flag', axis=1, inplace=True)\n",
    "newdf_test.drop('protocol_type', axis=1, inplace=True)\n",
    "newdf_test.drop('service', axis=1, inplace=True)\n",
    "print(newdf.shape)\n",
    "print(newdf_test.shape)"
   ]
  },
  {
   "cell_type": "code",
   "execution_count": 29,
   "id": "f703c3b2",
   "metadata": {},
   "outputs": [
    {
     "data": {
      "text/html": [
       "<div>\n",
       "<style scoped>\n",
       "    .dataframe tbody tr th:only-of-type {\n",
       "        vertical-align: middle;\n",
       "    }\n",
       "\n",
       "    .dataframe tbody tr th {\n",
       "        vertical-align: top;\n",
       "    }\n",
       "\n",
       "    .dataframe thead th {\n",
       "        text-align: right;\n",
       "    }\n",
       "</style>\n",
       "<table border=\"1\" class=\"dataframe\">\n",
       "  <thead>\n",
       "    <tr style=\"text-align: right;\">\n",
       "      <th></th>\n",
       "      <th>duration</th>\n",
       "      <th>src_bytes</th>\n",
       "      <th>dst_bytes</th>\n",
       "      <th>land</th>\n",
       "      <th>wrong_fragment</th>\n",
       "      <th>urgent</th>\n",
       "      <th>hot</th>\n",
       "      <th>num_failed_logins</th>\n",
       "      <th>logged_in</th>\n",
       "      <th>num_compromised</th>\n",
       "      <th>...</th>\n",
       "      <th>flag_REJ</th>\n",
       "      <th>flag_RSTO</th>\n",
       "      <th>flag_RSTOS0</th>\n",
       "      <th>flag_RSTR</th>\n",
       "      <th>flag_S0</th>\n",
       "      <th>flag_S1</th>\n",
       "      <th>flag_S2</th>\n",
       "      <th>flag_S3</th>\n",
       "      <th>flag_SF</th>\n",
       "      <th>flag_SH</th>\n",
       "    </tr>\n",
       "  </thead>\n",
       "  <tbody>\n",
       "    <tr>\n",
       "      <th>0</th>\n",
       "      <td>0</td>\n",
       "      <td>491</td>\n",
       "      <td>0</td>\n",
       "      <td>0</td>\n",
       "      <td>0</td>\n",
       "      <td>0</td>\n",
       "      <td>0</td>\n",
       "      <td>0</td>\n",
       "      <td>0</td>\n",
       "      <td>0</td>\n",
       "      <td>...</td>\n",
       "      <td>0.0</td>\n",
       "      <td>0.0</td>\n",
       "      <td>0.0</td>\n",
       "      <td>0.0</td>\n",
       "      <td>0.0</td>\n",
       "      <td>0.0</td>\n",
       "      <td>0.0</td>\n",
       "      <td>0.0</td>\n",
       "      <td>1.0</td>\n",
       "      <td>0.0</td>\n",
       "    </tr>\n",
       "    <tr>\n",
       "      <th>1</th>\n",
       "      <td>0</td>\n",
       "      <td>146</td>\n",
       "      <td>0</td>\n",
       "      <td>0</td>\n",
       "      <td>0</td>\n",
       "      <td>0</td>\n",
       "      <td>0</td>\n",
       "      <td>0</td>\n",
       "      <td>0</td>\n",
       "      <td>0</td>\n",
       "      <td>...</td>\n",
       "      <td>0.0</td>\n",
       "      <td>0.0</td>\n",
       "      <td>0.0</td>\n",
       "      <td>0.0</td>\n",
       "      <td>0.0</td>\n",
       "      <td>0.0</td>\n",
       "      <td>0.0</td>\n",
       "      <td>0.0</td>\n",
       "      <td>1.0</td>\n",
       "      <td>0.0</td>\n",
       "    </tr>\n",
       "    <tr>\n",
       "      <th>2</th>\n",
       "      <td>0</td>\n",
       "      <td>0</td>\n",
       "      <td>0</td>\n",
       "      <td>0</td>\n",
       "      <td>0</td>\n",
       "      <td>0</td>\n",
       "      <td>0</td>\n",
       "      <td>0</td>\n",
       "      <td>0</td>\n",
       "      <td>0</td>\n",
       "      <td>...</td>\n",
       "      <td>0.0</td>\n",
       "      <td>0.0</td>\n",
       "      <td>0.0</td>\n",
       "      <td>0.0</td>\n",
       "      <td>1.0</td>\n",
       "      <td>0.0</td>\n",
       "      <td>0.0</td>\n",
       "      <td>0.0</td>\n",
       "      <td>0.0</td>\n",
       "      <td>0.0</td>\n",
       "    </tr>\n",
       "    <tr>\n",
       "      <th>3</th>\n",
       "      <td>0</td>\n",
       "      <td>232</td>\n",
       "      <td>8153</td>\n",
       "      <td>0</td>\n",
       "      <td>0</td>\n",
       "      <td>0</td>\n",
       "      <td>0</td>\n",
       "      <td>0</td>\n",
       "      <td>1</td>\n",
       "      <td>0</td>\n",
       "      <td>...</td>\n",
       "      <td>0.0</td>\n",
       "      <td>0.0</td>\n",
       "      <td>0.0</td>\n",
       "      <td>0.0</td>\n",
       "      <td>0.0</td>\n",
       "      <td>0.0</td>\n",
       "      <td>0.0</td>\n",
       "      <td>0.0</td>\n",
       "      <td>1.0</td>\n",
       "      <td>0.0</td>\n",
       "    </tr>\n",
       "    <tr>\n",
       "      <th>4</th>\n",
       "      <td>0</td>\n",
       "      <td>199</td>\n",
       "      <td>420</td>\n",
       "      <td>0</td>\n",
       "      <td>0</td>\n",
       "      <td>0</td>\n",
       "      <td>0</td>\n",
       "      <td>0</td>\n",
       "      <td>1</td>\n",
       "      <td>0</td>\n",
       "      <td>...</td>\n",
       "      <td>0.0</td>\n",
       "      <td>0.0</td>\n",
       "      <td>0.0</td>\n",
       "      <td>0.0</td>\n",
       "      <td>0.0</td>\n",
       "      <td>0.0</td>\n",
       "      <td>0.0</td>\n",
       "      <td>0.0</td>\n",
       "      <td>1.0</td>\n",
       "      <td>0.0</td>\n",
       "    </tr>\n",
       "  </tbody>\n",
       "</table>\n",
       "<p>5 rows × 124 columns</p>\n",
       "</div>"
      ],
      "text/plain": [
       "   duration  src_bytes  dst_bytes  land  wrong_fragment  urgent  hot  \\\n",
       "0         0        491          0     0               0       0    0   \n",
       "1         0        146          0     0               0       0    0   \n",
       "2         0          0          0     0               0       0    0   \n",
       "3         0        232       8153     0               0       0    0   \n",
       "4         0        199        420     0               0       0    0   \n",
       "\n",
       "   num_failed_logins  logged_in  num_compromised  ...  flag_REJ  flag_RSTO  \\\n",
       "0                  0          0                0  ...       0.0        0.0   \n",
       "1                  0          0                0  ...       0.0        0.0   \n",
       "2                  0          0                0  ...       0.0        0.0   \n",
       "3                  0          1                0  ...       0.0        0.0   \n",
       "4                  0          1                0  ...       0.0        0.0   \n",
       "\n",
       "   flag_RSTOS0  flag_RSTR  flag_S0  flag_S1  flag_S2  flag_S3  flag_SF  \\\n",
       "0          0.0        0.0      0.0      0.0      0.0      0.0      1.0   \n",
       "1          0.0        0.0      0.0      0.0      0.0      0.0      1.0   \n",
       "2          0.0        0.0      1.0      0.0      0.0      0.0      0.0   \n",
       "3          0.0        0.0      0.0      0.0      0.0      0.0      1.0   \n",
       "4          0.0        0.0      0.0      0.0      0.0      0.0      1.0   \n",
       "\n",
       "   flag_SH  \n",
       "0      0.0  \n",
       "1      0.0  \n",
       "2      0.0  \n",
       "3      0.0  \n",
       "4      0.0  \n",
       "\n",
       "[5 rows x 124 columns]"
      ]
     },
     "execution_count": 29,
     "metadata": {},
     "output_type": "execute_result"
    }
   ],
   "source": [
    "newdf.head()"
   ]
  },
  {
   "cell_type": "code",
   "execution_count": 30,
   "id": "42229f60",
   "metadata": {},
   "outputs": [],
   "source": [
    "copy_df=newdf.copy()\n",
    "copy_df_test=newdf_test.copy()"
   ]
  },
  {
   "cell_type": "markdown",
   "id": "38f4d29d",
   "metadata": {},
   "source": [
    "# Binary Classification:"
   ]
  },
  {
   "cell_type": "code",
   "execution_count": 31,
   "id": "a8038608",
   "metadata": {},
   "outputs": [],
   "source": [
    "copy_df.drop('attack_map', axis=1, inplace=True)\n",
    "copy_df_test.drop('attack_map', axis=1, inplace=True)"
   ]
  },
  {
   "cell_type": "code",
   "execution_count": 32,
   "id": "8264b81d",
   "metadata": {},
   "outputs": [],
   "source": [
    "# Split dataframes into X & Y. Here X refers to the features and Y is the target label \n",
    "X_binary = copy_df.drop('attack_flag',1)\n",
    "Y_binary = copy_df.attack_flag\n",
    "# test set\n",
    "X_binary_test = copy_df_test.drop('attack_flag',1)\n",
    "Y_binary_test = copy_df_test.attack_flag\n",
    "\n",
    "col=list(X_binary)\n",
    "col_test=list(X_binary_test)"
   ]
  },
  {
   "cell_type": "markdown",
   "id": "20ee7c44",
   "metadata": {},
   "source": [
    "# Feature Selection"
   ]
  },
  {
   "cell_type": "markdown",
   "id": "3e79e684",
   "metadata": {},
   "source": [
    "Feature selection refers to techniques that select a subset of the most relevant features (columns) for a dataset. Fewer features can allow machine learning algorithms to run more efficiently (less space or time complexity) and be more effective. "
   ]
  },
  {
   "cell_type": "markdown",
   "id": "0e68192c",
   "metadata": {},
   "source": [
    "## Recursive Feature Elimination"
   ]
  },
  {
   "cell_type": "markdown",
   "id": "6a3346ee",
   "metadata": {},
   "source": [
    "RFE is a wrapper-type feature selection algorithm. This means that a different machine learning algorithm is given and used in the core of the method, is wrapped by RFE, and used to help select features. This is in contrast to filter-based feature selections that score each feature and select those features with the largest (or smallest) score.\n",
    "\n",
    "Technically, RFE is a wrapper-style feature selection algorithm that also uses filter-based feature selection internally.\n",
    "\n",
    "RFE works by searching for a subset of features by starting with all features in the training dataset and successfully removing features until the desired number remains.\n",
    "\n",
    "This is achieved by fitting the given machine learning algorithm used in the core of the model, ranking features by importance, discarding the least important features, and re-fitting the model. This process is repeated until a specified number of features remains."
   ]
  },
  {
   "cell_type": "code",
   "execution_count": 33,
   "id": "8b0459d9",
   "metadata": {},
   "outputs": [
    {
     "name": "stdout",
     "output_type": "stream",
     "text": [
      "Features selected: ['duration', 'src_bytes', 'dst_bytes', 'hot', 'logged_in', 'dst_host_count', 'dst_host_srv_count', 'dst_host_same_srv_rate', 'dst_host_srv_diff_host_rate', 'dst_host_srv_serror_rate', 'dst_host_rerror_rate', 'service_ecr_i', 'service_ftp_data', 'service_http', 'service_private']\n",
      "(125973, 15)\n"
     ]
    }
   ],
   "source": [
    "from sklearn.feature_selection import RFE\n",
    "from sklearn.tree import DecisionTreeClassifier\n",
    "clf = DecisionTreeClassifier(random_state=0)\n",
    "rfe = RFE(estimator=clf, n_features_to_select=15, step=1)\n",
    "\n",
    "rfe.fit(X_binary, Y_binary)\n",
    "X_rfe=rfe.transform(X_binary)\n",
    "true=rfe.support_\n",
    "rfecolindex=[i for i, x in enumerate(true) if x]\n",
    "rfecolname=list(col[i] for i in rfecolindex)\n",
    "\n",
    "print('Features selected:',rfecolname)\n",
    "print(X_rfe.shape)"
   ]
  },
  {
   "cell_type": "markdown",
   "id": "f8c614d9",
   "metadata": {},
   "source": [
    "# Build the model:"
   ]
  },
  {
   "cell_type": "markdown",
   "id": "63fdc1d4",
   "metadata": {},
   "source": [
    "### Classifier is trained for the above selected features"
   ]
  },
  {
   "cell_type": "code",
   "execution_count": 34,
   "id": "9e5ef069",
   "metadata": {},
   "outputs": [],
   "source": [
    "clf_rfe=DecisionTreeClassifier(random_state=0)\n",
    "clf=clf_rfe.fit(X_rfe, Y_binary)"
   ]
  },
  {
   "cell_type": "code",
   "execution_count": 35,
   "id": "c96d701e",
   "metadata": {},
   "outputs": [
    {
     "data": {
      "text/plain": [
       "[Text(986.0682138715471, 1064.55, 'X[1] <= 28.5\\ngini = 0.498\\nsamples = 125973\\nvalue = [67343, 58630]'),\n",
       " Text(668.8803503853934, 1019.25, 'X[13] <= 0.5\\ngini = 0.149\\nsamples = 58257\\nvalue = [4717, 53540]'),\n",
       " Text(577.983915056501, 973.95, 'X[2] <= 3.5\\ngini = 0.061\\nsamples = 53918\\nvalue = [1707, 52211]'),\n",
       " Text(471.5459551130022, 928.6500000000001, 'X[4] <= 0.5\\ngini = 0.031\\nsamples = 52843\\nvalue = [837, 52006]'),\n",
       " Text(413.4278477260044, 883.35, 'X[5] <= 242.5\\ngini = 0.019\\nsamples = 52484\\nvalue = [494, 51990]'),\n",
       " Text(312.1380615234375, 838.05, 'X[12] <= 0.5\\ngini = 0.098\\nsamples = 8005\\nvalue = [413, 7592]'),\n",
       " Text(198.3029087611607, 792.75, 'X[5] <= 4.5\\ngini = 0.077\\nsamples = 7770\\nvalue = [311, 7459]'),\n",
       " Text(94.34933035714285, 747.45, 'X[1] <= 7.5\\ngini = 0.014\\nsamples = 4151\\nvalue = [30, 4121]'),\n",
       " Text(46.707589285714285, 702.1500000000001, 'X[9] <= 0.105\\ngini = 0.444\\nsamples = 66\\nvalue = [22, 44]'),\n",
       " Text(24.910714285714285, 656.85, 'X[8] <= 0.8\\ngini = 0.444\\nsamples = 21\\nvalue = [14, 7]'),\n",
       " Text(19.928571428571427, 611.55, 'X[14] <= 0.5\\ngini = 0.388\\nsamples = 19\\nvalue = [14, 5]'),\n",
       " Text(9.964285714285714, 566.25, 'X[1] <= 2.0\\ngini = 0.142\\nsamples = 13\\nvalue = [12, 1]'),\n",
       " Text(4.982142857142857, 520.95, 'gini = 0.0\\nsamples = 11\\nvalue = [11, 0]'),\n",
       " Text(14.94642857142857, 520.95, 'X[6] <= 3.5\\ngini = 0.5\\nsamples = 2\\nvalue = [1, 1]'),\n",
       " Text(9.964285714285714, 475.65, 'gini = 0.0\\nsamples = 1\\nvalue = [0, 1]'),\n",
       " Text(19.928571428571427, 475.65, 'gini = 0.0\\nsamples = 1\\nvalue = [1, 0]'),\n",
       " Text(29.89285714285714, 566.25, 'X[10] <= 0.75\\ngini = 0.444\\nsamples = 6\\nvalue = [2, 4]'),\n",
       " Text(24.910714285714285, 520.95, 'gini = 0.0\\nsamples = 2\\nvalue = [2, 0]'),\n",
       " Text(34.875, 520.95, 'gini = 0.0\\nsamples = 4\\nvalue = [0, 4]'),\n",
       " Text(29.89285714285714, 611.55, 'gini = 0.0\\nsamples = 2\\nvalue = [0, 2]'),\n",
       " Text(68.50446428571428, 656.85, 'X[8] <= 0.45\\ngini = 0.292\\nsamples = 45\\nvalue = [8, 37]'),\n",
       " Text(54.80357142857142, 611.55, 'X[5] <= 1.5\\ngini = 0.137\\nsamples = 27\\nvalue = [2, 25]'),\n",
       " Text(49.82142857142857, 566.25, 'X[8] <= 0.125\\ngini = 0.298\\nsamples = 11\\nvalue = [2, 9]'),\n",
       " Text(44.83928571428571, 520.95, 'X[14] <= 0.5\\ngini = 0.408\\nsamples = 7\\nvalue = [2, 5]'),\n",
       " Text(39.857142857142854, 475.65, 'gini = 0.375\\nsamples = 4\\nvalue = [1, 3]'),\n",
       " Text(49.82142857142857, 475.65, 'gini = 0.444\\nsamples = 3\\nvalue = [1, 2]'),\n",
       " Text(54.80357142857142, 520.95, 'gini = 0.0\\nsamples = 4\\nvalue = [0, 4]'),\n",
       " Text(59.78571428571428, 566.25, 'gini = 0.0\\nsamples = 16\\nvalue = [0, 16]'),\n",
       " Text(82.20535714285714, 611.55, 'X[9] <= 0.915\\ngini = 0.444\\nsamples = 18\\nvalue = [6, 12]'),\n",
       " Text(69.75, 566.25, 'X[9] <= 0.35\\ngini = 0.298\\nsamples = 11\\nvalue = [2, 9]'),\n",
       " Text(64.76785714285714, 520.95, 'X[8] <= 0.55\\ngini = 0.444\\nsamples = 3\\nvalue = [2, 1]'),\n",
       " Text(59.78571428571428, 475.65, 'gini = 0.5\\nsamples = 2\\nvalue = [1, 1]'),\n",
       " Text(69.75, 475.65, 'gini = 0.0\\nsamples = 1\\nvalue = [1, 0]'),\n",
       " Text(74.73214285714285, 520.95, 'gini = 0.0\\nsamples = 8\\nvalue = [0, 8]'),\n",
       " Text(94.66071428571428, 566.25, 'X[6] <= 3.5\\ngini = 0.49\\nsamples = 7\\nvalue = [4, 3]'),\n",
       " Text(84.69642857142857, 520.95, 'X[6] <= 2.5\\ngini = 0.5\\nsamples = 4\\nvalue = [2, 2]'),\n",
       " Text(79.71428571428571, 475.65, 'gini = 0.5\\nsamples = 2\\nvalue = [1, 1]'),\n",
       " Text(89.67857142857142, 475.65, 'gini = 0.5\\nsamples = 2\\nvalue = [1, 1]'),\n",
       " Text(104.62499999999999, 520.95, 'X[6] <= 4.5\\ngini = 0.444\\nsamples = 3\\nvalue = [2, 1]'),\n",
       " Text(99.64285714285714, 475.65, 'gini = 0.0\\nsamples = 1\\nvalue = [1, 0]'),\n",
       " Text(109.60714285714285, 475.65, 'gini = 0.5\\nsamples = 2\\nvalue = [1, 1]'),\n",
       " Text(141.99107142857142, 702.1500000000001, 'X[9] <= 0.145\\ngini = 0.004\\nsamples = 4085\\nvalue = [8, 4077]'),\n",
       " Text(137.00892857142856, 656.85, 'X[7] <= 0.585\\ngini = 0.003\\nsamples = 4084\\nvalue = [7, 4077]'),\n",
       " Text(124.55357142857142, 611.55, 'X[6] <= 47.0\\ngini = 0.346\\nsamples = 9\\nvalue = [2, 7]'),\n",
       " Text(119.57142857142856, 566.25, 'X[6] <= 5.0\\ngini = 0.48\\nsamples = 5\\nvalue = [2, 3]'),\n",
       " Text(114.58928571428571, 520.95, 'gini = 0.0\\nsamples = 3\\nvalue = [0, 3]'),\n",
       " Text(124.55357142857142, 520.95, 'gini = 0.0\\nsamples = 2\\nvalue = [2, 0]'),\n",
       " Text(129.53571428571428, 566.25, 'gini = 0.0\\nsamples = 4\\nvalue = [0, 4]'),\n",
       " Text(149.4642857142857, 611.55, 'X[8] <= 0.2\\ngini = 0.002\\nsamples = 4075\\nvalue = [5, 4070]'),\n",
       " Text(139.5, 566.25, 'X[8] <= 0.055\\ngini = 0.111\\nsamples = 68\\nvalue = [4, 64]'),\n",
       " Text(134.51785714285714, 520.95, 'X[1] <= 12.5\\ngini = 0.059\\nsamples = 66\\nvalue = [2, 64]'),\n",
       " Text(129.53571428571428, 475.65, 'gini = 0.0\\nsamples = 50\\nvalue = [0, 50]'),\n",
       " Text(139.5, 475.65, 'X[1] <= 17.5\\ngini = 0.219\\nsamples = 16\\nvalue = [2, 14]'),\n",
       " Text(134.51785714285714, 430.35, 'gini = 0.0\\nsamples = 1\\nvalue = [1, 0]'),\n",
       " Text(144.48214285714283, 430.35, 'X[6] <= 1.5\\ngini = 0.124\\nsamples = 15\\nvalue = [1, 14]'),\n",
       " Text(139.5, 385.04999999999995, 'X[1] <= 19.0\\ngini = 0.32\\nsamples = 5\\nvalue = [1, 4]'),\n",
       " Text(134.51785714285714, 339.75, 'gini = 0.0\\nsamples = 3\\nvalue = [0, 3]'),\n",
       " Text(144.48214285714283, 339.75, 'gini = 0.5\\nsamples = 2\\nvalue = [1, 1]'),\n",
       " Text(149.4642857142857, 385.04999999999995, 'gini = 0.0\\nsamples = 10\\nvalue = [0, 10]'),\n",
       " Text(144.48214285714283, 520.95, 'gini = 0.0\\nsamples = 2\\nvalue = [2, 0]'),\n",
       " Text(159.42857142857142, 566.25, 'X[6] <= 2.5\\ngini = 0.0\\nsamples = 4007\\nvalue = [1, 4006]'),\n",
       " Text(154.44642857142856, 520.95, 'X[1] <= 12.5\\ngini = 0.444\\nsamples = 3\\nvalue = [1, 2]'),\n",
       " Text(149.4642857142857, 475.65, 'gini = 0.0\\nsamples = 2\\nvalue = [0, 2]'),\n",
       " Text(159.42857142857142, 475.65, 'gini = 0.0\\nsamples = 1\\nvalue = [1, 0]'),\n",
       " Text(164.41071428571428, 520.95, 'gini = 0.0\\nsamples = 4004\\nvalue = [0, 4004]'),\n",
       " Text(146.97321428571428, 656.85, 'gini = 0.0\\nsamples = 1\\nvalue = [1, 0]'),\n",
       " Text(302.25648716517856, 747.45, 'X[14] <= 0.5\\ngini = 0.143\\nsamples = 3619\\nvalue = [281, 3338]'),\n",
       " Text(297.27434430803567, 702.1500000000001, 'X[9] <= 0.175\\ngini = 0.391\\nsamples = 1054\\nvalue = [281, 773]'),\n",
       " Text(217.15136718749997, 656.85, 'X[6] <= 2.5\\ngini = 0.498\\nsamples = 556\\nvalue = [262, 294]'),\n",
       " Text(184.3392857142857, 611.55, 'X[10] <= 0.055\\ngini = 0.083\\nsamples = 207\\nvalue = [9, 198]'),\n",
       " Text(179.35714285714283, 566.25, 'X[5] <= 139.0\\ngini = 0.444\\nsamples = 27\\nvalue = [9, 18]'),\n",
       " Text(174.375, 520.95, 'X[1] <= 10.5\\ngini = 0.5\\nsamples = 18\\nvalue = [9, 9]'),\n",
       " Text(169.39285714285714, 475.65, 'X[0] <= 18791.5\\ngini = 0.459\\nsamples = 14\\nvalue = [9, 5]'),\n",
       " Text(164.41071428571428, 430.35, 'X[5] <= 21.0\\ngini = 0.375\\nsamples = 12\\nvalue = [9, 3]'),\n",
       " Text(159.42857142857142, 385.04999999999995, 'gini = 0.0\\nsamples = 1\\nvalue = [0, 1]'),\n",
       " Text(169.39285714285714, 385.04999999999995, 'X[5] <= 94.5\\ngini = 0.298\\nsamples = 11\\nvalue = [9, 2]'),\n",
       " Text(164.41071428571428, 339.75, 'gini = 0.0\\nsamples = 6\\nvalue = [6, 0]'),\n",
       " Text(174.375, 339.75, 'X[5] <= 114.5\\ngini = 0.48\\nsamples = 5\\nvalue = [3, 2]'),\n",
       " Text(169.39285714285714, 294.44999999999993, 'gini = 0.0\\nsamples = 2\\nvalue = [0, 2]'),\n",
       " Text(179.35714285714283, 294.44999999999993, 'gini = 0.0\\nsamples = 3\\nvalue = [3, 0]'),\n",
       " Text(174.375, 430.35, 'gini = 0.0\\nsamples = 2\\nvalue = [0, 2]'),\n",
       " Text(179.35714285714283, 475.65, 'gini = 0.0\\nsamples = 4\\nvalue = [0, 4]'),\n",
       " Text(184.3392857142857, 520.95, 'gini = 0.0\\nsamples = 9\\nvalue = [0, 9]'),\n",
       " Text(189.32142857142856, 566.25, 'gini = 0.0\\nsamples = 180\\nvalue = [0, 180]'),\n",
       " Text(249.96344866071428, 611.55, 'X[1] <= 14.0\\ngini = 0.399\\nsamples = 349\\nvalue = [253, 96]'),\n",
       " Text(244.98130580357142, 566.25, 'X[7] <= 0.025\\ngini = 0.35\\nsamples = 327\\nvalue = [253, 74]'),\n",
       " Text(194.30357142857142, 520.95, 'X[5] <= 59.5\\ngini = 0.367\\nsamples = 33\\nvalue = [8, 25]'),\n",
       " Text(189.32142857142856, 475.65, 'gini = 0.0\\nsamples = 4\\nvalue = [4, 0]'),\n",
       " Text(199.28571428571428, 475.65, 'X[5] <= 240.0\\ngini = 0.238\\nsamples = 29\\nvalue = [4, 25]'),\n",
       " Text(194.30357142857142, 430.35, 'X[1] <= 9.0\\ngini = 0.191\\nsamples = 28\\nvalue = [3, 25]'),\n",
       " Text(189.32142857142856, 385.04999999999995, 'X[5] <= 128.5\\ngini = 0.137\\nsamples = 27\\nvalue = [2, 25]'),\n",
       " Text(184.3392857142857, 339.75, 'gini = 0.0\\nsamples = 17\\nvalue = [0, 17]'),\n",
       " Text(194.30357142857142, 339.75, 'X[7] <= 0.015\\ngini = 0.32\\nsamples = 10\\nvalue = [2, 8]'),\n",
       " Text(189.32142857142856, 294.44999999999993, 'gini = 0.0\\nsamples = 7\\nvalue = [0, 7]'),\n",
       " Text(199.28571428571428, 294.44999999999993, 'X[10] <= 0.515\\ngini = 0.444\\nsamples = 3\\nvalue = [2, 1]'),\n",
       " Text(194.30357142857142, 249.14999999999998, 'gini = 0.0\\nsamples = 2\\nvalue = [2, 0]'),\n",
       " Text(204.26785714285714, 249.14999999999998, 'gini = 0.0\\nsamples = 1\\nvalue = [0, 1]'),\n",
       " Text(199.28571428571428, 385.04999999999995, 'gini = 0.0\\nsamples = 1\\nvalue = [1, 0]'),\n",
       " Text(204.26785714285714, 430.35, 'gini = 0.0\\nsamples = 1\\nvalue = [1, 0]'),\n",
       " Text(295.6590401785714, 520.95, 'X[6] <= 134.5\\ngini = 0.278\\nsamples = 294\\nvalue = [245, 49]'),\n",
       " Text(279.9341517857143, 475.65, 'X[11] <= 0.5\\ngini = 0.191\\nsamples = 225\\nvalue = [201, 24]'),\n",
       " Text(274.9520089285714, 430.35, 'X[0] <= 0.5\\ngini = 0.165\\nsamples = 221\\nvalue = [201, 20]'),\n",
       " Text(258.4486607142857, 385.04999999999995, 'X[5] <= 232.0\\ngini = 0.124\\nsamples = 211\\nvalue = [197, 14]'),\n",
       " Text(240.38839285714283, 339.75, 'X[5] <= 7.5\\ngini = 0.092\\nsamples = 206\\nvalue = [196, 10]'),\n",
       " Text(219.2142857142857, 294.44999999999993, 'X[1] <= 7.0\\ngini = 0.397\\nsamples = 11\\nvalue = [8, 3]'),\n",
       " Text(214.23214285714283, 249.14999999999998, 'gini = 0.0\\nsamples = 7\\nvalue = [7, 0]'),\n",
       " Text(224.19642857142856, 249.14999999999998, 'X[7] <= 0.4\\ngini = 0.375\\nsamples = 4\\nvalue = [1, 3]'),\n",
       " Text(219.2142857142857, 203.8499999999999, 'gini = 0.0\\nsamples = 1\\nvalue = [1, 0]'),\n",
       " Text(229.17857142857142, 203.8499999999999, 'gini = 0.0\\nsamples = 3\\nvalue = [0, 3]'),\n",
       " Text(261.5625, 294.44999999999993, 'X[5] <= 201.5\\ngini = 0.069\\nsamples = 195\\nvalue = [188, 7]'),\n",
       " Text(249.10714285714283, 249.14999999999998, 'X[10] <= 0.15\\ngini = 0.052\\nsamples = 187\\nvalue = [182, 5]'),\n",
       " Text(239.1428571428571, 203.8499999999999, 'X[5] <= 18.0\\ngini = 0.027\\nsamples = 146\\nvalue = [144, 2]'),\n",
       " Text(234.16071428571428, 158.54999999999995, 'X[6] <= 9.5\\ngini = 0.278\\nsamples = 12\\nvalue = [10, 2]'),\n",
       " Text(229.17857142857142, 113.25, 'X[6] <= 5.5\\ngini = 0.5\\nsamples = 4\\nvalue = [2, 2]'),\n",
       " Text(224.19642857142856, 67.94999999999993, 'gini = 0.0\\nsamples = 1\\nvalue = [1, 0]'),\n",
       " Text(234.16071428571428, 67.94999999999993, 'X[7] <= 0.07\\ngini = 0.444\\nsamples = 3\\nvalue = [1, 2]'),\n",
       " Text(229.17857142857142, 22.649999999999864, 'gini = 0.0\\nsamples = 1\\nvalue = [1, 0]'),\n",
       " Text(239.1428571428571, 22.649999999999864, 'gini = 0.0\\nsamples = 2\\nvalue = [0, 2]'),\n",
       " Text(239.1428571428571, 113.25, 'gini = 0.0\\nsamples = 8\\nvalue = [8, 0]'),\n",
       " Text(244.12499999999997, 158.54999999999995, 'gini = 0.0\\nsamples = 134\\nvalue = [134, 0]'),\n",
       " Text(259.07142857142856, 203.8499999999999, 'X[5] <= 100.0\\ngini = 0.136\\nsamples = 41\\nvalue = [38, 3]'),\n",
       " Text(254.0892857142857, 158.54999999999995, 'gini = 0.0\\nsamples = 38\\nvalue = [38, 0]'),\n",
       " Text(264.0535714285714, 158.54999999999995, 'gini = 0.0\\nsamples = 3\\nvalue = [0, 3]'),\n",
       " Text(274.0178571428571, 249.14999999999998, 'X[5] <= 211.0\\ngini = 0.375\\nsamples = 8\\nvalue = [6, 2]'),\n",
       " Text(269.0357142857143, 203.8499999999999, 'gini = 0.0\\nsamples = 2\\nvalue = [0, 2]'),\n",
       " Text(279.0, 203.8499999999999, 'gini = 0.0\\nsamples = 6\\nvalue = [6, 0]'),\n",
       " Text(276.50892857142856, 339.75, 'X[6] <= 16.0\\ngini = 0.32\\nsamples = 5\\nvalue = [1, 4]'),\n",
       " Text(271.52678571428567, 294.44999999999993, 'gini = 0.0\\nsamples = 4\\nvalue = [0, 4]'),\n",
       " Text(281.4910714285714, 294.44999999999993, 'gini = 0.0\\nsamples = 1\\nvalue = [1, 0]'),\n",
       " Text(291.4553571428571, 385.04999999999995, 'X[0] <= 3.0\\ngini = 0.48\\nsamples = 10\\nvalue = [4, 6]'),\n",
       " Text(286.4732142857143, 339.75, 'gini = 0.0\\nsamples = 4\\nvalue = [0, 4]'),\n",
       " Text(296.4375, 339.75, 'X[10] <= 0.07\\ngini = 0.444\\nsamples = 6\\nvalue = [4, 2]'),\n",
       " Text(291.4553571428571, 294.44999999999993, 'gini = 0.0\\nsamples = 4\\nvalue = [4, 0]'),\n",
       " Text(301.41964285714283, 294.44999999999993, 'gini = 0.0\\nsamples = 2\\nvalue = [0, 2]'),\n",
       " Text(284.9162946428571, 430.35, 'gini = 0.0\\nsamples = 4\\nvalue = [0, 4]'),\n",
       " Text(311.38392857142856, 475.65, 'X[9] <= 0.035\\ngini = 0.462\\nsamples = 69\\nvalue = [44, 25]'),\n",
       " Text(306.40178571428567, 430.35, 'X[7] <= 0.235\\ngini = 0.211\\nsamples = 50\\nvalue = [44, 6]'),\n",
       " Text(301.41964285714283, 385.04999999999995, 'gini = 0.0\\nsamples = 5\\nvalue = [0, 5]'),\n",
       " Text(311.38392857142856, 385.04999999999995, 'X[1] <= 4.0\\ngini = 0.043\\nsamples = 45\\nvalue = [44, 1]'),\n",
       " Text(306.40178571428567, 339.75, 'gini = 0.0\\nsamples = 44\\nvalue = [44, 0]'),\n",
       " Text(316.3660714285714, 339.75, 'gini = 0.0\\nsamples = 1\\nvalue = [0, 1]'),\n",
       " Text(316.3660714285714, 430.35, 'gini = 0.0\\nsamples = 19\\nvalue = [0, 19]'),\n",
       " Text(254.9455915178571, 566.25, 'gini = 0.0\\nsamples = 22\\nvalue = [0, 22]'),\n",
       " Text(377.3973214285714, 656.85, 'X[6] <= 2.5\\ngini = 0.073\\nsamples = 498\\nvalue = [19, 479]'),\n",
       " Text(358.71428571428567, 611.55, 'X[5] <= 157.5\\ngini = 0.472\\nsamples = 34\\nvalue = [13, 21]'),\n",
       " Text(353.73214285714283, 566.25, 'X[5] <= 75.0\\ngini = 0.5\\nsamples = 26\\nvalue = [13, 13]'),\n",
       " Text(341.27678571428567, 520.95, 'X[9] <= 0.75\\ngini = 0.457\\nsamples = 17\\nvalue = [6, 11]'),\n",
       " Text(331.3125, 475.65, 'X[5] <= 34.0\\ngini = 0.32\\nsamples = 5\\nvalue = [4, 1]'),\n",
       " Text(326.3303571428571, 430.35, 'gini = 0.0\\nsamples = 3\\nvalue = [3, 0]'),\n",
       " Text(336.29464285714283, 430.35, 'X[5] <= 47.0\\ngini = 0.5\\nsamples = 2\\nvalue = [1, 1]'),\n",
       " Text(331.3125, 385.04999999999995, 'gini = 0.0\\nsamples = 1\\nvalue = [0, 1]'),\n",
       " Text(341.27678571428567, 385.04999999999995, 'gini = 0.0\\nsamples = 1\\nvalue = [1, 0]'),\n",
       " Text(351.2410714285714, 475.65, 'X[5] <= 36.5\\ngini = 0.278\\nsamples = 12\\nvalue = [2, 10]'),\n",
       " Text(346.25892857142856, 430.35, 'gini = 0.0\\nsamples = 6\\nvalue = [0, 6]'),\n",
       " Text(356.2232142857143, 430.35, 'X[5] <= 54.0\\ngini = 0.444\\nsamples = 6\\nvalue = [2, 4]'),\n",
       " Text(351.2410714285714, 385.04999999999995, 'X[5] <= 40.0\\ngini = 0.444\\nsamples = 3\\nvalue = [2, 1]'),\n",
       " Text(346.25892857142856, 339.75, 'gini = 0.0\\nsamples = 1\\nvalue = [1, 0]'),\n",
       " Text(356.2232142857143, 339.75, 'X[5] <= 41.5\\ngini = 0.5\\nsamples = 2\\nvalue = [1, 1]'),\n",
       " Text(351.2410714285714, 294.44999999999993, 'gini = 0.0\\nsamples = 1\\nvalue = [0, 1]'),\n",
       " Text(361.2053571428571, 294.44999999999993, 'gini = 0.0\\nsamples = 1\\nvalue = [1, 0]'),\n",
       " Text(361.2053571428571, 385.04999999999995, 'gini = 0.0\\nsamples = 3\\nvalue = [0, 3]'),\n",
       " Text(366.1875, 520.95, 'X[5] <= 109.0\\ngini = 0.346\\nsamples = 9\\nvalue = [7, 2]'),\n",
       " Text(361.2053571428571, 475.65, 'gini = 0.0\\nsamples = 2\\nvalue = [2, 0]'),\n",
       " Text(371.16964285714283, 475.65, 'X[5] <= 123.0\\ngini = 0.408\\nsamples = 7\\nvalue = [5, 2]'),\n",
       " Text(366.1875, 430.35, 'gini = 0.0\\nsamples = 1\\nvalue = [0, 1]'),\n",
       " Text(376.15178571428567, 430.35, 'X[5] <= 139.0\\ngini = 0.278\\nsamples = 6\\nvalue = [5, 1]'),\n",
       " Text(371.16964285714283, 385.04999999999995, 'gini = 0.0\\nsamples = 3\\nvalue = [3, 0]'),\n",
       " Text(381.13392857142856, 385.04999999999995, 'X[5] <= 148.0\\ngini = 0.444\\nsamples = 3\\nvalue = [2, 1]'),\n",
       " Text(376.15178571428567, 339.75, 'gini = 0.0\\nsamples = 1\\nvalue = [0, 1]'),\n",
       " Text(386.1160714285714, 339.75, 'gini = 0.0\\nsamples = 2\\nvalue = [2, 0]'),\n",
       " Text(363.69642857142856, 566.25, 'gini = 0.0\\nsamples = 8\\nvalue = [0, 8]'),\n",
       " Text(396.0803571428571, 611.55, 'X[1] <= 3.0\\ngini = 0.026\\nsamples = 464\\nvalue = [6, 458]'),\n",
       " Text(391.0982142857143, 566.25, 'X[6] <= 4.5\\ngini = 0.009\\nsamples = 460\\nvalue = [2, 458]'),\n",
       " Text(386.1160714285714, 520.95, 'X[5] <= 32.0\\ngini = 0.278\\nsamples = 12\\nvalue = [2, 10]'),\n",
       " Text(381.13392857142856, 475.65, 'gini = 0.0\\nsamples = 2\\nvalue = [2, 0]'),\n",
       " Text(391.0982142857143, 475.65, 'gini = 0.0\\nsamples = 10\\nvalue = [0, 10]'),\n",
       " Text(396.0803571428571, 520.95, 'gini = 0.0\\nsamples = 448\\nvalue = [0, 448]'),\n",
       " Text(401.06249999999994, 566.25, 'gini = 0.0\\nsamples = 4\\nvalue = [4, 0]'),\n",
       " Text(307.2386300223214, 702.1500000000001, 'gini = 0.0\\nsamples = 2565\\nvalue = [0, 2565]'),\n",
       " Text(425.9732142857143, 792.75, 'X[1] <= 5.0\\ngini = 0.491\\nsamples = 235\\nvalue = [102, 133]'),\n",
       " Text(420.9910714285714, 747.45, 'X[9] <= 0.055\\ngini = 0.083\\nsamples = 139\\nvalue = [6, 133]'),\n",
       " Text(416.00892857142856, 702.1500000000001, 'X[10] <= 0.12\\ngini = 0.346\\nsamples = 27\\nvalue = [6, 21]'),\n",
       " Text(411.02678571428567, 656.85, 'X[7] <= 0.115\\ngini = 0.444\\nsamples = 9\\nvalue = [6, 3]'),\n",
       " Text(406.04464285714283, 611.55, 'gini = 0.0\\nsamples = 3\\nvalue = [0, 3]'),\n",
       " Text(416.00892857142856, 611.55, 'gini = 0.0\\nsamples = 6\\nvalue = [6, 0]'),\n",
       " Text(420.9910714285714, 656.85, 'gini = 0.0\\nsamples = 18\\nvalue = [0, 18]'),\n",
       " Text(425.9732142857143, 702.1500000000001, 'gini = 0.0\\nsamples = 112\\nvalue = [0, 112]'),\n",
       " Text(430.9553571428571, 747.45, 'gini = 0.0\\nsamples = 96\\nvalue = [96, 0]'),\n",
       " Text(514.7176339285714, 838.05, 'X[1] <= 7.0\\ngini = 0.004\\nsamples = 44479\\nvalue = [81, 44398]'),\n",
       " Text(493.85491071428567, 792.75, 'X[3] <= 0.5\\ngini = 0.002\\nsamples = 43703\\nvalue = [39, 43664]'),\n",
       " Text(477.04017857142856, 747.45, 'X[8] <= 0.015\\ngini = 0.002\\nsamples = 43693\\nvalue = [37, 43656]'),\n",
       " Text(458.35714285714283, 702.1500000000001, 'X[9] <= 0.88\\ngini = 0.002\\nsamples = 43688\\nvalue = [36, 43652]'),\n",
       " Text(435.93749999999994, 656.85, 'X[10] <= 0.065\\ngini = 0.006\\nsamples = 11970\\nvalue = [34, 11936]'),\n",
       " Text(425.9732142857143, 611.55, 'X[1] <= 0.5\\ngini = 0.093\\nsamples = 673\\nvalue = [33, 640]'),\n",
       " Text(420.9910714285714, 566.25, 'X[7] <= 0.015\\ngini = 0.488\\nsamples = 78\\nvalue = [33, 45]'),\n",
       " Text(416.00892857142856, 520.95, 'X[14] <= 0.5\\ngini = 0.208\\nsamples = 51\\nvalue = [6, 45]'),\n",
       " Text(411.02678571428567, 475.65, 'X[10] <= 0.035\\ngini = 0.457\\nsamples = 17\\nvalue = [6, 11]'),\n",
       " Text(406.04464285714283, 430.35, 'X[7] <= 0.005\\ngini = 0.48\\nsamples = 10\\nvalue = [6, 4]'),\n",
       " Text(401.06249999999994, 385.04999999999995, 'X[10] <= 0.025\\ngini = 0.444\\nsamples = 6\\nvalue = [2, 4]'),\n",
       " Text(396.0803571428571, 339.75, 'X[10] <= 0.005\\ngini = 0.48\\nsamples = 5\\nvalue = [2, 3]'),\n",
       " Text(391.0982142857143, 294.44999999999993, 'gini = 0.5\\nsamples = 2\\nvalue = [1, 1]'),\n",
       " Text(401.06249999999994, 294.44999999999993, 'X[10] <= 0.015\\ngini = 0.444\\nsamples = 3\\nvalue = [1, 2]'),\n",
       " Text(396.0803571428571, 249.14999999999998, 'gini = 0.0\\nsamples = 1\\nvalue = [0, 1]'),\n",
       " Text(406.04464285714283, 249.14999999999998, 'gini = 0.5\\nsamples = 2\\nvalue = [1, 1]'),\n",
       " Text(406.04464285714283, 339.75, 'gini = 0.0\\nsamples = 1\\nvalue = [0, 1]'),\n",
       " Text(411.02678571428567, 385.04999999999995, 'gini = 0.0\\nsamples = 4\\nvalue = [4, 0]'),\n",
       " Text(416.00892857142856, 430.35, 'gini = 0.0\\nsamples = 7\\nvalue = [0, 7]'),\n",
       " Text(420.9910714285714, 475.65, 'gini = 0.0\\nsamples = 34\\nvalue = [0, 34]'),\n",
       " Text(425.9732142857143, 520.95, 'gini = 0.0\\nsamples = 27\\nvalue = [27, 0]'),\n",
       " Text(430.9553571428571, 566.25, 'gini = 0.0\\nsamples = 595\\nvalue = [0, 595]'),\n",
       " Text(445.90178571428567, 611.55, 'X[0] <= 183.5\\ngini = 0.0\\nsamples = 11297\\nvalue = [1, 11296]'),\n",
       " Text(440.91964285714283, 566.25, 'gini = 0.0\\nsamples = 10342\\nvalue = [0, 10342]'),\n",
       " Text(450.88392857142856, 566.25, 'X[0] <= 202.5\\ngini = 0.002\\nsamples = 955\\nvalue = [1, 954]'),\n",
       " Text(445.90178571428567, 520.95, 'gini = 0.0\\nsamples = 1\\nvalue = [1, 0]'),\n",
       " Text(455.8660714285714, 520.95, 'gini = 0.0\\nsamples = 954\\nvalue = [0, 954]'),\n",
       " Text(480.77678571428567, 656.85, 'X[7] <= 0.005\\ngini = 0.0\\nsamples = 31718\\nvalue = [2, 31716]'),\n",
       " Text(475.79464285714283, 611.55, 'X[14] <= 0.5\\ngini = 0.002\\nsamples = 1927\\nvalue = [2, 1925]'),\n",
       " Text(470.81249999999994, 566.25, 'X[10] <= 0.005\\ngini = 0.003\\nsamples = 1343\\nvalue = [2, 1341]'),\n",
       " Text(465.8303571428571, 520.95, 'X[12] <= 0.5\\ngini = 0.003\\nsamples = 1259\\nvalue = [2, 1257]'),\n",
       " Text(460.8482142857143, 475.65, 'gini = 0.003\\nsamples = 1232\\nvalue = [2, 1230]'),\n",
       " Text(470.81249999999994, 475.65, 'gini = 0.0\\nsamples = 27\\nvalue = [0, 27]'),\n",
       " Text(475.79464285714283, 520.95, 'gini = 0.0\\nsamples = 84\\nvalue = [0, 84]'),\n",
       " Text(480.77678571428567, 566.25, 'gini = 0.0\\nsamples = 584\\nvalue = [0, 584]'),\n",
       " Text(485.75892857142856, 611.55, 'gini = 0.0\\nsamples = 29791\\nvalue = [0, 29791]'),\n",
       " Text(495.7232142857142, 702.1500000000001, 'X[6] <= 71.0\\ngini = 0.32\\nsamples = 5\\nvalue = [1, 4]'),\n",
       " Text(490.7410714285714, 656.85, 'gini = 0.0\\nsamples = 4\\nvalue = [0, 4]'),\n",
       " Text(500.7053571428571, 656.85, 'gini = 0.0\\nsamples = 1\\nvalue = [1, 0]'),\n",
       " Text(510.66964285714283, 747.45, 'X[10] <= 0.035\\ngini = 0.32\\nsamples = 10\\nvalue = [2, 8]'),\n",
       " Text(505.68749999999994, 702.1500000000001, 'gini = 0.0\\nsamples = 2\\nvalue = [2, 0]'),\n",
       " Text(515.6517857142857, 702.1500000000001, 'gini = 0.0\\nsamples = 8\\nvalue = [0, 8]'),\n",
       " Text(535.5803571428571, 792.75, 'X[12] <= 0.5\\ngini = 0.102\\nsamples = 776\\nvalue = [42, 734]'),\n",
       " Text(530.5982142857142, 747.45, 'X[6] <= 211.0\\ngini = 0.008\\nsamples = 737\\nvalue = [3, 734]'),\n",
       " Text(525.6160714285714, 702.1500000000001, 'X[10] <= 0.935\\ngini = 0.005\\nsamples = 736\\nvalue = [2, 734]'),\n",
       " Text(520.6339285714286, 656.85, 'X[7] <= 0.005\\ngini = 0.003\\nsamples = 735\\nvalue = [1, 734]'),\n",
       " Text(515.6517857142857, 611.55, 'X[1] <= 25.5\\ngini = 0.18\\nsamples = 10\\nvalue = [1, 9]'),\n",
       " Text(510.66964285714283, 566.25, 'X[1] <= 21.5\\ngini = 0.32\\nsamples = 5\\nvalue = [1, 4]'),\n",
       " Text(505.68749999999994, 520.95, 'gini = 0.0\\nsamples = 4\\nvalue = [0, 4]'),\n",
       " Text(515.6517857142857, 520.95, 'gini = 0.0\\nsamples = 1\\nvalue = [1, 0]'),\n",
       " Text(520.6339285714286, 566.25, 'gini = 0.0\\nsamples = 5\\nvalue = [0, 5]'),\n",
       " Text(525.6160714285714, 611.55, 'gini = 0.0\\nsamples = 725\\nvalue = [0, 725]'),\n",
       " Text(530.5982142857142, 656.85, 'gini = 0.0\\nsamples = 1\\nvalue = [1, 0]'),\n",
       " Text(535.5803571428571, 702.1500000000001, 'gini = 0.0\\nsamples = 1\\nvalue = [1, 0]'),\n",
       " Text(540.5625, 747.45, 'gini = 0.0\\nsamples = 39\\nvalue = [39, 0]'),\n",
       " Text(529.6640625, 883.35, 'X[1] <= 7.5\\ngini = 0.085\\nsamples = 359\\nvalue = [343, 16]'),\n",
       " Text(524.6819196428571, 838.05, 'gini = 0.0\\nsamples = 16\\nvalue = [0, 16]'),\n",
       " Text(534.6462053571428, 838.05, 'gini = 0.0\\nsamples = 343\\nvalue = [343, 0]'),\n",
       " Text(684.421875, 928.6500000000001, 'X[10] <= 0.09\\ngini = 0.309\\nsamples = 1075\\nvalue = [870, 205]'),\n",
       " Text(643.9419642857142, 883.35, 'X[2] <= 791.5\\ngini = 0.131\\nsamples = 919\\nvalue = [854, 65]'),\n",
       " Text(607.8214285714286, 838.05, 'X[6] <= 1.5\\ngini = 0.07\\nsamples = 856\\nvalue = [825, 31]'),\n",
       " Text(565.4732142857142, 792.75, 'X[1] <= 6.5\\ngini = 0.328\\nsamples = 63\\nvalue = [50, 13]'),\n",
       " Text(550.5267857142857, 747.45, 'X[1] <= 2.5\\ngini = 0.491\\nsamples = 23\\nvalue = [13, 10]'),\n",
       " Text(545.5446428571428, 702.1500000000001, 'gini = 0.0\\nsamples = 10\\nvalue = [10, 0]'),\n",
       " Text(555.5089285714286, 702.1500000000001, 'X[2] <= 128.0\\ngini = 0.355\\nsamples = 13\\nvalue = [3, 10]'),\n",
       " Text(550.5267857142857, 656.85, 'gini = 0.0\\nsamples = 8\\nvalue = [0, 8]'),\n",
       " Text(560.4910714285713, 656.85, 'X[0] <= 2.0\\ngini = 0.48\\nsamples = 5\\nvalue = [3, 2]'),\n",
       " Text(555.5089285714286, 611.55, 'gini = 0.0\\nsamples = 3\\nvalue = [3, 0]'),\n",
       " Text(565.4732142857142, 611.55, 'gini = 0.0\\nsamples = 2\\nvalue = [0, 2]'),\n",
       " Text(580.4196428571428, 747.45, 'X[2] <= 35.5\\ngini = 0.139\\nsamples = 40\\nvalue = [37, 3]'),\n",
       " Text(575.4375, 702.1500000000001, 'X[5] <= 24.0\\ngini = 0.469\\nsamples = 8\\nvalue = [5, 3]'),\n",
       " Text(570.4553571428571, 656.85, 'gini = 0.0\\nsamples = 2\\nvalue = [0, 2]'),\n",
       " Text(580.4196428571428, 656.85, 'X[2] <= 9.5\\ngini = 0.278\\nsamples = 6\\nvalue = [5, 1]'),\n",
       " Text(575.4375, 611.55, 'gini = 0.0\\nsamples = 1\\nvalue = [0, 1]'),\n",
       " Text(585.4017857142857, 611.55, 'gini = 0.0\\nsamples = 5\\nvalue = [5, 0]'),\n",
       " Text(585.4017857142857, 702.1500000000001, 'gini = 0.0\\nsamples = 32\\nvalue = [32, 0]'),\n",
       " Text(650.1696428571428, 792.75, 'X[14] <= 0.5\\ngini = 0.044\\nsamples = 793\\nvalue = [775, 18]'),\n",
       " Text(645.1875, 747.45, 'X[3] <= 0.5\\ngini = 0.04\\nsamples = 791\\nvalue = [775, 16]'),\n",
       " Text(620.2767857142857, 702.1500000000001, 'X[2] <= 35.5\\ngini = 0.035\\nsamples = 785\\nvalue = [771, 14]'),\n",
       " Text(600.3482142857142, 656.85, 'X[12] <= 0.5\\ngini = 0.115\\nsamples = 131\\nvalue = [123, 8]'),\n",
       " Text(595.3660714285713, 611.55, 'X[6] <= 5.5\\ngini = 0.089\\nsamples = 129\\nvalue = [123, 6]'),\n",
       " Text(590.3839285714286, 566.25, 'X[1] <= 5.5\\ngini = 0.278\\nsamples = 36\\nvalue = [30, 6]'),\n",
       " Text(585.4017857142857, 520.95, 'gini = 0.0\\nsamples = 21\\nvalue = [21, 0]'),\n",
       " Text(595.3660714285713, 520.95, 'X[1] <= 7.0\\ngini = 0.48\\nsamples = 15\\nvalue = [9, 6]'),\n",
       " Text(590.3839285714286, 475.65, 'gini = 0.0\\nsamples = 3\\nvalue = [0, 3]'),\n",
       " Text(600.3482142857142, 475.65, 'X[5] <= 3.5\\ngini = 0.375\\nsamples = 12\\nvalue = [9, 3]'),\n",
       " Text(595.3660714285713, 430.35, 'gini = 0.0\\nsamples = 1\\nvalue = [0, 1]'),\n",
       " Text(605.3303571428571, 430.35, 'X[5] <= 213.5\\ngini = 0.298\\nsamples = 11\\nvalue = [9, 2]'),\n",
       " Text(595.3660714285713, 385.04999999999995, 'X[5] <= 21.0\\ngini = 0.198\\nsamples = 9\\nvalue = [8, 1]'),\n",
       " Text(590.3839285714286, 339.75, 'X[5] <= 5.5\\ngini = 0.444\\nsamples = 3\\nvalue = [2, 1]'),\n",
       " Text(585.4017857142857, 294.44999999999993, 'gini = 0.0\\nsamples = 2\\nvalue = [2, 0]'),\n",
       " Text(595.3660714285713, 294.44999999999993, 'gini = 0.0\\nsamples = 1\\nvalue = [0, 1]'),\n",
       " Text(600.3482142857142, 339.75, 'gini = 0.0\\nsamples = 6\\nvalue = [6, 0]'),\n",
       " Text(615.2946428571428, 385.04999999999995, 'X[6] <= 4.0\\ngini = 0.5\\nsamples = 2\\nvalue = [1, 1]'),\n",
       " Text(610.3125, 339.75, 'gini = 0.0\\nsamples = 1\\nvalue = [1, 0]'),\n",
       " Text(620.2767857142857, 339.75, 'gini = 0.0\\nsamples = 1\\nvalue = [0, 1]'),\n",
       " Text(600.3482142857142, 566.25, 'gini = 0.0\\nsamples = 93\\nvalue = [93, 0]'),\n",
       " Text(605.3303571428571, 611.55, 'gini = 0.0\\nsamples = 2\\nvalue = [0, 2]'),\n",
       " Text(640.2053571428571, 656.85, 'X[6] <= 119.0\\ngini = 0.018\\nsamples = 654\\nvalue = [648, 6]'),\n",
       " Text(630.2410714285713, 611.55, 'X[5] <= 153.5\\ngini = 0.013\\nsamples = 629\\nvalue = [625, 4]'),\n",
       " Text(625.2589285714286, 566.25, 'gini = 0.0\\nsamples = 354\\nvalue = [354, 0]'),\n",
       " Text(635.2232142857142, 566.25, 'X[5] <= 156.5\\ngini = 0.029\\nsamples = 275\\nvalue = [271, 4]'),\n",
       " Text(625.2589285714286, 520.95, 'X[2] <= 109.0\\ngini = 0.444\\nsamples = 6\\nvalue = [4, 2]'),\n",
       " Text(620.2767857142857, 475.65, 'X[10] <= 0.005\\ngini = 0.444\\nsamples = 3\\nvalue = [1, 2]'),\n",
       " Text(615.2946428571428, 430.35, 'gini = 0.0\\nsamples = 2\\nvalue = [0, 2]'),\n",
       " Text(625.2589285714286, 430.35, 'gini = 0.0\\nsamples = 1\\nvalue = [1, 0]'),\n",
       " Text(630.2410714285713, 475.65, 'gini = 0.0\\nsamples = 3\\nvalue = [3, 0]'),\n",
       " Text(645.1875, 520.95, 'X[7] <= 0.025\\ngini = 0.015\\nsamples = 269\\nvalue = [267, 2]'),\n",
       " Text(640.2053571428571, 475.65, 'X[6] <= 4.5\\ngini = 0.043\\nsamples = 92\\nvalue = [90, 2]'),\n",
       " Text(635.2232142857142, 430.35, 'gini = 0.0\\nsamples = 50\\nvalue = [50, 0]'),\n",
       " Text(645.1875, 430.35, 'X[4] <= 0.5\\ngini = 0.091\\nsamples = 42\\nvalue = [40, 2]'),\n",
       " Text(635.2232142857142, 385.04999999999995, 'X[0] <= 0.5\\ngini = 0.053\\nsamples = 37\\nvalue = [36, 1]'),\n",
       " Text(630.2410714285713, 339.75, 'gini = 0.0\\nsamples = 31\\nvalue = [31, 0]'),\n",
       " Text(640.2053571428571, 339.75, 'X[5] <= 248.0\\ngini = 0.278\\nsamples = 6\\nvalue = [5, 1]'),\n",
       " Text(635.2232142857142, 294.44999999999993, 'gini = 0.0\\nsamples = 4\\nvalue = [4, 0]'),\n",
       " Text(645.1875, 294.44999999999993, 'X[1] <= 8.0\\ngini = 0.5\\nsamples = 2\\nvalue = [1, 1]'),\n",
       " Text(640.2053571428571, 249.14999999999998, 'gini = 0.0\\nsamples = 1\\nvalue = [1, 0]'),\n",
       " Text(650.1696428571428, 249.14999999999998, 'gini = 0.0\\nsamples = 1\\nvalue = [0, 1]'),\n",
       " Text(655.1517857142857, 385.04999999999995, 'X[1] <= 7.5\\ngini = 0.32\\nsamples = 5\\nvalue = [4, 1]'),\n",
       " Text(650.1696428571428, 339.75, 'gini = 0.0\\nsamples = 1\\nvalue = [0, 1]'),\n",
       " Text(660.1339285714286, 339.75, 'gini = 0.0\\nsamples = 4\\nvalue = [4, 0]'),\n",
       " Text(650.1696428571428, 475.65, 'gini = 0.0\\nsamples = 177\\nvalue = [177, 0]'),\n",
       " Text(650.1696428571428, 611.55, 'X[1] <= 11.5\\ngini = 0.147\\nsamples = 25\\nvalue = [23, 2]'),\n",
       " Text(645.1875, 566.25, 'gini = 0.0\\nsamples = 2\\nvalue = [0, 2]'),\n",
       " Text(655.1517857142857, 566.25, 'gini = 0.0\\nsamples = 23\\nvalue = [23, 0]'),\n",
       " Text(670.0982142857142, 702.1500000000001, 'X[9] <= 0.045\\ngini = 0.444\\nsamples = 6\\nvalue = [4, 2]'),\n",
       " Text(665.1160714285713, 656.85, 'X[2] <= 96.5\\ngini = 0.444\\nsamples = 3\\nvalue = [1, 2]'),\n",
       " Text(660.1339285714286, 611.55, 'gini = 0.0\\nsamples = 1\\nvalue = [1, 0]'),\n",
       " Text(670.0982142857142, 611.55, 'gini = 0.0\\nsamples = 2\\nvalue = [0, 2]'),\n",
       " Text(675.0803571428571, 656.85, 'gini = 0.0\\nsamples = 3\\nvalue = [3, 0]'),\n",
       " Text(655.1517857142857, 747.45, 'gini = 0.0\\nsamples = 2\\nvalue = [0, 2]'),\n",
       " Text(680.0625, 838.05, 'X[7] <= 0.845\\ngini = 0.497\\nsamples = 63\\nvalue = [29, 34]'),\n",
       " Text(670.0982142857142, 792.75, 'X[12] <= 0.5\\ngini = 0.137\\nsamples = 27\\nvalue = [25, 2]'),\n",
       " Text(665.1160714285713, 747.45, 'gini = 0.0\\nsamples = 2\\nvalue = [0, 2]'),\n",
       " Text(675.0803571428571, 747.45, 'gini = 0.0\\nsamples = 25\\nvalue = [25, 0]'),\n",
       " Text(690.0267857142857, 792.75, 'X[8] <= 0.035\\ngini = 0.198\\nsamples = 36\\nvalue = [4, 32]'),\n",
       " Text(685.0446428571428, 747.45, 'gini = 0.0\\nsamples = 28\\nvalue = [0, 28]'),\n",
       " Text(695.0089285714286, 747.45, 'X[8] <= 0.075\\ngini = 0.5\\nsamples = 8\\nvalue = [4, 4]'),\n",
       " Text(690.0267857142857, 702.1500000000001, 'gini = 0.0\\nsamples = 4\\nvalue = [4, 0]'),\n",
       " Text(699.9910714285713, 702.1500000000001, 'gini = 0.0\\nsamples = 4\\nvalue = [0, 4]'),\n",
       " Text(724.9017857142857, 883.35, 'X[2] <= 227.5\\ngini = 0.184\\nsamples = 156\\nvalue = [16, 140]'),\n",
       " Text(714.9375, 838.05, 'X[7] <= 0.75\\ngini = 0.081\\nsamples = 142\\nvalue = [6, 136]'),\n",
       " Text(709.9553571428571, 792.75, 'X[2] <= 136.0\\ngini = 0.014\\nsamples = 137\\nvalue = [1, 136]'),\n",
       " Text(704.9732142857142, 747.45, 'gini = 0.0\\nsamples = 130\\nvalue = [0, 130]'),\n",
       " Text(714.9375, 747.45, 'X[2] <= 140.5\\ngini = 0.245\\nsamples = 7\\nvalue = [1, 6]'),\n",
       " Text(709.9553571428571, 702.1500000000001, 'gini = 0.0\\nsamples = 1\\nvalue = [1, 0]'),\n",
       " Text(719.9196428571428, 702.1500000000001, 'gini = 0.0\\nsamples = 6\\nvalue = [0, 6]'),\n",
       " Text(719.9196428571428, 792.75, 'gini = 0.0\\nsamples = 5\\nvalue = [5, 0]'),\n",
       " Text(734.8660714285713, 838.05, 'X[2] <= 10679.5\\ngini = 0.408\\nsamples = 14\\nvalue = [10, 4]'),\n",
       " Text(729.8839285714286, 792.75, 'gini = 0.0\\nsamples = 10\\nvalue = [10, 0]'),\n",
       " Text(739.8482142857142, 792.75, 'gini = 0.0\\nsamples = 4\\nvalue = [0, 4]'),\n",
       " Text(759.7767857142857, 973.95, 'X[7] <= 0.31\\ngini = 0.425\\nsamples = 4339\\nvalue = [3010, 1329]'),\n",
       " Text(749.8124999999999, 928.6500000000001, 'X[5] <= 41.0\\ngini = 0.026\\nsamples = 1301\\nvalue = [17, 1284]'),\n",
       " Text(744.8303571428571, 883.35, 'gini = 0.0\\nsamples = 17\\nvalue = [17, 0]'),\n",
       " Text(754.7946428571428, 883.35, 'gini = 0.0\\nsamples = 1284\\nvalue = [0, 1284]'),\n",
       " Text(769.7410714285713, 928.6500000000001, 'X[9] <= 0.585\\ngini = 0.029\\nsamples = 3038\\nvalue = [2993, 45]'),\n",
       " Text(764.7589285714286, 883.35, 'X[1] <= 3.0\\ngini = 0.004\\nsamples = 2999\\nvalue = [2993, 6]'),\n",
       " Text(759.7767857142857, 838.05, 'X[3] <= 0.5\\ngini = 0.003\\nsamples = 2997\\nvalue = [2993, 4]'),\n",
       " Text(749.8124999999999, 792.75, 'X[7] <= 0.805\\ngini = 0.002\\nsamples = 2994\\nvalue = [2991, 3]'),\n",
       " Text(744.8303571428571, 747.45, 'X[10] <= 0.315\\ngini = 0.107\\nsamples = 53\\nvalue = [50, 3]'),\n",
       " Text(739.8482142857142, 702.1500000000001, 'gini = 0.0\\nsamples = 3\\nvalue = [0, 3]'),\n",
       " Text(749.8124999999999, 702.1500000000001, 'gini = 0.0\\nsamples = 50\\nvalue = [50, 0]'),\n",
       " Text(754.7946428571428, 747.45, 'gini = 0.0\\nsamples = 2941\\nvalue = [2941, 0]'),\n",
       " Text(769.7410714285713, 792.75, 'X[6] <= 229.5\\ngini = 0.444\\nsamples = 3\\nvalue = [2, 1]'),\n",
       " Text(764.7589285714286, 747.45, 'gini = 0.0\\nsamples = 1\\nvalue = [0, 1]'),\n",
       " Text(774.7232142857142, 747.45, 'gini = 0.0\\nsamples = 2\\nvalue = [2, 0]'),\n",
       " Text(769.7410714285713, 838.05, 'gini = 0.0\\nsamples = 2\\nvalue = [0, 2]'),\n",
       " Text(774.7232142857142, 883.35, 'gini = 0.0\\nsamples = 39\\nvalue = [0, 39]'),\n",
       " Text(1303.2560773577009, 1019.25, 'X[11] <= 0.5\\ngini = 0.139\\nsamples = 67716\\nvalue = [62626, 5090]'),\n",
       " Text(1249.8123779296875, 973.95, 'X[3] <= 0.5\\ngini = 0.067\\nsamples = 64683\\nvalue = [62437, 2246]'),\n",
       " Text(1157.8714076450892, 928.6500000000001, 'X[8] <= 0.105\\ngini = 0.027\\nsamples = 62051\\nvalue = [61200, 851]'),\n",
       " Text(1105.0821010044642, 883.35, 'X[14] <= 0.5\\ngini = 0.015\\nsamples = 60580\\nvalue = [60131, 449]'),\n",
       " Text(1059.2892020089284, 838.05, 'X[1] <= 153429432.0\\ngini = 0.007\\nsamples = 59353\\nvalue = [59152, 201]'),\n",
       " Text(1054.3070591517856, 792.75, 'X[10] <= 0.995\\ngini = 0.007\\nsamples = 59349\\nvalue = [59152, 197]'),\n",
       " Text(992.6141183035713, 747.45, 'X[12] <= 0.5\\ngini = 0.006\\nsamples = 59339\\nvalue = [59148, 191]'),\n",
       " Text(927.7684151785713, 702.1500000000001, 'X[1] <= 47406.0\\ngini = 0.002\\nsamples = 54859\\nvalue = [54802, 57]'),\n",
       " Text(895.2287946428571, 656.85, 'X[10] <= 0.305\\ngini = 0.002\\nsamples = 54772\\nvalue = [54722, 50]'),\n",
       " Text(845.0959821428571, 611.55, 'X[6] <= 6.5\\ngini = 0.001\\nsamples = 54309\\nvalue = [54274, 35]'),\n",
       " Text(790.9151785714286, 566.25, 'X[10] <= 0.015\\ngini = 0.02\\nsamples = 3075\\nvalue = [3044, 31]'),\n",
       " Text(742.3392857142857, 520.95, 'X[5] <= 6.5\\ngini = 0.015\\nsamples = 3010\\nvalue = [2988, 22]'),\n",
       " Text(711.2008928571428, 475.65, 'X[0] <= 17.5\\ngini = 0.129\\nsamples = 202\\nvalue = [188, 14]'),\n",
       " Text(692.5178571428571, 430.35, 'X[2] <= 0.5\\ngini = 0.073\\nsamples = 184\\nvalue = [177, 7]'),\n",
       " Text(687.5357142857142, 385.04999999999995, 'X[1] <= 258.0\\ngini = 0.289\\nsamples = 40\\nvalue = [33, 7]'),\n",
       " Text(675.0803571428571, 339.75, 'X[5] <= 4.5\\ngini = 0.157\\nsamples = 35\\nvalue = [32, 3]'),\n",
       " Text(665.1160714285713, 294.44999999999993, 'X[7] <= 0.29\\ngini = 0.069\\nsamples = 28\\nvalue = [27, 1]'),\n",
       " Text(660.1339285714286, 249.14999999999998, 'X[1] <= 91.5\\ngini = 0.32\\nsamples = 5\\nvalue = [4, 1]'),\n",
       " Text(655.1517857142857, 203.8499999999999, 'X[1] <= 35.5\\ngini = 0.5\\nsamples = 2\\nvalue = [1, 1]'),\n",
       " Text(650.1696428571428, 158.54999999999995, 'gini = 0.0\\nsamples = 1\\nvalue = [1, 0]'),\n",
       " Text(660.1339285714286, 158.54999999999995, 'gini = 0.0\\nsamples = 1\\nvalue = [0, 1]'),\n",
       " Text(665.1160714285713, 203.8499999999999, 'gini = 0.0\\nsamples = 3\\nvalue = [3, 0]'),\n",
       " Text(670.0982142857142, 249.14999999999998, 'gini = 0.0\\nsamples = 23\\nvalue = [23, 0]'),\n",
       " Text(685.0446428571428, 294.44999999999993, 'X[7] <= 0.55\\ngini = 0.408\\nsamples = 7\\nvalue = [5, 2]'),\n",
       " Text(680.0625, 249.14999999999998, 'X[1] <= 92.0\\ngini = 0.444\\nsamples = 3\\nvalue = [1, 2]'),\n",
       " Text(675.0803571428571, 203.8499999999999, 'gini = 0.0\\nsamples = 2\\nvalue = [0, 2]'),\n",
       " Text(685.0446428571428, 203.8499999999999, 'gini = 0.0\\nsamples = 1\\nvalue = [1, 0]'),\n",
       " Text(690.0267857142857, 249.14999999999998, 'gini = 0.0\\nsamples = 4\\nvalue = [4, 0]'),\n",
       " Text(699.9910714285713, 339.75, 'X[5] <= 1.5\\ngini = 0.32\\nsamples = 5\\nvalue = [1, 4]'),\n",
       " Text(695.0089285714286, 294.44999999999993, 'gini = 0.5\\nsamples = 2\\nvalue = [1, 1]'),\n",
       " Text(704.9732142857142, 294.44999999999993, 'gini = 0.0\\nsamples = 3\\nvalue = [0, 3]'),\n",
       " Text(697.5, 385.04999999999995, 'gini = 0.0\\nsamples = 144\\nvalue = [144, 0]'),\n",
       " Text(729.8839285714286, 430.35, 'X[0] <= 191.5\\ngini = 0.475\\nsamples = 18\\nvalue = [11, 7]'),\n",
       " Text(724.9017857142857, 385.04999999999995, 'X[2] <= 513.0\\ngini = 0.42\\nsamples = 10\\nvalue = [3, 7]'),\n",
       " Text(719.9196428571428, 339.75, 'X[6] <= 4.5\\ngini = 0.375\\nsamples = 4\\nvalue = [3, 1]'),\n",
       " Text(714.9375, 294.44999999999993, 'gini = 0.0\\nsamples = 3\\nvalue = [3, 0]'),\n",
       " Text(724.9017857142857, 294.44999999999993, 'gini = 0.0\\nsamples = 1\\nvalue = [0, 1]'),\n",
       " Text(729.8839285714286, 339.75, 'gini = 0.0\\nsamples = 6\\nvalue = [0, 6]'),\n",
       " Text(734.8660714285713, 385.04999999999995, 'gini = 0.0\\nsamples = 8\\nvalue = [8, 0]'),\n",
       " Text(773.4776785714286, 475.65, 'X[2] <= 113.0\\ngini = 0.006\\nsamples = 2808\\nvalue = [2800, 8]'),\n",
       " Text(754.7946428571428, 430.35, 'X[5] <= 11.5\\ngini = 0.002\\nsamples = 2426\\nvalue = [2424, 2]'),\n",
       " Text(744.8303571428571, 385.04999999999995, 'X[7] <= 0.095\\ngini = 0.105\\nsamples = 18\\nvalue = [17, 1]'),\n",
       " Text(739.8482142857142, 339.75, 'X[1] <= 88.0\\ngini = 0.5\\nsamples = 2\\nvalue = [1, 1]'),\n",
       " Text(734.8660714285713, 294.44999999999993, 'gini = 0.0\\nsamples = 1\\nvalue = [0, 1]'),\n",
       " Text(744.8303571428571, 294.44999999999993, 'gini = 0.0\\nsamples = 1\\nvalue = [1, 0]'),\n",
       " Text(749.8124999999999, 339.75, 'gini = 0.0\\nsamples = 16\\nvalue = [16, 0]'),\n",
       " Text(764.7589285714286, 385.04999999999995, 'X[1] <= 32.5\\ngini = 0.001\\nsamples = 2408\\nvalue = [2407, 1]'),\n",
       " Text(759.7767857142857, 339.75, 'X[1] <= 31.5\\ngini = 0.013\\nsamples = 154\\nvalue = [153, 1]'),\n",
       " Text(754.7946428571428, 294.44999999999993, 'gini = 0.0\\nsamples = 152\\nvalue = [152, 0]'),\n",
       " Text(764.7589285714286, 294.44999999999993, 'gini = 0.5\\nsamples = 2\\nvalue = [1, 1]'),\n",
       " Text(769.7410714285713, 339.75, 'gini = 0.0\\nsamples = 2254\\nvalue = [2254, 0]'),\n",
       " Text(792.1607142857142, 430.35, 'X[2] <= 125.5\\ngini = 0.031\\nsamples = 382\\nvalue = [376, 6]'),\n",
       " Text(787.1785714285713, 385.04999999999995, 'gini = 0.0\\nsamples = 1\\nvalue = [0, 1]'),\n",
       " Text(797.1428571428571, 385.04999999999995, 'X[0] <= 53.5\\ngini = 0.026\\nsamples = 381\\nvalue = [376, 5]'),\n",
       " Text(779.7053571428571, 339.75, 'X[0] <= 24.5\\ngini = 0.006\\nsamples = 319\\nvalue = [318, 1]'),\n",
       " Text(774.7232142857142, 294.44999999999993, 'gini = 0.0\\nsamples = 279\\nvalue = [279, 0]'),\n",
       " Text(784.6874999999999, 294.44999999999993, 'X[0] <= 25.5\\ngini = 0.049\\nsamples = 40\\nvalue = [39, 1]'),\n",
       " Text(779.7053571428571, 249.14999999999998, 'gini = 0.0\\nsamples = 1\\nvalue = [0, 1]'),\n",
       " Text(789.6696428571428, 249.14999999999998, 'gini = 0.0\\nsamples = 39\\nvalue = [39, 0]'),\n",
       " Text(814.5803571428571, 339.75, 'X[2] <= 236.5\\ngini = 0.121\\nsamples = 62\\nvalue = [58, 4]'),\n",
       " Text(804.6160714285713, 294.44999999999993, 'X[6] <= 1.5\\ngini = 0.444\\nsamples = 3\\nvalue = [1, 2]'),\n",
       " Text(799.6339285714286, 249.14999999999998, 'X[1] <= 86.5\\ngini = 0.5\\nsamples = 2\\nvalue = [1, 1]'),\n",
       " Text(794.6517857142857, 203.8499999999999, 'gini = 0.0\\nsamples = 1\\nvalue = [0, 1]'),\n",
       " Text(804.6160714285713, 203.8499999999999, 'gini = 0.0\\nsamples = 1\\nvalue = [1, 0]'),\n",
       " Text(809.5982142857142, 249.14999999999998, 'gini = 0.0\\nsamples = 1\\nvalue = [0, 1]'),\n",
       " Text(824.5446428571428, 294.44999999999993, 'X[0] <= 55.5\\ngini = 0.065\\nsamples = 59\\nvalue = [57, 2]'),\n",
       " Text(819.5624999999999, 249.14999999999998, 'gini = 0.0\\nsamples = 1\\nvalue = [0, 1]'),\n",
       " Text(829.5267857142857, 249.14999999999998, 'X[1] <= 1604.0\\ngini = 0.034\\nsamples = 58\\nvalue = [57, 1]'),\n",
       " Text(824.5446428571428, 203.8499999999999, 'gini = 0.0\\nsamples = 49\\nvalue = [49, 0]'),\n",
       " Text(834.5089285714286, 203.8499999999999, 'X[1] <= 1976.0\\ngini = 0.198\\nsamples = 9\\nvalue = [8, 1]'),\n",
       " Text(829.5267857142857, 158.54999999999995, 'gini = 0.0\\nsamples = 1\\nvalue = [0, 1]'),\n",
       " Text(839.4910714285713, 158.54999999999995, 'gini = 0.0\\nsamples = 8\\nvalue = [8, 0]'),\n",
       " Text(839.4910714285713, 520.95, 'X[1] <= 51.0\\ngini = 0.239\\nsamples = 65\\nvalue = [56, 9]'),\n",
       " Text(834.5089285714286, 475.65, 'gini = 0.0\\nsamples = 7\\nvalue = [0, 7]'),\n",
       " Text(844.4732142857142, 475.65, 'X[7] <= 0.785\\ngini = 0.067\\nsamples = 58\\nvalue = [56, 2]'),\n",
       " Text(834.5089285714286, 430.35, 'X[7] <= 0.005\\ngini = 0.035\\nsamples = 56\\nvalue = [55, 1]'),\n",
       " Text(829.5267857142857, 385.04999999999995, 'X[0] <= 25.0\\ngini = 0.375\\nsamples = 4\\nvalue = [3, 1]'),\n",
       " Text(824.5446428571428, 339.75, 'gini = 0.0\\nsamples = 3\\nvalue = [3, 0]'),\n",
       " Text(834.5089285714286, 339.75, 'gini = 0.0\\nsamples = 1\\nvalue = [0, 1]'),\n",
       " Text(839.4910714285713, 385.04999999999995, 'gini = 0.0\\nsamples = 52\\nvalue = [52, 0]'),\n",
       " Text(854.4374999999999, 430.35, 'X[1] <= 2583.0\\ngini = 0.5\\nsamples = 2\\nvalue = [1, 1]'),\n",
       " Text(849.4553571428571, 385.04999999999995, 'gini = 0.0\\nsamples = 1\\nvalue = [0, 1]'),\n",
       " Text(859.4196428571428, 385.04999999999995, 'gini = 0.0\\nsamples = 1\\nvalue = [1, 0]'),\n",
       " Text(899.2767857142857, 566.25, 'X[2] <= 647691.0\\ngini = 0.0\\nsamples = 51234\\nvalue = [51230, 4]'),\n",
       " Text(884.3303571428571, 520.95, 'X[9] <= 0.305\\ngini = 0.0\\nsamples = 51217\\nvalue = [51214, 3]'),\n",
       " Text(869.3839285714286, 475.65, 'X[9] <= 0.025\\ngini = 0.0\\nsamples = 51005\\nvalue = [51004, 1]'),\n",
       " Text(864.4017857142857, 430.35, 'gini = 0.0\\nsamples = 50703\\nvalue = [50703, 0]'),\n",
       " Text(874.3660714285713, 430.35, 'X[1] <= 54.5\\ngini = 0.007\\nsamples = 302\\nvalue = [301, 1]'),\n",
       " Text(869.3839285714286, 385.04999999999995, 'X[6] <= 91.0\\ngini = 0.5\\nsamples = 2\\nvalue = [1, 1]'),\n",
       " Text(864.4017857142857, 339.75, 'gini = 0.0\\nsamples = 1\\nvalue = [0, 1]'),\n",
       " Text(874.3660714285713, 339.75, 'gini = 0.0\\nsamples = 1\\nvalue = [1, 0]'),\n",
       " Text(879.3482142857142, 385.04999999999995, 'gini = 0.0\\nsamples = 300\\nvalue = [300, 0]'),\n",
       " Text(899.2767857142857, 475.65, 'X[9] <= 0.325\\ngini = 0.019\\nsamples = 212\\nvalue = [210, 2]'),\n",
       " Text(894.2946428571428, 430.35, 'X[1] <= 540.0\\ngini = 0.444\\nsamples = 6\\nvalue = [4, 2]'),\n",
       " Text(889.3124999999999, 385.04999999999995, 'gini = 0.0\\nsamples = 2\\nvalue = [0, 2]'),\n",
       " Text(899.2767857142857, 385.04999999999995, 'gini = 0.0\\nsamples = 4\\nvalue = [4, 0]'),\n",
       " Text(904.2589285714286, 430.35, 'gini = 0.0\\nsamples = 206\\nvalue = [206, 0]'),\n",
       " Text(914.2232142857142, 520.95, 'X[4] <= 0.5\\ngini = 0.111\\nsamples = 17\\nvalue = [16, 1]'),\n",
       " Text(909.2410714285713, 475.65, 'gini = 0.0\\nsamples = 1\\nvalue = [0, 1]'),\n",
       " Text(919.2053571428571, 475.65, 'gini = 0.0\\nsamples = 16\\nvalue = [16, 0]'),\n",
       " Text(945.3616071428571, 611.55, 'X[1] <= 44.5\\ngini = 0.063\\nsamples = 463\\nvalue = [448, 15]'),\n",
       " Text(929.1696428571428, 566.25, 'X[8] <= 0.005\\ngini = 0.469\\nsamples = 8\\nvalue = [3, 5]'),\n",
       " Text(924.1874999999999, 520.95, 'gini = 0.0\\nsamples = 5\\nvalue = [0, 5]'),\n",
       " Text(934.1517857142857, 520.95, 'gini = 0.0\\nsamples = 3\\nvalue = [3, 0]'),\n",
       " Text(961.5535714285713, 566.25, 'X[10] <= 0.325\\ngini = 0.043\\nsamples = 455\\nvalue = [445, 10]'),\n",
       " Text(944.1160714285713, 520.95, 'X[1] <= 1677.5\\ngini = 0.327\\nsamples = 34\\nvalue = [27, 7]'),\n",
       " Text(939.1339285714286, 475.65, 'gini = 0.0\\nsamples = 26\\nvalue = [26, 0]'),\n",
       " Text(949.0982142857142, 475.65, 'X[8] <= 0.01\\ngini = 0.219\\nsamples = 8\\nvalue = [1, 7]'),\n",
       " Text(944.1160714285713, 430.35, 'gini = 0.0\\nsamples = 1\\nvalue = [1, 0]'),\n",
       " Text(954.0803571428571, 430.35, 'gini = 0.0\\nsamples = 7\\nvalue = [0, 7]'),\n",
       " Text(978.9910714285713, 520.95, 'X[7] <= 0.045\\ngini = 0.014\\nsamples = 421\\nvalue = [418, 3]'),\n",
       " Text(974.0089285714284, 475.65, 'X[2] <= 2293.5\\ngini = 0.204\\nsamples = 26\\nvalue = [23, 3]'),\n",
       " Text(964.0446428571428, 430.35, 'X[6] <= 9.5\\ngini = 0.091\\nsamples = 21\\nvalue = [20, 1]'),\n",
       " Text(959.0624999999999, 385.04999999999995, 'gini = 0.0\\nsamples = 16\\nvalue = [16, 0]'),\n",
       " Text(969.0267857142857, 385.04999999999995, 'X[2] <= 441.0\\ngini = 0.32\\nsamples = 5\\nvalue = [4, 1]'),\n",
       " Text(964.0446428571428, 339.75, 'gini = 0.0\\nsamples = 4\\nvalue = [4, 0]'),\n",
       " Text(974.0089285714284, 339.75, 'gini = 0.0\\nsamples = 1\\nvalue = [0, 1]'),\n",
       " Text(983.9732142857142, 430.35, 'X[10] <= 0.735\\ngini = 0.48\\nsamples = 5\\nvalue = [3, 2]'),\n",
       " Text(978.9910714285713, 385.04999999999995, 'gini = 0.0\\nsamples = 2\\nvalue = [0, 2]'),\n",
       " Text(988.9553571428571, 385.04999999999995, 'gini = 0.0\\nsamples = 3\\nvalue = [3, 0]'),\n",
       " Text(983.9732142857142, 475.65, 'gini = 0.0\\nsamples = 395\\nvalue = [395, 0]'),\n",
       " Text(960.3080357142857, 656.85, 'X[6] <= 251.0\\ngini = 0.148\\nsamples = 87\\nvalue = [80, 7]'),\n",
       " Text(955.3258928571428, 611.55, 'gini = 0.0\\nsamples = 80\\nvalue = [80, 0]'),\n",
       " Text(965.2901785714284, 611.55, 'gini = 0.0\\nsamples = 7\\nvalue = [0, 7]'),\n",
       " Text(1057.4598214285713, 702.1500000000001, 'X[7] <= 0.935\\ngini = 0.058\\nsamples = 4480\\nvalue = [4346, 134]'),\n",
       " Text(1018.8482142857142, 656.85, 'X[0] <= 3.5\\ngini = 0.018\\nsamples = 4147\\nvalue = [4109, 38]'),\n",
       " Text(1008.8839285714284, 611.55, 'X[1] <= 353.5\\ngini = 0.015\\nsamples = 4117\\nvalue = [4085, 32]'),\n",
       " Text(1003.9017857142857, 566.25, 'X[1] <= 326.5\\ngini = 0.066\\nsamples = 932\\nvalue = [900, 32]'),\n",
       " Text(998.9196428571428, 520.95, 'X[9] <= 0.005\\ngini = 0.007\\nsamples = 903\\nvalue = [900, 3]'),\n",
       " Text(993.9374999999999, 475.65, 'gini = 0.0\\nsamples = 774\\nvalue = [774, 0]'),\n",
       " Text(1003.9017857142857, 475.65, 'X[1] <= 245.5\\ngini = 0.045\\nsamples = 129\\nvalue = [126, 3]'),\n",
       " Text(998.9196428571428, 430.35, 'gini = 0.0\\nsamples = 113\\nvalue = [113, 0]'),\n",
       " Text(1008.8839285714284, 430.35, 'X[1] <= 249.0\\ngini = 0.305\\nsamples = 16\\nvalue = [13, 3]'),\n",
       " Text(1003.9017857142857, 385.04999999999995, 'gini = 0.0\\nsamples = 3\\nvalue = [0, 3]'),\n",
       " Text(1013.8660714285713, 385.04999999999995, 'gini = 0.0\\nsamples = 13\\nvalue = [13, 0]'),\n",
       " Text(1008.8839285714284, 520.95, 'gini = 0.0\\nsamples = 29\\nvalue = [0, 29]'),\n",
       " Text(1013.8660714285713, 566.25, 'gini = 0.0\\nsamples = 3185\\nvalue = [3185, 0]'),\n",
       " Text(1028.8125, 611.55, 'X[9] <= 0.005\\ngini = 0.32\\nsamples = 30\\nvalue = [24, 6]'),\n",
       " Text(1023.8303571428571, 566.25, 'gini = 0.0\\nsamples = 22\\nvalue = [22, 0]'),\n",
       " Text(1033.794642857143, 566.25, 'X[5] <= 230.0\\ngini = 0.375\\nsamples = 8\\nvalue = [2, 6]'),\n",
       " Text(1028.8125, 520.95, 'gini = 0.0\\nsamples = 2\\nvalue = [2, 0]'),\n",
       " Text(1038.7767857142856, 520.95, 'gini = 0.0\\nsamples = 6\\nvalue = [0, 6]'),\n",
       " Text(1096.0714285714284, 656.85, 'X[1] <= 353.5\\ngini = 0.41\\nsamples = 333\\nvalue = [237, 96]'),\n",
       " Text(1071.1607142857142, 611.55, 'X[1] <= 326.5\\ngini = 0.467\\nsamples = 124\\nvalue = [46, 78]'),\n",
       " Text(1058.705357142857, 566.25, 'X[1] <= 245.5\\ngini = 0.233\\nsamples = 52\\nvalue = [45, 7]'),\n",
       " Text(1048.7410714285713, 520.95, 'X[1] <= 32.5\\ngini = 0.049\\nsamples = 40\\nvalue = [39, 1]'),\n",
       " Text(1043.7589285714284, 475.65, 'gini = 0.0\\nsamples = 1\\nvalue = [0, 1]'),\n",
       " Text(1053.7232142857142, 475.65, 'gini = 0.0\\nsamples = 39\\nvalue = [39, 0]'),\n",
       " Text(1068.6696428571427, 520.95, 'X[1] <= 249.0\\ngini = 0.5\\nsamples = 12\\nvalue = [6, 6]'),\n",
       " Text(1063.6875, 475.65, 'gini = 0.0\\nsamples = 6\\nvalue = [0, 6]'),\n",
       " Text(1073.6517857142856, 475.65, 'gini = 0.0\\nsamples = 6\\nvalue = [6, 0]'),\n",
       " Text(1083.6160714285713, 566.25, 'X[6] <= 1.5\\ngini = 0.027\\nsamples = 72\\nvalue = [1, 71]'),\n",
       " Text(1078.6339285714284, 520.95, 'gini = 0.5\\nsamples = 2\\nvalue = [1, 1]'),\n",
       " Text(1088.5982142857142, 520.95, 'gini = 0.0\\nsamples = 70\\nvalue = [0, 70]'),\n",
       " Text(1120.9821428571427, 611.55, 'X[0] <= 3.0\\ngini = 0.157\\nsamples = 209\\nvalue = [191, 18]'),\n",
       " Text(1108.5267857142856, 566.25, 'X[6] <= 1.5\\ngini = 0.021\\nsamples = 192\\nvalue = [190, 2]'),\n",
       " Text(1098.5625, 520.95, 'X[4] <= 0.5\\ngini = 0.219\\nsamples = 8\\nvalue = [7, 1]'),\n",
       " Text(1093.580357142857, 475.65, 'X[1] <= 803.0\\ngini = 0.5\\nsamples = 2\\nvalue = [1, 1]'),\n",
       " Text(1088.5982142857142, 430.35, 'gini = 0.0\\nsamples = 1\\nvalue = [1, 0]'),\n",
       " Text(1098.5625, 430.35, 'gini = 0.0\\nsamples = 1\\nvalue = [0, 1]'),\n",
       " Text(1103.5446428571427, 475.65, 'gini = 0.0\\nsamples = 6\\nvalue = [6, 0]'),\n",
       " Text(1118.4910714285713, 520.95, 'X[5] <= 1.5\\ngini = 0.011\\nsamples = 184\\nvalue = [183, 1]'),\n",
       " Text(1113.5089285714284, 475.65, 'X[6] <= 80.5\\ngini = 0.083\\nsamples = 23\\nvalue = [22, 1]'),\n",
       " Text(1108.5267857142856, 430.35, 'gini = 0.0\\nsamples = 19\\nvalue = [19, 0]'),\n",
       " Text(1118.4910714285713, 430.35, 'X[6] <= 86.0\\ngini = 0.375\\nsamples = 4\\nvalue = [3, 1]'),\n",
       " Text(1113.5089285714284, 385.04999999999995, 'gini = 0.0\\nsamples = 1\\nvalue = [0, 1]'),\n",
       " Text(1123.4732142857142, 385.04999999999995, 'gini = 0.0\\nsamples = 3\\nvalue = [3, 0]'),\n",
       " Text(1123.4732142857142, 475.65, 'gini = 0.0\\nsamples = 161\\nvalue = [161, 0]'),\n",
       " Text(1133.4375, 566.25, 'X[4] <= 0.5\\ngini = 0.111\\nsamples = 17\\nvalue = [1, 16]'),\n",
       " Text(1128.455357142857, 520.95, 'gini = 0.0\\nsamples = 1\\nvalue = [1, 0]'),\n",
       " Text(1138.4196428571427, 520.95, 'gini = 0.0\\nsamples = 16\\nvalue = [0, 16]'),\n",
       " Text(1116.0, 747.45, 'X[1] <= 6352.0\\ngini = 0.48\\nsamples = 10\\nvalue = [4, 6]'),\n",
       " Text(1111.017857142857, 702.1500000000001, 'X[1] <= 1329.5\\ngini = 0.32\\nsamples = 5\\nvalue = [4, 1]'),\n",
       " Text(1106.0357142857142, 656.85, 'gini = 0.0\\nsamples = 1\\nvalue = [0, 1]'),\n",
       " Text(1116.0, 656.85, 'gini = 0.0\\nsamples = 4\\nvalue = [4, 0]'),\n",
       " Text(1120.9821428571427, 702.1500000000001, 'gini = 0.0\\nsamples = 5\\nvalue = [0, 5]'),\n",
       " Text(1064.2713448660713, 792.75, 'gini = 0.0\\nsamples = 4\\nvalue = [0, 4]'),\n",
       " Text(1150.875, 838.05, 'X[1] <= 156.0\\ngini = 0.323\\nsamples = 1227\\nvalue = [979, 248]'),\n",
       " Text(1140.9107142857142, 792.75, 'X[1] <= 101.5\\ngini = 0.076\\nsamples = 1012\\nvalue = [972, 40]'),\n",
       " Text(1135.9285714285713, 747.45, 'X[5] <= 240.5\\ngini = 0.048\\nsamples = 41\\nvalue = [1, 40]'),\n",
       " Text(1130.9464285714284, 702.1500000000001, 'gini = 0.0\\nsamples = 40\\nvalue = [0, 40]'),\n",
       " Text(1140.9107142857142, 702.1500000000001, 'gini = 0.0\\nsamples = 1\\nvalue = [1, 0]'),\n",
       " Text(1145.892857142857, 747.45, 'gini = 0.0\\nsamples = 971\\nvalue = [971, 0]'),\n",
       " Text(1160.8392857142856, 792.75, 'X[6] <= 210.5\\ngini = 0.063\\nsamples = 215\\nvalue = [7, 208]'),\n",
       " Text(1155.8571428571427, 747.45, 'X[4] <= 0.5\\ngini = 0.01\\nsamples = 209\\nvalue = [1, 208]'),\n",
       " Text(1150.875, 702.1500000000001, 'gini = 0.0\\nsamples = 208\\nvalue = [0, 208]'),\n",
       " Text(1160.8392857142856, 702.1500000000001, 'gini = 0.0\\nsamples = 1\\nvalue = [1, 0]'),\n",
       " Text(1165.8214285714284, 747.45, 'gini = 0.0\\nsamples = 6\\nvalue = [6, 0]'),\n",
       " Text(1210.6607142857142, 883.35, 'X[12] <= 0.5\\ngini = 0.397\\nsamples = 1471\\nvalue = [1069, 402]'),\n",
       " Text(1190.7321428571427, 838.05, 'X[10] <= 0.955\\ngini = 0.006\\nsamples = 957\\nvalue = [954, 3]'),\n",
       " Text(1180.767857142857, 792.75, 'X[6] <= 3.5\\ngini = 0.004\\nsamples = 954\\nvalue = [952, 2]'),\n",
       " Text(1175.7857142857142, 747.45, 'X[1] <= 32.5\\ngini = 0.035\\nsamples = 111\\nvalue = [109, 2]'),\n",
       " Text(1170.8035714285713, 702.1500000000001, 'gini = 0.0\\nsamples = 1\\nvalue = [0, 1]'),\n",
       " Text(1180.767857142857, 702.1500000000001, 'X[2] <= 293.0\\ngini = 0.018\\nsamples = 110\\nvalue = [109, 1]'),\n",
       " Text(1175.7857142857142, 656.85, 'X[2] <= 203.0\\ngini = 0.142\\nsamples = 13\\nvalue = [12, 1]'),\n",
       " Text(1170.8035714285713, 611.55, 'gini = 0.0\\nsamples = 12\\nvalue = [12, 0]'),\n",
       " Text(1180.767857142857, 611.55, 'gini = 0.0\\nsamples = 1\\nvalue = [0, 1]'),\n",
       " Text(1185.75, 656.85, 'gini = 0.0\\nsamples = 97\\nvalue = [97, 0]'),\n",
       " Text(1185.75, 747.45, 'gini = 0.0\\nsamples = 843\\nvalue = [843, 0]'),\n",
       " Text(1200.6964285714284, 792.75, 'X[6] <= 18.5\\ngini = 0.444\\nsamples = 3\\nvalue = [2, 1]'),\n",
       " Text(1195.7142857142856, 747.45, 'gini = 0.0\\nsamples = 1\\nvalue = [0, 1]'),\n",
       " Text(1205.6785714285713, 747.45, 'gini = 0.0\\nsamples = 2\\nvalue = [2, 0]'),\n",
       " Text(1230.5892857142856, 838.05, 'X[7] <= 0.79\\ngini = 0.347\\nsamples = 514\\nvalue = [115, 399]'),\n",
       " Text(1220.625, 792.75, 'X[6] <= 32.0\\ngini = 0.109\\nsamples = 121\\nvalue = [114, 7]'),\n",
       " Text(1215.642857142857, 747.45, 'gini = 0.0\\nsamples = 114\\nvalue = [114, 0]'),\n",
       " Text(1225.6071428571427, 747.45, 'gini = 0.0\\nsamples = 7\\nvalue = [0, 7]'),\n",
       " Text(1240.5535714285713, 792.75, 'X[7] <= 0.825\\ngini = 0.005\\nsamples = 393\\nvalue = [1, 392]'),\n",
       " Text(1235.5714285714284, 747.45, 'X[1] <= 305.0\\ngini = 0.444\\nsamples = 3\\nvalue = [1, 2]'),\n",
       " Text(1230.5892857142856, 702.1500000000001, 'gini = 0.0\\nsamples = 1\\nvalue = [1, 0]'),\n",
       " Text(1240.5535714285713, 702.1500000000001, 'gini = 0.0\\nsamples = 2\\nvalue = [0, 2]'),\n",
       " Text(1245.5357142857142, 747.45, 'gini = 0.0\\nsamples = 390\\nvalue = [0, 390]'),\n",
       " Text(1341.7533482142856, 928.6500000000001, 'X[1] <= 11454.5\\ngini = 0.498\\nsamples = 2632\\nvalue = [1237, 1395]'),\n",
       " Text(1298.470982142857, 883.35, 'X[0] <= 7.5\\ngini = 0.367\\nsamples = 1630\\nvalue = [1235, 395]'),\n",
       " Text(1270.4464285714284, 838.05, 'X[6] <= 140.0\\ngini = 0.5\\nsamples = 642\\nvalue = [312, 330]'),\n",
       " Text(1260.4821428571427, 792.75, 'X[3] <= 26.0\\ngini = 0.179\\nsamples = 363\\nvalue = [36, 327]'),\n",
       " Text(1255.5, 747.45, 'X[10] <= 0.345\\ngini = 0.48\\nsamples = 90\\nvalue = [36, 54]'),\n",
       " Text(1250.517857142857, 702.1500000000001, 'X[0] <= 6.5\\ngini = 0.18\\nsamples = 40\\nvalue = [36, 4]'),\n",
       " Text(1245.5357142857142, 656.85, 'X[7] <= 0.115\\ngini = 0.1\\nsamples = 38\\nvalue = [36, 2]'),\n",
       " Text(1240.5535714285713, 611.55, 'X[6] <= 21.5\\ngini = 0.375\\nsamples = 8\\nvalue = [6, 2]'),\n",
       " Text(1235.5714285714284, 566.25, 'X[10] <= 0.015\\ngini = 0.245\\nsamples = 7\\nvalue = [6, 1]'),\n",
       " Text(1230.5892857142856, 520.95, 'gini = 0.0\\nsamples = 6\\nvalue = [6, 0]'),\n",
       " Text(1240.5535714285713, 520.95, 'gini = 0.0\\nsamples = 1\\nvalue = [0, 1]'),\n",
       " Text(1245.5357142857142, 566.25, 'gini = 0.0\\nsamples = 1\\nvalue = [0, 1]'),\n",
       " Text(1250.517857142857, 611.55, 'gini = 0.0\\nsamples = 30\\nvalue = [30, 0]'),\n",
       " Text(1255.5, 656.85, 'gini = 0.0\\nsamples = 2\\nvalue = [0, 2]'),\n",
       " Text(1260.4821428571427, 702.1500000000001, 'gini = 0.0\\nsamples = 50\\nvalue = [0, 50]'),\n",
       " Text(1265.4642857142856, 747.45, 'gini = 0.0\\nsamples = 273\\nvalue = [0, 273]'),\n",
       " Text(1280.4107142857142, 792.75, 'X[1] <= 96.0\\ngini = 0.021\\nsamples = 279\\nvalue = [276, 3]'),\n",
       " Text(1275.4285714285713, 747.45, 'gini = 0.0\\nsamples = 3\\nvalue = [0, 3]'),\n",
       " Text(1285.392857142857, 747.45, 'gini = 0.0\\nsamples = 276\\nvalue = [276, 0]'),\n",
       " Text(1326.4955357142856, 838.05, 'X[0] <= 44.5\\ngini = 0.123\\nsamples = 988\\nvalue = [923, 65]'),\n",
       " Text(1305.3214285714284, 792.75, 'X[1] <= 148.0\\ngini = 0.014\\nsamples = 854\\nvalue = [848, 6]'),\n",
       " Text(1295.3571428571427, 747.45, 'X[2] <= 181.5\\ngini = 0.32\\nsamples = 5\\nvalue = [1, 4]'),\n",
       " Text(1290.375, 702.1500000000001, 'gini = 0.0\\nsamples = 1\\nvalue = [1, 0]'),\n",
       " Text(1300.3392857142856, 702.1500000000001, 'gini = 0.0\\nsamples = 4\\nvalue = [0, 4]'),\n",
       " Text(1315.2857142857142, 747.45, 'X[1] <= 1981.0\\ngini = 0.005\\nsamples = 849\\nvalue = [847, 2]'),\n",
       " Text(1310.3035714285713, 702.1500000000001, 'gini = 0.0\\nsamples = 847\\nvalue = [847, 0]'),\n",
       " Text(1320.267857142857, 702.1500000000001, 'gini = 0.0\\nsamples = 2\\nvalue = [0, 2]'),\n",
       " Text(1347.6696428571427, 792.75, 'X[2] <= 3019.0\\ngini = 0.493\\nsamples = 134\\nvalue = [75, 59]'),\n",
       " Text(1335.2142857142856, 747.45, 'X[0] <= 3061.0\\ngini = 0.387\\nsamples = 61\\nvalue = [16, 45]'),\n",
       " Text(1330.2321428571427, 702.1500000000001, 'X[1] <= 944.0\\ngini = 0.495\\nsamples = 29\\nvalue = [16, 13]'),\n",
       " Text(1325.25, 656.85, 'X[2] <= 559.0\\ngini = 0.363\\nsamples = 21\\nvalue = [16, 5]'),\n",
       " Text(1320.267857142857, 611.55, 'gini = 0.0\\nsamples = 4\\nvalue = [0, 4]'),\n",
       " Text(1330.2321428571427, 611.55, 'X[8] <= 0.15\\ngini = 0.111\\nsamples = 17\\nvalue = [16, 1]'),\n",
       " Text(1325.25, 566.25, 'gini = 0.0\\nsamples = 16\\nvalue = [16, 0]'),\n",
       " Text(1335.2142857142856, 566.25, 'gini = 0.0\\nsamples = 1\\nvalue = [0, 1]'),\n",
       " Text(1335.2142857142856, 656.85, 'gini = 0.0\\nsamples = 8\\nvalue = [0, 8]'),\n",
       " Text(1340.1964285714284, 702.1500000000001, 'gini = 0.0\\nsamples = 32\\nvalue = [0, 32]'),\n",
       " Text(1360.125, 747.45, 'X[7] <= 0.835\\ngini = 0.31\\nsamples = 73\\nvalue = [59, 14]'),\n",
       " Text(1350.1607142857142, 702.1500000000001, 'X[7] <= 0.03\\ngini = 0.036\\nsamples = 55\\nvalue = [54, 1]'),\n",
       " Text(1345.1785714285713, 656.85, 'X[6] <= 3.5\\ngini = 0.245\\nsamples = 7\\nvalue = [6, 1]'),\n",
       " Text(1340.1964285714284, 611.55, 'gini = 0.0\\nsamples = 6\\nvalue = [6, 0]'),\n",
       " Text(1350.1607142857142, 611.55, 'gini = 0.0\\nsamples = 1\\nvalue = [0, 1]'),\n",
       " Text(1355.142857142857, 656.85, 'gini = 0.0\\nsamples = 48\\nvalue = [48, 0]'),\n",
       " Text(1370.0892857142856, 702.1500000000001, 'X[3] <= 2.5\\ngini = 0.401\\nsamples = 18\\nvalue = [5, 13]'),\n",
       " Text(1365.1071428571427, 656.85, 'X[6] <= 2.0\\ngini = 0.408\\nsamples = 7\\nvalue = [5, 2]'),\n",
       " Text(1360.125, 611.55, 'X[0] <= 366.5\\ngini = 0.444\\nsamples = 3\\nvalue = [1, 2]'),\n",
       " Text(1355.142857142857, 566.25, 'gini = 0.0\\nsamples = 2\\nvalue = [0, 2]'),\n",
       " Text(1365.1071428571427, 566.25, 'gini = 0.0\\nsamples = 1\\nvalue = [1, 0]'),\n",
       " Text(1370.0892857142856, 611.55, 'gini = 0.0\\nsamples = 4\\nvalue = [4, 0]'),\n",
       " Text(1375.0714285714284, 656.85, 'gini = 0.0\\nsamples = 11\\nvalue = [0, 11]'),\n",
       " Text(1385.0357142857142, 883.35, 'X[2] <= 10645.5\\ngini = 0.004\\nsamples = 1002\\nvalue = [2, 1000]'),\n",
       " Text(1380.0535714285713, 838.05, 'X[7] <= 0.97\\ngini = 0.002\\nsamples = 1001\\nvalue = [1, 1000]'),\n",
       " Text(1375.0714285714284, 792.75, 'X[1] <= 2592982.0\\ngini = 0.165\\nsamples = 11\\nvalue = [1, 10]'),\n",
       " Text(1370.0892857142856, 747.45, 'gini = 0.0\\nsamples = 1\\nvalue = [1, 0]'),\n",
       " Text(1380.0535714285713, 747.45, 'gini = 0.0\\nsamples = 10\\nvalue = [0, 10]'),\n",
       " Text(1385.0357142857142, 792.75, 'gini = 0.0\\nsamples = 990\\nvalue = [0, 990]'),\n",
       " Text(1390.017857142857, 838.05, 'gini = 0.0\\nsamples = 1\\nvalue = [1, 0]'),\n",
       " Text(1356.6997767857142, 973.95, 'X[1] <= 292.0\\ngini = 0.117\\nsamples = 3033\\nvalue = [189, 2844]'),\n",
       " Text(1351.7176339285713, 928.6500000000001, 'gini = 0.0\\nsamples = 189\\nvalue = [189, 0]'),\n",
       " Text(1361.681919642857, 928.6500000000001, 'gini = 0.0\\nsamples = 2844\\nvalue = [0, 2844]')]"
      ]
     },
     "execution_count": 35,
     "metadata": {},
     "output_type": "execute_result"
    },
    {
     "data": {
      "image/png": "[encoded data removed]",
      "text/plain": [
       "<Figure size 1800x1440 with 1 Axes>"
      ]
     },
     "metadata": {
      "needs_background": "light"
     },
     "output_type": "display_data"
    }
   ],
   "source": [
    "from sklearn import tree\n",
    "#clf=clf_rfe.fit(X_rfe, Y_binary)\n",
    "fig = plt.figure(figsize=(25,20))\n",
    "tree.plot_tree(clf)"
   ]
  },
  {
   "cell_type": "code",
   "execution_count": 36,
   "id": "9435d65b",
   "metadata": {},
   "outputs": [],
   "source": [
    "# reduce test dataset to 15 features, use only features described in rfecolname.\n",
    "from sklearn.metrics import classification_report, confusion_matrix, accuracy_score\n",
    "X_test=X_binary_test.iloc[:,rfecolindex]"
   ]
  },
  {
   "cell_type": "code",
   "execution_count": 37,
   "id": "e188628b",
   "metadata": {},
   "outputs": [
    {
     "name": "stdout",
     "output_type": "stream",
     "text": [
      "Accuracy: 0.7869943222143364\n"
     ]
    }
   ],
   "source": [
    "Y_pred=clf_rfe.predict(X_test)\n",
    "# accuracy\n",
    "print(\"Accuracy:\", accuracy_score(Y_binary_test,Y_pred))"
   ]
  },
  {
   "cell_type": "code",
   "execution_count": 38,
   "id": "762eddb2",
   "metadata": {},
   "outputs": [
    {
     "name": "stdout",
     "output_type": "stream",
     "text": [
      "Confusion Matrix: \n",
      "\n",
      "[[9352  359]\n",
      " [4443 8390]]\n"
     ]
    }
   ],
   "source": [
    "cnf_matrix = confusion_matrix(Y_binary_test, Y_pred)\n",
    "print(\"Confusion Matrix: \\n\")\n",
    "print(cnf_matrix)"
   ]
  },
  {
   "cell_type": "code",
   "execution_count": 39,
   "id": "0984ede9",
   "metadata": {},
   "outputs": [
    {
     "data": {
      "text/plain": [
       "Text(0.5, 15.0, 'Predicted label')"
      ]
     },
     "execution_count": 39,
     "metadata": {},
     "output_type": "execute_result"
    },
    {
     "data": {
      "image/png": "[encoded data removed]",
      "text/plain": [
       "<Figure size 432x288 with 2 Axes>"
      ]
     },
     "metadata": {
      "needs_background": "light"
     },
     "output_type": "display_data"
    }
   ],
   "source": [
    "p = sns.heatmap(pd.DataFrame(cnf_matrix), annot=True, cmap=\"YlGnBu\" ,fmt='g')\n",
    "plt.title('Confusion matrix', y=1.1)\n",
    "plt.ylabel('Actual label')\n",
    "plt.xlabel('Predicted label')"
   ]
  },
  {
   "cell_type": "code",
   "execution_count": 40,
   "id": "3ae4981d",
   "metadata": {},
   "outputs": [
    {
     "name": "stdout",
     "output_type": "stream",
     "text": [
      "Accuracy:  0.7869943222143364\n",
      "Precision:  0.9589667390558921\n",
      "Recall:  0.6537832151484454\n",
      "F1-Score:  0.7774997683254564\n"
     ]
    }
   ],
   "source": [
    "from sklearn import metrics\n",
    "accuracy = metrics.accuracy_score(Y_binary_test, Y_pred)\n",
    "print(\"Accuracy: \" ,accuracy)\n",
    "precision = metrics.precision_score(Y_binary_test, Y_pred)\n",
    "print(\"Precision: \",precision)\n",
    "recall = metrics.recall_score(Y_binary_test, Y_pred)\n",
    "print(\"Recall: \",recall)\n",
    "f1 = metrics.f1_score(Y_binary_test, Y_pred)\n",
    "print(\"F1-Score: \",f1)"
   ]
  },
  {
   "cell_type": "code",
   "execution_count": 41,
   "id": "471fab49",
   "metadata": {},
   "outputs": [
    {
     "name": "stdout",
     "output_type": "stream",
     "text": [
      "\n",
      "Classification Report:\n",
      "              precision    recall  f1-score   support\n",
      "\n",
      "           0       0.68      0.96      0.80      9711\n",
      "           1       0.96      0.65      0.78     12833\n",
      "\n",
      "    accuracy                           0.79     22544\n",
      "   macro avg       0.82      0.81      0.79     22544\n",
      "weighted avg       0.84      0.79      0.79     22544\n",
      "\n"
     ]
    }
   ],
   "source": [
    "print(\"\\nClassification Report:\")\n",
    "print(classification_report(Y_binary_test, Y_pred))"
   ]
  },
  {
   "cell_type": "markdown",
   "id": "bf95c38f",
   "metadata": {},
   "source": [
    "# Mutli Class Classification:"
   ]
  },
  {
   "cell_type": "markdown",
   "id": "9b1455e9",
   "metadata": {},
   "source": [
    "## Split Dataset into 4 datasets for every attack category"
   ]
  },
  {
   "cell_type": "code",
   "execution_count": 50,
   "id": "6c7acdc5",
   "metadata": {},
   "outputs": [
    {
     "name": "stdout",
     "output_type": "stream",
     "text": [
      "Train:\n",
      "Dimensions of DoS: (113279, 123)\n",
      "Dimensions of Probe: (79008, 123)\n",
      "Dimensions of R2L: (68347, 123)\n",
      "Dimensions of U2R: (67395, 123)\n",
      "Test:\n",
      "Dimensions of DoS: (17315, 123)\n",
      "Dimensions of Probe: (12276, 123)\n",
      "Dimensions of R2L: (12598, 123)\n",
      "Dimensions of U2R: (9920, 123)\n"
     ]
    }
   ],
   "source": [
    "to_drop_DoS = [2,3,4]\n",
    "to_drop_Probe = [1,3,4]\n",
    "to_drop_R2L = [1,2,4]\n",
    "to_drop_U2R = [1,2,3]\n",
    "DoS_df=newdf[~newdf['attack_map'].isin(to_drop_DoS)];\n",
    "Probe_df=newdf[~newdf['attack_map'].isin(to_drop_Probe)];\n",
    "R2L_df=newdf[~newdf['attack_map'].isin(to_drop_R2L)];\n",
    "U2R_df=newdf[~newdf['attack_map'].isin(to_drop_U2R)];\n",
    "\n",
    "#test\n",
    "DoS_df_test=newdf_test[~newdf_test['attack_map'].isin(to_drop_DoS)];\n",
    "Probe_df_test=newdf_test[~newdf_test['attack_map'].isin(to_drop_Probe)];\n",
    "R2L_df_test=newdf_test[~newdf_test['attack_map'].isin(to_drop_R2L)];\n",
    "U2R_df_test=newdf_test[~newdf_test['attack_map'].isin(to_drop_U2R)];\n",
    "print('Train:')\n",
    "print('Dimensions of DoS:' ,DoS_df.shape)\n",
    "print('Dimensions of Probe:' ,Probe_df.shape)\n",
    "print('Dimensions of R2L:' ,R2L_df.shape)\n",
    "print('Dimensions of U2R:' ,U2R_df.shape)\n",
    "print('Test:')\n",
    "print('Dimensions of DoS:' ,DoS_df_test.shape)\n",
    "print('Dimensions of Probe:' ,Probe_df_test.shape)\n",
    "print('Dimensions of R2L:' ,R2L_df_test.shape)\n",
    "print('Dimensions of U2R:' ,U2R_df_test.shape)"
   ]
  },
  {
   "cell_type": "code",
   "execution_count": 51,
   "id": "30f72f10",
   "metadata": {},
   "outputs": [],
   "source": [
    "# Split dataframes into X & Y\n",
    "# assign X as a dataframe of feautures and Y as a series of outcome variables\n",
    "X_DoS = DoS_df.drop('attack_map',1)\n",
    "Y_DoS = DoS_df.attack_map\n",
    "X_Probe = Probe_df.drop('attack_map',1)\n",
    "Y_Probe = Probe_df.attack_map\n",
    "X_R2L = R2L_df.drop('attack_map',1)\n",
    "Y_R2L = R2L_df.attack_map\n",
    "X_U2R = U2R_df.drop('attack_map',1)\n",
    "Y_U2R = U2R_df.attack_map\n",
    "# test set\n",
    "X_DoS_test = DoS_df_test.drop('attack_map',1)\n",
    "Y_DoS_test = DoS_df_test.attack_map\n",
    "X_Probe_test = Probe_df_test.drop('attack_map',1)\n",
    "Y_Probe_test = Probe_df_test.attack_map\n",
    "X_R2L_test = R2L_df_test.drop('attack_map',1)\n",
    "Y_R2L_test = R2L_df_test.attack_map\n",
    "X_U2R_test = U2R_df_test.drop('attack_map',1)\n",
    "Y_U2R_test = U2R_df_test.attack_map"
   ]
  },
  {
   "cell_type": "code",
   "execution_count": 52,
   "id": "4265364a",
   "metadata": {},
   "outputs": [],
   "source": [
    "colNames=list(X_DoS)\n",
    "colNames_test=list(X_DoS_test)"
   ]
  },
  {
   "cell_type": "markdown",
   "id": "a87892be",
   "metadata": {},
   "source": [
    "## Feature Selection:"
   ]
  },
  {
   "cell_type": "code",
   "execution_count": 53,
   "id": "a724cf6a",
   "metadata": {},
   "outputs": [],
   "source": [
    "from sklearn.feature_selection import RFE\n",
    "from sklearn.tree import DecisionTreeClassifier\n",
    "clf = DecisionTreeClassifier(random_state=0)\n",
    "rfe = RFE(estimator=clf, n_features_to_select=15, step=1)\n",
    "\n",
    "rfe.fit(X_DoS, Y_DoS)\n",
    "X_rfeDoS=rfe.transform(X_DoS)\n",
    "true=rfe.support_\n",
    "rfecolindex_DoS=[i for i, x in enumerate(true) if x]\n",
    "rfecolname_DoS=list(colNames[i] for i in rfecolindex_DoS)"
   ]
  },
  {
   "cell_type": "code",
   "execution_count": 54,
   "id": "4785f6d9",
   "metadata": {},
   "outputs": [],
   "source": [
    "rfe.fit(X_Probe, Y_Probe)\n",
    "X_rfeProbe=rfe.transform(X_Probe)\n",
    "true=rfe.support_\n",
    "rfecolindex_Probe=[i for i, x in enumerate(true) if x]\n",
    "rfecolname_Probe=list(colNames[i] for i in rfecolindex_Probe)"
   ]
  },
  {
   "cell_type": "code",
   "execution_count": 55,
   "id": "b6e975f7",
   "metadata": {},
   "outputs": [],
   "source": [
    "rfe.fit(X_R2L, Y_R2L)\n",
    "X_rfeR2L=rfe.transform(X_R2L)\n",
    "true=rfe.support_\n",
    "rfecolindex_R2L=[i for i, x in enumerate(true) if x]\n",
    "rfecolname_R2L=list(colNames[i] for i in rfecolindex_R2L)"
   ]
  },
  {
   "cell_type": "code",
   "execution_count": 56,
   "id": "32f02f29",
   "metadata": {},
   "outputs": [],
   "source": [
    "rfe.fit(X_U2R, Y_U2R)\n",
    "X_rfeU2R=rfe.transform(X_U2R)\n",
    "true=rfe.support_\n",
    "rfecolindex_U2R=[i for i, x in enumerate(true) if x]\n",
    "rfecolname_U2R=list(colNames[i] for i in rfecolindex_U2R)"
   ]
  },
  {
   "cell_type": "code",
   "execution_count": 57,
   "id": "248265b3",
   "metadata": {},
   "outputs": [
    {
     "name": "stdout",
     "output_type": "stream",
     "text": [
      "Features selected for DoS: ['src_bytes', 'dst_bytes', 'wrong_fragment', 'logged_in', 'num_compromised', 'same_srv_rate', 'diff_srv_rate', 'dst_host_count', 'dst_host_srv_count', 'dst_host_same_srv_rate', 'dst_host_serror_rate', 'dst_host_srv_serror_rate', 'service_ecr_i', 'flag_RSTR', 'flag_S0']\n",
      "\n",
      "Features selected for Probe: ['src_bytes', 'dst_bytes', 'count', 'rerror_rate', 'dst_host_count', 'dst_host_same_srv_rate', 'dst_host_diff_srv_rate', 'dst_host_same_src_port_rate', 'dst_host_rerror_rate', 'service_finger', 'service_ftp_data', 'service_http', 'service_private', 'service_smtp', 'service_telnet']\n",
      "\n",
      "Features selected for R2L: ['duration', 'src_bytes', 'dst_bytes', 'hot', 'num_failed_logins', 'logged_in', 'num_root', 'num_access_files', 'dst_host_count', 'dst_host_srv_count', 'dst_host_same_srv_rate', 'dst_host_same_src_port_rate', 'dst_host_srv_diff_host_rate', 'service_ftp_data', 'service_imap4']\n",
      "\n",
      "Features selected for U2R: ['src_bytes', 'dst_bytes', 'hot', 'num_failed_logins', 'num_compromised', 'root_shell', 'num_file_creations', 'num_shells', 'srv_count', 'dst_host_count', 'dst_host_same_srv_rate', 'dst_host_srv_diff_host_rate', 'Protocol_type_udp', 'service_ftp_data', 'service_other']\n"
     ]
    }
   ],
   "source": [
    "print('Features selected for DoS:',rfecolname_DoS)\n",
    "print()\n",
    "print('Features selected for Probe:',rfecolname_Probe)\n",
    "print()\n",
    "print('Features selected for R2L:',rfecolname_R2L)\n",
    "print()\n",
    "print('Features selected for U2R:',rfecolname_U2R)"
   ]
  },
  {
   "cell_type": "code",
   "execution_count": 58,
   "id": "9e0a1f94",
   "metadata": {},
   "outputs": [
    {
     "name": "stdout",
     "output_type": "stream",
     "text": [
      "(113279, 15)\n",
      "(79008, 15)\n",
      "(68347, 15)\n",
      "(67395, 15)\n"
     ]
    }
   ],
   "source": [
    "print(X_rfeDoS.shape)\n",
    "print(X_rfeProbe.shape)\n",
    "print(X_rfeR2L.shape)\n",
    "print(X_rfeU2R.shape)"
   ]
  },
  {
   "cell_type": "markdown",
   "id": "76bcd905",
   "metadata": {},
   "source": [
    "# Build the model:"
   ]
  },
  {
   "cell_type": "code",
   "execution_count": 59,
   "id": "71682c2f",
   "metadata": {},
   "outputs": [
    {
     "data": {
      "text/plain": [
       "DecisionTreeClassifier(random_state=0)"
      ]
     },
     "execution_count": 59,
     "metadata": {},
     "output_type": "execute_result"
    }
   ],
   "source": [
    "# selected features\n",
    "clf_rfeDoS=DecisionTreeClassifier(random_state=0)\n",
    "clf_rfeProbe=DecisionTreeClassifier(random_state=0)\n",
    "clf_rfeR2L=DecisionTreeClassifier(random_state=0)\n",
    "clf_rfeU2R=DecisionTreeClassifier(random_state=0)\n",
    "clf_rfeDoS.fit(X_rfeDoS, Y_DoS)\n",
    "clf_rfeProbe.fit(X_rfeProbe, Y_Probe)\n",
    "clf_rfeR2L.fit(X_rfeR2L, Y_R2L)\n",
    "clf_rfeU2R.fit(X_rfeU2R, Y_U2R)"
   ]
  },
  {
   "cell_type": "markdown",
   "id": "900b83c2",
   "metadata": {},
   "source": [
    "# Prediction & Evaluation (validation):"
   ]
  },
  {
   "cell_type": "markdown",
   "id": "089ba343",
   "metadata": {},
   "source": [
    "### Using 15 Features for each category"
   ]
  },
  {
   "cell_type": "code",
   "execution_count": 60,
   "id": "33703e2e",
   "metadata": {},
   "outputs": [],
   "source": [
    "# reduce test dataset to 15 features, use only features described in rfecolname_DoS etc.\n",
    "from sklearn.metrics import classification_report, confusion_matrix, accuracy_score\n",
    "X_DoS_test2=X_DoS_test.iloc[:,rfecolindex_DoS]\n",
    "X_Probe_test2=X_Probe_test.iloc[:,rfecolindex_Probe]\n",
    "X_R2L_test2=X_R2L_test.iloc[:,rfecolindex_R2L]\n",
    "X_U2R_test2=X_U2R_test.iloc[:,rfecolindex_U2R]"
   ]
  },
  {
   "cell_type": "markdown",
   "id": "a9213e96",
   "metadata": {},
   "source": [
    "# DoS"
   ]
  },
  {
   "cell_type": "code",
   "execution_count": 61,
   "id": "e192bb11",
   "metadata": {},
   "outputs": [
    {
     "name": "stdout",
     "output_type": "stream",
     "text": [
      "Accuracy: 0.8681490037539705\n"
     ]
    }
   ],
   "source": [
    "Y_DoS_pred2=clf_rfeDoS.predict(X_DoS_test2)\n",
    "# accuracy\n",
    "print(\"Accuracy:\", accuracy_score(Y_DoS_test,Y_DoS_pred2))"
   ]
  },
  {
   "cell_type": "code",
   "execution_count": 62,
   "id": "1470c4a4",
   "metadata": {},
   "outputs": [
    {
     "name": "stdout",
     "output_type": "stream",
     "text": [
      "Confusion Matrix: \n",
      "\n",
      "[[9607  248]\n",
      " [2035 5425]]\n"
     ]
    }
   ],
   "source": [
    "cnf_matrix = confusion_matrix(Y_DoS_test, Y_DoS_pred2)\n",
    "print(\"Confusion Matrix: \\n\")\n",
    "print(cnf_matrix)"
   ]
  },
  {
   "cell_type": "code",
   "execution_count": 63,
   "id": "efd2e53e",
   "metadata": {
    "scrolled": true
   },
   "outputs": [
    {
     "data": {
      "text/plain": [
       "Text(0.5, 15.0, 'Predicted label')"
      ]
     },
     "execution_count": 63,
     "metadata": {},
     "output_type": "execute_result"
    },
    {
     "data": {
      "image/png": "[encoded data removed]",
      "text/plain": [
       "<Figure size 432x288 with 2 Axes>"
      ]
     },
     "metadata": {
      "needs_background": "light"
     },
     "output_type": "display_data"
    }
   ],
   "source": [
    "p = sns.heatmap(pd.DataFrame(cnf_matrix), annot=True, cmap=\"YlGnBu\" ,fmt='g')\n",
    "plt.title('Confusion matrix', y=1.1)\n",
    "plt.ylabel('Actual label')\n",
    "plt.xlabel('Predicted label')"
   ]
  },
  {
   "cell_type": "code",
   "execution_count": 64,
   "id": "ba00d67d",
   "metadata": {},
   "outputs": [
    {
     "name": "stdout",
     "output_type": "stream",
     "text": [
      "Accuracy:  0.8681490037539705\n",
      "Precision:  0.9562841530054644\n",
      "Recall:  0.7272117962466488\n",
      "F1-Score:  0.8261631005863094\n"
     ]
    }
   ],
   "source": [
    "from sklearn import metrics\n",
    "accuracy_dos = metrics.accuracy_score(Y_DoS_test,Y_DoS_pred2)\n",
    "print(\"Accuracy: \" ,accuracy_dos)\n",
    "precision_dos = metrics.precision_score(Y_DoS_test,Y_DoS_pred2)\n",
    "print(\"Precision: \",precision_dos)\n",
    "recall_dos = metrics.recall_score(Y_DoS_test,Y_DoS_pred2)\n",
    "print(\"Recall: \",recall_dos)\n",
    "f1_dos = metrics.f1_score(Y_DoS_test,Y_DoS_pred2)\n",
    "print(\"F1-Score: \",f1_dos)"
   ]
  },
  {
   "cell_type": "code",
   "execution_count": 65,
   "id": "3cebb5ea",
   "metadata": {},
   "outputs": [
    {
     "name": "stdout",
     "output_type": "stream",
     "text": [
      "\n",
      "Classification Report:\n",
      "              precision    recall  f1-score   support\n",
      "\n",
      "           0       0.83      0.97      0.89      9855\n",
      "           1       0.96      0.73      0.83      7460\n",
      "\n",
      "    accuracy                           0.87     17315\n",
      "   macro avg       0.89      0.85      0.86     17315\n",
      "weighted avg       0.88      0.87      0.86     17315\n",
      "\n"
     ]
    }
   ],
   "source": [
    "print(\"\\nClassification Report:\")\n",
    "print(classification_report(Y_DoS_test, Y_DoS_pred2))"
   ]
  },
  {
   "cell_type": "markdown",
   "id": "5fb316cd",
   "metadata": {},
   "source": [
    "# Probe"
   ]
  },
  {
   "cell_type": "code",
   "execution_count": 66,
   "id": "4fcbff50",
   "metadata": {},
   "outputs": [
    {
     "name": "stdout",
     "output_type": "stream",
     "text": [
      "Accuracy: 0.8755294884327143\n"
     ]
    }
   ],
   "source": [
    "Y_Probe_pred2=clf_rfeProbe.predict(X_Probe_test2)\n",
    "# accuracy\n",
    "print(\"Accuracy:\", accuracy_score(Y_Probe_test,Y_Probe_pred2))"
   ]
  },
  {
   "cell_type": "code",
   "execution_count": 67,
   "id": "aaf69207",
   "metadata": {},
   "outputs": [
    {
     "name": "stdout",
     "output_type": "stream",
     "text": [
      "Confusion Matrix: \n",
      "\n",
      "[[9216  639]\n",
      " [ 889 1532]]\n"
     ]
    }
   ],
   "source": [
    "cnf_matrix = confusion_matrix(Y_Probe_test, Y_Probe_pred2)\n",
    "print(\"Confusion Matrix: \\n\")\n",
    "print(cnf_matrix)"
   ]
  },
  {
   "cell_type": "code",
   "execution_count": 68,
   "id": "1f5f8137",
   "metadata": {},
   "outputs": [
    {
     "data": {
      "text/plain": [
       "Text(0.5, 15.0, 'Predicted label')"
      ]
     },
     "execution_count": 68,
     "metadata": {},
     "output_type": "execute_result"
    },
    {
     "data": {
      "image/png": "[encoded data removed]",
      "text/plain": [
       "<Figure size 432x288 with 2 Axes>"
      ]
     },
     "metadata": {
      "needs_background": "light"
     },
     "output_type": "display_data"
    }
   ],
   "source": [
    "p = sns.heatmap(pd.DataFrame(cnf_matrix), annot=True, cmap=\"YlGnBu\" ,fmt='g')\n",
    "plt.title('Confusion matrix', y=1.1)\n",
    "plt.ylabel('Actual label')\n",
    "plt.xlabel('Predicted label')"
   ]
  },
  {
   "cell_type": "code",
   "execution_count": 69,
   "id": "f50e7fc8",
   "metadata": {},
   "outputs": [
    {
     "name": "stdout",
     "output_type": "stream",
     "text": [
      "Accuracy:  0.8755294884327143\n",
      "Precision:  0.7056655918931368\n",
      "Recall:  0.6327963651383726\n",
      "F1-Score:  0.667247386759582\n"
     ]
    }
   ],
   "source": [
    "accuracy_probe = metrics.accuracy_score(Y_Probe_test,Y_Probe_pred2)\n",
    "print(\"Accuracy: \" ,accuracy_probe)\n",
    "precision_probe = metrics.precision_score(Y_Probe_test,Y_Probe_pred2,pos_label=2)\n",
    "print(\"Precision: \",precision_probe)\n",
    "recall_probe = metrics.recall_score(Y_Probe_test,Y_Probe_pred2,pos_label=2)\n",
    "print(\"Recall: \",recall_probe)\n",
    "f1_probe = metrics.f1_score(Y_Probe_test,Y_Probe_pred2,pos_label=2)\n",
    "print(\"F1-Score: \",f1_probe)"
   ]
  },
  {
   "cell_type": "code",
   "execution_count": 70,
   "id": "78e867d6",
   "metadata": {},
   "outputs": [
    {
     "name": "stdout",
     "output_type": "stream",
     "text": [
      "\n",
      "Classification Report:\n",
      "              precision    recall  f1-score   support\n",
      "\n",
      "           0       0.91      0.94      0.92      9855\n",
      "           2       0.71      0.63      0.67      2421\n",
      "\n",
      "    accuracy                           0.88     12276\n",
      "   macro avg       0.81      0.78      0.80     12276\n",
      "weighted avg       0.87      0.88      0.87     12276\n",
      "\n"
     ]
    }
   ],
   "source": [
    "print(\"\\nClassification Report:\")\n",
    "print(classification_report(Y_Probe_test, Y_Probe_pred2))"
   ]
  },
  {
   "cell_type": "markdown",
   "id": "b82f90a7",
   "metadata": {},
   "source": [
    "# R2L"
   ]
  },
  {
   "cell_type": "code",
   "execution_count": 71,
   "id": "702e1b53",
   "metadata": {},
   "outputs": [
    {
     "name": "stdout",
     "output_type": "stream",
     "text": [
      "Accuracy: 0.7971106524845214\n"
     ]
    }
   ],
   "source": [
    "Y_R2L_pred2=clf_rfeR2L.predict(X_R2L_test2)\n",
    "# accuracy\n",
    "print(\"Accuracy:\", accuracy_score(Y_R2L_test,Y_R2L_pred2))"
   ]
  },
  {
   "cell_type": "code",
   "execution_count": 72,
   "id": "53961159",
   "metadata": {},
   "outputs": [
    {
     "name": "stdout",
     "output_type": "stream",
     "text": [
      "Confusion Matrix: \n",
      "\n",
      "[[9853    2]\n",
      " [2554  189]]\n"
     ]
    }
   ],
   "source": [
    "cnf_matrix = confusion_matrix(Y_R2L_test, Y_R2L_pred2)\n",
    "print(\"Confusion Matrix: \\n\")\n",
    "print(cnf_matrix)"
   ]
  },
  {
   "cell_type": "code",
   "execution_count": 73,
   "id": "62b0df15",
   "metadata": {
    "scrolled": true
   },
   "outputs": [
    {
     "data": {
      "text/plain": [
       "Text(0.5, 15.0, 'Predicted label')"
      ]
     },
     "execution_count": 73,
     "metadata": {},
     "output_type": "execute_result"
    },
    {
     "data": {
      "image/png": "[encoded data removed]",
      "text/plain": [
       "<Figure size 432x288 with 2 Axes>"
      ]
     },
     "metadata": {
      "needs_background": "light"
     },
     "output_type": "display_data"
    }
   ],
   "source": [
    "p = sns.heatmap(pd.DataFrame(cnf_matrix), annot=True, cmap=\"YlGnBu\" ,fmt='g')\n",
    "plt.title('Confusion matrix', y=1.1)\n",
    "plt.ylabel('Actual label')\n",
    "plt.xlabel('Predicted label')"
   ]
  },
  {
   "cell_type": "code",
   "execution_count": 74,
   "id": "bba76c46",
   "metadata": {},
   "outputs": [
    {
     "name": "stdout",
     "output_type": "stream",
     "text": [
      "Accuracy:  0.7971106524845214\n",
      "Precision:  0.9895287958115183\n",
      "Recall:  0.06890266131972293\n",
      "F1-Score:  0.12883435582822086\n"
     ]
    }
   ],
   "source": [
    "accuracy_r2l = metrics.accuracy_score(Y_R2L_test,Y_R2L_pred2)\n",
    "print(\"Accuracy: \" ,accuracy_r2l)\n",
    "precision_r2l = metrics.precision_score(Y_R2L_test,Y_R2L_pred2,pos_label=3)\n",
    "print(\"Precision: \",precision_r2l)\n",
    "recall_r2l = metrics.recall_score(Y_R2L_test,Y_R2L_pred2,pos_label=3)\n",
    "print(\"Recall: \",recall_r2l)\n",
    "f1_r2l = metrics.f1_score(Y_R2L_test,Y_R2L_pred2,pos_label=3)\n",
    "print(\"F1-Score: \",f1_r2l)"
   ]
  },
  {
   "cell_type": "code",
   "execution_count": 75,
   "id": "1296748e",
   "metadata": {},
   "outputs": [
    {
     "name": "stdout",
     "output_type": "stream",
     "text": [
      "\n",
      "Classification Report:\n",
      "              precision    recall  f1-score   support\n",
      "\n",
      "           0       0.79      1.00      0.89      9855\n",
      "           3       0.99      0.07      0.13      2743\n",
      "\n",
      "    accuracy                           0.80     12598\n",
      "   macro avg       0.89      0.53      0.51     12598\n",
      "weighted avg       0.84      0.80      0.72     12598\n",
      "\n"
     ]
    }
   ],
   "source": [
    "print(\"\\nClassification Report:\")\n",
    "print(classification_report(Y_R2L_test, Y_R2L_pred2))"
   ]
  },
  {
   "cell_type": "markdown",
   "id": "13780d71",
   "metadata": {},
   "source": [
    "# U2R"
   ]
  },
  {
   "cell_type": "code",
   "execution_count": 76,
   "id": "d91c3fa9",
   "metadata": {},
   "outputs": [
    {
     "name": "stdout",
     "output_type": "stream",
     "text": [
      "Accuracy: 0.9943548387096774\n"
     ]
    }
   ],
   "source": [
    "Y_U2R_pred2=clf_rfeU2R.predict(X_U2R_test2)\n",
    "# accuracy\n",
    "print(\"Accuracy:\", accuracy_score(Y_U2R_test,Y_U2R_pred2))"
   ]
  },
  {
   "cell_type": "code",
   "execution_count": 77,
   "id": "1fcab302",
   "metadata": {},
   "outputs": [
    {
     "name": "stdout",
     "output_type": "stream",
     "text": [
      "Confusion Matrix: \n",
      "\n",
      "[[9851    4]\n",
      " [  52   13]]\n"
     ]
    }
   ],
   "source": [
    "cnf_matrix = confusion_matrix(Y_U2R_test, Y_U2R_pred2)\n",
    "print(\"Confusion Matrix: \\n\")\n",
    "print(cnf_matrix)"
   ]
  },
  {
   "cell_type": "code",
   "execution_count": 78,
   "id": "e14ad724",
   "metadata": {},
   "outputs": [
    {
     "data": {
      "text/plain": [
       "Text(0.5, 15.0, 'Predicted label')"
      ]
     },
     "execution_count": 78,
     "metadata": {},
     "output_type": "execute_result"
    },
    {
     "data": {
      "image/png": "[encoded data removed]",
      "text/plain": [
       "<Figure size 432x288 with 2 Axes>"
      ]
     },
     "metadata": {
      "needs_background": "light"
     },
     "output_type": "display_data"
    }
   ],
   "source": [
    "p = sns.heatmap(pd.DataFrame(cnf_matrix), annot=True, cmap=\"YlGnBu\" ,fmt='g')\n",
    "plt.title('Confusion matrix', y=1.1)\n",
    "plt.ylabel('Actual label')\n",
    "plt.xlabel('Predicted label')"
   ]
  },
  {
   "cell_type": "code",
   "execution_count": 79,
   "id": "af9293b5",
   "metadata": {},
   "outputs": [
    {
     "name": "stdout",
     "output_type": "stream",
     "text": [
      "Accuracy:  0.9943548387096774\n",
      "Precision:  0.7647058823529411\n",
      "Recall:  0.2\n",
      "F1-Score:  0.3170731707317074\n"
     ]
    }
   ],
   "source": [
    "accuracy_u2r = metrics.accuracy_score(Y_U2R_test,Y_U2R_pred2)\n",
    "print(\"Accuracy: \" ,accuracy_u2r)\n",
    "precision_u2r = metrics.precision_score(Y_U2R_test,Y_U2R_pred2,pos_label=4)\n",
    "print(\"Precision: \",precision_u2r)\n",
    "recall_u2r = metrics.recall_score(Y_U2R_test,Y_U2R_pred2,pos_label=4)\n",
    "print(\"Recall: \",recall_u2r)\n",
    "f1_u2r = metrics.f1_score(Y_U2R_test,Y_U2R_pred2,pos_label=4)\n",
    "print(\"F1-Score: \",f1_u2r)"
   ]
  },
  {
   "cell_type": "code",
   "execution_count": 80,
   "id": "e73ab8bb",
   "metadata": {},
   "outputs": [
    {
     "name": "stdout",
     "output_type": "stream",
     "text": [
      "\n",
      "Classification Report:\n",
      "              precision    recall  f1-score   support\n",
      "\n",
      "           0       0.99      1.00      1.00      9855\n",
      "           4       0.76      0.20      0.32        65\n",
      "\n",
      "    accuracy                           0.99      9920\n",
      "   macro avg       0.88      0.60      0.66      9920\n",
      "weighted avg       0.99      0.99      0.99      9920\n",
      "\n"
     ]
    }
   ],
   "source": [
    "print(\"\\nClassification Report:\")\n",
    "print(classification_report(Y_U2R_test, Y_U2R_pred2))"
   ]
  },
  {
   "cell_type": "markdown",
   "id": "df5332f0",
   "metadata": {},
   "source": [
    "## Comparison of the preformance metrics for DOS, PROBE, R2L and U2R"
   ]
  },
  {
   "cell_type": "code",
   "execution_count": 81,
   "id": "e78e3e6d",
   "metadata": {},
   "outputs": [
    {
     "data": {
      "image/png": "[encoded data removed]",
      "text/plain": [
       "<Figure size 432x288 with 1 Axes>"
      ]
     },
     "metadata": {
      "needs_background": "light"
     },
     "output_type": "display_data"
    }
   ],
   "source": [
    "accuracy = [accuracy_dos, accuracy_probe, accuracy_r2l, accuracy_u2r]\n",
    "precision = [precision_dos, precision_probe, precision_r2l, precision_u2r]\n",
    "recall = [recall_dos, recall_probe, recall_r2l, recall_u2r]\n",
    "f1 = [f1_dos, f1_probe, f1_r2l, f1_u2r]\n",
    "index = ['DOS', 'PROBE', 'R2L','U2R']\n",
    "data = pd.DataFrame({'accuracy': accuracy,'precision': precision,'recall': recall,'f1': f1}, index=index)\n",
    "ax = data.plot.bar(rot=0)"
   ]
  }
 ],
 "metadata": {
  "kernelspec": {
   "display_name": "Python 3",
   "language": "python",
   "name": "python3"
  },
  "language_info": {
   "codemirror_mode": {
    "name": "ipython",
    "version": 3
   },
   "file_extension": ".py",
   "mimetype": "text/x-python",
   "name": "python",
   "nbconvert_exporter": "python",
   "pygments_lexer": "ipython3",
   "version": "3.8.8"
  }
 },
 "nbformat": 4,
 "nbformat_minor": 5
}
